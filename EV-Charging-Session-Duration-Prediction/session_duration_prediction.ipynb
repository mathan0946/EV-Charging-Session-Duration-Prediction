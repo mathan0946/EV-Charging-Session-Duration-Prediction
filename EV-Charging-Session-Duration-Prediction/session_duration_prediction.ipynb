{
 "cells": [
  {
   "cell_type": "markdown",
   "id": "2f9a33db",
   "metadata": {},
   "source": [
    "# Importing the Libraries"
   ]
  },
  {
   "cell_type": "code",
   "execution_count": 1,
   "id": "f91db0d9",
   "metadata": {},
   "outputs": [],
   "source": [
    "import numpy as np\n",
    "import pandas as pd\n",
    "import matplotlib.pyplot as plt\n",
    "import seaborn as sns\n",
    "from sklearn.model_selection import train_test_split\n",
    "from sklearn.ensemble import RandomForestRegressor\n",
    "from sklearn import metrics\n",
    "from sklearn.ensemble import StackingRegressor\n",
    "from sklearn.ensemble import VotingRegressor\n",
    "from sklearn.metrics import mean_absolute_error\n",
    "from sklearn.metrics import mean_squared_error\n",
    "from math import sqrt\n",
    "from sklearn.preprocessing import StandardScaler\n",
    "from sklearn.svm import SVR\n",
    "from xgboost import XGBRegressor\n",
    "from keras.models import Sequential\n",
    "from keras.layers import Dense, BatchNormalization, Dropout, LSTM\n",
    "from sklearn.ensemble import IsolationForest"
   ]
  },
  {
   "cell_type": "markdown",
   "id": "4fdbf56f",
   "metadata": {},
   "source": [
    "# Data Collection and Processing"
   ]
  },
  {
   "cell_type": "code",
   "execution_count": 2,
   "id": "2cfc00ec",
   "metadata": {
    "scrolled": true
   },
   "outputs": [],
   "source": [
    "# loading the csv data to a Pandas DataFrame\n",
    "ev= pd.read_csv(r\"your_path_to_dataset\\dataset.csv\")"
   ]
  },
  {
   "cell_type": "code",
   "execution_count": 3,
   "id": "222c17db",
   "metadata": {},
   "outputs": [
    {
     "data": {
      "text/html": [
       "<div>\n",
       "<style scoped>\n",
       "    .dataframe tbody tr th:only-of-type {\n",
       "        vertical-align: middle;\n",
       "    }\n",
       "\n",
       "    .dataframe tbody tr th {\n",
       "        vertical-align: top;\n",
       "    }\n",
       "\n",
       "    .dataframe thead th {\n",
       "        text-align: right;\n",
       "    }\n",
       "</style>\n",
       "<table border=\"1\" class=\"dataframe\">\n",
       "  <thead>\n",
       "    <tr style=\"text-align: right;\">\n",
       "      <th></th>\n",
       "      <th>id</th>\n",
       "      <th>clusterId</th>\n",
       "      <th>connectionTime</th>\n",
       "      <th>Num.Rep.</th>\n",
       "      <th>disconnectTime</th>\n",
       "      <th>donechargingTime</th>\n",
       "      <th>SessionLength</th>\n",
       "      <th>Avg.Sess.</th>\n",
       "      <th>kWhDelivered</th>\n",
       "      <th>Avg.Cons.</th>\n",
       "      <th>...</th>\n",
       "      <th>Precip Type</th>\n",
       "      <th>temperature</th>\n",
       "      <th>Avg. Humidity</th>\n",
       "      <th>Avg Wind Speed(mph)</th>\n",
       "      <th>Wind Bearing(degrees)</th>\n",
       "      <th>Visibility(km)</th>\n",
       "      <th>Loud Cover</th>\n",
       "      <th>Pressure(millibar)</th>\n",
       "      <th>Battery_Pack Kwh</th>\n",
       "      <th>FastCharge_KmH</th>\n",
       "    </tr>\n",
       "  </thead>\n",
       "  <tbody>\n",
       "    <tr>\n",
       "      <th>0</th>\n",
       "      <td>5bc90cb9f9af8b0d7fe77cd2</td>\n",
       "      <td>39</td>\n",
       "      <td>Wed, 25 Apr 2018 11:08:04 GMT</td>\n",
       "      <td>11.13</td>\n",
       "      <td>Wed, 25 Apr 2018 13:20:10 GMT</td>\n",
       "      <td>Wed, 25 Apr 2018 13:21:10 GMT</td>\n",
       "      <td>2.20</td>\n",
       "      <td>3.55</td>\n",
       "      <td>7.93</td>\n",
       "      <td>6.44</td>\n",
       "      <td>...</td>\n",
       "      <td>rain</td>\n",
       "      <td>24.37</td>\n",
       "      <td>34.85</td>\n",
       "      <td>13.54</td>\n",
       "      <td>300</td>\n",
       "      <td>9.9</td>\n",
       "      <td>0</td>\n",
       "      <td>1004.55</td>\n",
       "      <td>70.0</td>\n",
       "      <td>940</td>\n",
       "    </tr>\n",
       "    <tr>\n",
       "      <th>1</th>\n",
       "      <td>5bc90cb9f9af8b0d7fe77cd3</td>\n",
       "      <td>39</td>\n",
       "      <td>Wed, 25 Apr 2018 13:45:10 GMT</td>\n",
       "      <td>13.75</td>\n",
       "      <td>Thu, 26 Apr 2018 00:56:16 GMT</td>\n",
       "      <td>Wed, 25 Apr 2018 16:44:15 GMT</td>\n",
       "      <td>11.19</td>\n",
       "      <td>3.55</td>\n",
       "      <td>10.01</td>\n",
       "      <td>6.44</td>\n",
       "      <td>...</td>\n",
       "      <td>rain</td>\n",
       "      <td>24.37</td>\n",
       "      <td>34.85</td>\n",
       "      <td>13.54</td>\n",
       "      <td>300</td>\n",
       "      <td>9.9</td>\n",
       "      <td>0</td>\n",
       "      <td>1004.55</td>\n",
       "      <td>45.0</td>\n",
       "      <td>250</td>\n",
       "    </tr>\n",
       "    <tr>\n",
       "      <th>2</th>\n",
       "      <td>5bc90cb9f9af8b0d7fe77cd4</td>\n",
       "      <td>39</td>\n",
       "      <td>Wed, 25 Apr 2018 13:45:50 GMT</td>\n",
       "      <td>13.76</td>\n",
       "      <td>Wed, 25 Apr 2018 23:04:45 GMT</td>\n",
       "      <td>Wed, 25 Apr 2018 14:51:44 GMT</td>\n",
       "      <td>10.33</td>\n",
       "      <td>3.54</td>\n",
       "      <td>5.26</td>\n",
       "      <td>6.44</td>\n",
       "      <td>...</td>\n",
       "      <td>rain</td>\n",
       "      <td>24.37</td>\n",
       "      <td>34.85</td>\n",
       "      <td>13.54</td>\n",
       "      <td>300</td>\n",
       "      <td>9.9</td>\n",
       "      <td>0</td>\n",
       "      <td>1004.55</td>\n",
       "      <td>75.0</td>\n",
       "      <td>620</td>\n",
       "    </tr>\n",
       "    <tr>\n",
       "      <th>3</th>\n",
       "      <td>5bc90cb9f9af8b0d7fe77cd5</td>\n",
       "      <td>39</td>\n",
       "      <td>Wed, 25 Apr 2018 14:37:06 GMT</td>\n",
       "      <td>14.62</td>\n",
       "      <td>Wed, 25 Apr 2018 23:55:34 GMT</td>\n",
       "      <td>Wed, 25 Apr 2018 16:05:22 GMT</td>\n",
       "      <td>9.31</td>\n",
       "      <td>3.55</td>\n",
       "      <td>5.18</td>\n",
       "      <td>6.44</td>\n",
       "      <td>...</td>\n",
       "      <td>rain</td>\n",
       "      <td>24.37</td>\n",
       "      <td>34.85</td>\n",
       "      <td>13.54</td>\n",
       "      <td>300</td>\n",
       "      <td>9.9</td>\n",
       "      <td>0</td>\n",
       "      <td>1004.55</td>\n",
       "      <td>74.0</td>\n",
       "      <td>560</td>\n",
       "    </tr>\n",
       "    <tr>\n",
       "      <th>4</th>\n",
       "      <td>5bc90cb9f9af8b0d7fe77cd6</td>\n",
       "      <td>39</td>\n",
       "      <td>Wed, 25 Apr 2018 14:40:34 GMT</td>\n",
       "      <td>14.68</td>\n",
       "      <td>Wed, 25 Apr 2018 23:03:12 GMT</td>\n",
       "      <td>Wed, 25 Apr 2018 17:40:30 GMT</td>\n",
       "      <td>8.38</td>\n",
       "      <td>3.55</td>\n",
       "      <td>10.12</td>\n",
       "      <td>6.44</td>\n",
       "      <td>...</td>\n",
       "      <td>rain</td>\n",
       "      <td>24.37</td>\n",
       "      <td>34.85</td>\n",
       "      <td>13.54</td>\n",
       "      <td>300</td>\n",
       "      <td>9.9</td>\n",
       "      <td>0</td>\n",
       "      <td>1004.55</td>\n",
       "      <td>28.5</td>\n",
       "      <td>190</td>\n",
       "    </tr>\n",
       "  </tbody>\n",
       "</table>\n",
       "<p>5 rows × 27 columns</p>\n",
       "</div>"
      ],
      "text/plain": [
       "                         id  clusterId                 connectionTime   \n",
       "0  5bc90cb9f9af8b0d7fe77cd2         39  Wed, 25 Apr 2018 11:08:04 GMT  \\\n",
       "1  5bc90cb9f9af8b0d7fe77cd3         39  Wed, 25 Apr 2018 13:45:10 GMT   \n",
       "2  5bc90cb9f9af8b0d7fe77cd4         39  Wed, 25 Apr 2018 13:45:50 GMT   \n",
       "3  5bc90cb9f9af8b0d7fe77cd5         39  Wed, 25 Apr 2018 14:37:06 GMT   \n",
       "4  5bc90cb9f9af8b0d7fe77cd6         39  Wed, 25 Apr 2018 14:40:34 GMT   \n",
       "\n",
       "   Num.Rep.                 disconnectTime               donechargingTime   \n",
       "0     11.13  Wed, 25 Apr 2018 13:20:10 GMT  Wed, 25 Apr 2018 13:21:10 GMT  \\\n",
       "1     13.75  Thu, 26 Apr 2018 00:56:16 GMT  Wed, 25 Apr 2018 16:44:15 GMT   \n",
       "2     13.76  Wed, 25 Apr 2018 23:04:45 GMT  Wed, 25 Apr 2018 14:51:44 GMT   \n",
       "3     14.62  Wed, 25 Apr 2018 23:55:34 GMT  Wed, 25 Apr 2018 16:05:22 GMT   \n",
       "4     14.68  Wed, 25 Apr 2018 23:03:12 GMT  Wed, 25 Apr 2018 17:40:30 GMT   \n",
       "\n",
       "   SessionLength  Avg.Sess.  kWhDelivered  Avg.Cons.  ... Precip Type   \n",
       "0           2.20       3.55          7.93       6.44  ...        rain  \\\n",
       "1          11.19       3.55         10.01       6.44  ...        rain   \n",
       "2          10.33       3.54          5.26       6.44  ...        rain   \n",
       "3           9.31       3.55          5.18       6.44  ...        rain   \n",
       "4           8.38       3.55         10.12       6.44  ...        rain   \n",
       "\n",
       "   temperature Avg. Humidity Avg Wind Speed(mph) Wind Bearing(degrees)   \n",
       "0        24.37         34.85               13.54                   300  \\\n",
       "1        24.37         34.85               13.54                   300   \n",
       "2        24.37         34.85               13.54                   300   \n",
       "3        24.37         34.85               13.54                   300   \n",
       "4        24.37         34.85               13.54                   300   \n",
       "\n",
       "   Visibility(km)  Loud Cover Pressure(millibar)  Battery_Pack Kwh   \n",
       "0             9.9           0            1004.55              70.0  \\\n",
       "1             9.9           0            1004.55              45.0   \n",
       "2             9.9           0            1004.55              75.0   \n",
       "3             9.9           0            1004.55              74.0   \n",
       "4             9.9           0            1004.55              28.5   \n",
       "\n",
       "   FastCharge_KmH  \n",
       "0             940  \n",
       "1             250  \n",
       "2             620  \n",
       "3             560  \n",
       "4             190  \n",
       "\n",
       "[5 rows x 27 columns]"
      ]
     },
     "execution_count": 3,
     "metadata": {},
     "output_type": "execute_result"
    }
   ],
   "source": [
    "# print first 5 rows in the dataframe\n",
    "ev.head()"
   ]
  },
  {
   "cell_type": "code",
   "execution_count": 4,
   "id": "3b7dbffb",
   "metadata": {},
   "outputs": [
    {
     "data": {
      "text/html": [
       "<div>\n",
       "<style scoped>\n",
       "    .dataframe tbody tr th:only-of-type {\n",
       "        vertical-align: middle;\n",
       "    }\n",
       "\n",
       "    .dataframe tbody tr th {\n",
       "        vertical-align: top;\n",
       "    }\n",
       "\n",
       "    .dataframe thead th {\n",
       "        text-align: right;\n",
       "    }\n",
       "</style>\n",
       "<table border=\"1\" class=\"dataframe\">\n",
       "  <thead>\n",
       "    <tr style=\"text-align: right;\">\n",
       "      <th></th>\n",
       "      <th>id</th>\n",
       "      <th>clusterId</th>\n",
       "      <th>connectionTime</th>\n",
       "      <th>Num.Rep.</th>\n",
       "      <th>disconnectTime</th>\n",
       "      <th>donechargingTime</th>\n",
       "      <th>SessionLength</th>\n",
       "      <th>Avg.Sess.</th>\n",
       "      <th>kWhDelivered</th>\n",
       "      <th>Avg.Cons.</th>\n",
       "      <th>...</th>\n",
       "      <th>Precip Type</th>\n",
       "      <th>temperature</th>\n",
       "      <th>Avg. Humidity</th>\n",
       "      <th>Avg Wind Speed(mph)</th>\n",
       "      <th>Wind Bearing(degrees)</th>\n",
       "      <th>Visibility(km)</th>\n",
       "      <th>Loud Cover</th>\n",
       "      <th>Pressure(millibar)</th>\n",
       "      <th>Battery_Pack Kwh</th>\n",
       "      <th>FastCharge_KmH</th>\n",
       "    </tr>\n",
       "  </thead>\n",
       "  <tbody>\n",
       "    <tr>\n",
       "      <th>1194</th>\n",
       "      <td>9543932</td>\n",
       "      <td>39</td>\n",
       "      <td>2015-08-03 16:45:16</td>\n",
       "      <td>16.0</td>\n",
       "      <td>2015-08-03 19:58:16</td>\n",
       "      <td>2015-08-03 19:58:16</td>\n",
       "      <td>3.22</td>\n",
       "      <td>2.57</td>\n",
       "      <td>1.82</td>\n",
       "      <td>3.62</td>\n",
       "      <td>...</td>\n",
       "      <td>rain</td>\n",
       "      <td>35.98</td>\n",
       "      <td>40.55</td>\n",
       "      <td>10.35</td>\n",
       "      <td>305</td>\n",
       "      <td>16.1</td>\n",
       "      <td>0</td>\n",
       "      <td>1005.18</td>\n",
       "      <td>45.0</td>\n",
       "      <td>260</td>\n",
       "    </tr>\n",
       "    <tr>\n",
       "      <th>1195</th>\n",
       "      <td>9851741</td>\n",
       "      <td>39</td>\n",
       "      <td>2015-08-04 19:00:42</td>\n",
       "      <td>19.0</td>\n",
       "      <td>2015-08-04 20:31:07</td>\n",
       "      <td>2015-08-04 20:31:07</td>\n",
       "      <td>1.51</td>\n",
       "      <td>2.41</td>\n",
       "      <td>4.73</td>\n",
       "      <td>4.07</td>\n",
       "      <td>...</td>\n",
       "      <td>rain</td>\n",
       "      <td>35.98</td>\n",
       "      <td>40.55</td>\n",
       "      <td>10.35</td>\n",
       "      <td>305</td>\n",
       "      <td>16.1</td>\n",
       "      <td>0</td>\n",
       "      <td>1005.18</td>\n",
       "      <td>65.0</td>\n",
       "      <td>345</td>\n",
       "    </tr>\n",
       "    <tr>\n",
       "      <th>1196</th>\n",
       "      <td>4852971</td>\n",
       "      <td>39</td>\n",
       "      <td>2015-08-05 12:18:20</td>\n",
       "      <td>12.0</td>\n",
       "      <td>2015-08-05 15:35:08</td>\n",
       "      <td>2015-08-05 15:35:08</td>\n",
       "      <td>3.28</td>\n",
       "      <td>2.70</td>\n",
       "      <td>3.69</td>\n",
       "      <td>3.85</td>\n",
       "      <td>...</td>\n",
       "      <td>rain</td>\n",
       "      <td>35.98</td>\n",
       "      <td>40.55</td>\n",
       "      <td>10.35</td>\n",
       "      <td>305</td>\n",
       "      <td>17.3</td>\n",
       "      <td>0</td>\n",
       "      <td>1005.18</td>\n",
       "      <td>118.0</td>\n",
       "      <td>670</td>\n",
       "    </tr>\n",
       "    <tr>\n",
       "      <th>1197</th>\n",
       "      <td>6431779</td>\n",
       "      <td>39</td>\n",
       "      <td>2015-08-06 13:53:58</td>\n",
       "      <td>13.0</td>\n",
       "      <td>2015-08-06 15:47:07</td>\n",
       "      <td>2015-08-06 15:47:07</td>\n",
       "      <td>1.89</td>\n",
       "      <td>2.42</td>\n",
       "      <td>3.82</td>\n",
       "      <td>3.93</td>\n",
       "      <td>...</td>\n",
       "      <td>rain</td>\n",
       "      <td>35.98</td>\n",
       "      <td>40.55</td>\n",
       "      <td>10.35</td>\n",
       "      <td>305</td>\n",
       "      <td>17.3</td>\n",
       "      <td>0</td>\n",
       "      <td>1005.18</td>\n",
       "      <td>28.0</td>\n",
       "      <td>215</td>\n",
       "    </tr>\n",
       "    <tr>\n",
       "      <th>1198</th>\n",
       "      <td>7870286</td>\n",
       "      <td>39</td>\n",
       "      <td>2015-08-07 12:05:16</td>\n",
       "      <td>12.0</td>\n",
       "      <td>2015-08-07 15:02:08</td>\n",
       "      <td>2015-08-07 15:02:08</td>\n",
       "      <td>2.95</td>\n",
       "      <td>2.95</td>\n",
       "      <td>4.03</td>\n",
       "      <td>4.03</td>\n",
       "      <td>...</td>\n",
       "      <td>rain</td>\n",
       "      <td>35.98</td>\n",
       "      <td>40.55</td>\n",
       "      <td>10.35</td>\n",
       "      <td>305</td>\n",
       "      <td>17.3</td>\n",
       "      <td>0</td>\n",
       "      <td>1005.18</td>\n",
       "      <td>70.0</td>\n",
       "      <td>800</td>\n",
       "    </tr>\n",
       "  </tbody>\n",
       "</table>\n",
       "<p>5 rows × 27 columns</p>\n",
       "</div>"
      ],
      "text/plain": [
       "           id  clusterId       connectionTime  Num.Rep.       disconnectTime   \n",
       "1194  9543932         39  2015-08-03 16:45:16      16.0  2015-08-03 19:58:16  \\\n",
       "1195  9851741         39  2015-08-04 19:00:42      19.0  2015-08-04 20:31:07   \n",
       "1196  4852971         39  2015-08-05 12:18:20      12.0  2015-08-05 15:35:08   \n",
       "1197  6431779         39  2015-08-06 13:53:58      13.0  2015-08-06 15:47:07   \n",
       "1198  7870286         39  2015-08-07 12:05:16      12.0  2015-08-07 15:02:08   \n",
       "\n",
       "         donechargingTime  SessionLength  Avg.Sess.  kWhDelivered  Avg.Cons.   \n",
       "1194  2015-08-03 19:58:16           3.22       2.57          1.82       3.62  \\\n",
       "1195  2015-08-04 20:31:07           1.51       2.41          4.73       4.07   \n",
       "1196  2015-08-05 15:35:08           3.28       2.70          3.69       3.85   \n",
       "1197  2015-08-06 15:47:07           1.89       2.42          3.82       3.93   \n",
       "1198  2015-08-07 15:02:08           2.95       2.95          4.03       4.03   \n",
       "\n",
       "      ... Precip Type  temperature Avg. Humidity Avg Wind Speed(mph)   \n",
       "1194  ...        rain        35.98         40.55               10.35  \\\n",
       "1195  ...        rain        35.98         40.55               10.35   \n",
       "1196  ...        rain        35.98         40.55               10.35   \n",
       "1197  ...        rain        35.98         40.55               10.35   \n",
       "1198  ...        rain        35.98         40.55               10.35   \n",
       "\n",
       "     Wind Bearing(degrees)  Visibility(km)  Loud Cover Pressure(millibar)   \n",
       "1194                   305            16.1           0            1005.18  \\\n",
       "1195                   305            16.1           0            1005.18   \n",
       "1196                   305            17.3           0            1005.18   \n",
       "1197                   305            17.3           0            1005.18   \n",
       "1198                   305            17.3           0            1005.18   \n",
       "\n",
       "      Battery_Pack Kwh  FastCharge_KmH  \n",
       "1194              45.0             260  \n",
       "1195              65.0             345  \n",
       "1196             118.0             670  \n",
       "1197              28.0             215  \n",
       "1198              70.0             800  \n",
       "\n",
       "[5 rows x 27 columns]"
      ]
     },
     "execution_count": 4,
     "metadata": {},
     "output_type": "execute_result"
    }
   ],
   "source": [
    "# print last 5 rows of the dataframe\n",
    "ev.tail()"
   ]
  },
  {
   "cell_type": "code",
   "execution_count": 6,
   "id": "8e1d13d8",
   "metadata": {},
   "outputs": [
    {
     "name": "stdout",
     "output_type": "stream",
     "text": [
      "<class 'pandas.core.frame.DataFrame'>\n",
      "RangeIndex: 1199 entries, 0 to 1198\n",
      "Data columns (total 27 columns):\n",
      " #   Column                 Non-Null Count  Dtype  \n",
      "---  ------                 --------------  -----  \n",
      " 0   id                     1199 non-null   object \n",
      " 1   clusterId              1199 non-null   int64  \n",
      " 2   connectionTime         1199 non-null   object \n",
      " 3   Num.Rep.               1199 non-null   float64\n",
      " 4   disconnectTime         1199 non-null   object \n",
      " 5   donechargingTime       1198 non-null   object \n",
      " 6   SessionLength          1199 non-null   float64\n",
      " 7   Avg.Sess.              1199 non-null   float64\n",
      " 8   kWhDelivered           1199 non-null   float64\n",
      " 9   Avg.Cons.              1199 non-null   float64\n",
      " 10  sessionId              1199 non-null   object \n",
      " 11  siteId                 1199 non-null   int64  \n",
      " 12  spaceID                1199 non-null   object \n",
      " 13  stationID              1199 non-null   object \n",
      " 14  timezone               1199 non-null   object \n",
      " 15  userID                 0 non-null      float64\n",
      " 16  userInput              0 non-null      float64\n",
      " 17  Precip Type            1199 non-null   object \n",
      " 18  temperature            1199 non-null   float64\n",
      " 19  Avg. Humidity          1199 non-null   float64\n",
      " 20  Avg Wind Speed(mph)    1199 non-null   float64\n",
      " 21  Wind Bearing(degrees)  1199 non-null   int64  \n",
      " 22  Visibility(km)         1199 non-null   float64\n",
      " 23  Loud Cover             1199 non-null   int64  \n",
      " 24  Pressure(millibar)     1199 non-null   float64\n",
      " 25  Battery_Pack Kwh       1199 non-null   float64\n",
      " 26  FastCharge_KmH         1199 non-null   int64  \n",
      "dtypes: float64(13), int64(5), object(9)\n",
      "memory usage: 253.0+ KB\n"
     ]
    }
   ],
   "source": [
    "# getting some basic informations about the data\n",
    "ev.info()"
   ]
  },
  {
   "cell_type": "code",
   "execution_count": 7,
   "id": "02415370",
   "metadata": {},
   "outputs": [
    {
     "data": {
      "text/plain": [
       "id                          0\n",
       "clusterId                   0\n",
       "connectionTime              0\n",
       "Num.Rep.                    0\n",
       "disconnectTime              0\n",
       "donechargingTime            1\n",
       "SessionLength               0\n",
       "Avg.Sess.                   0\n",
       "kWhDelivered                0\n",
       "Avg.Cons.                   0\n",
       "sessionId                   0\n",
       "siteId                      0\n",
       "spaceID                     0\n",
       "stationID                   0\n",
       "timezone                    0\n",
       "userID                   1199\n",
       "userInput                1199\n",
       "Precip Type                 0\n",
       "temperature                 0\n",
       "Avg. Humidity               0\n",
       "Avg Wind Speed(mph)         0\n",
       "Wind Bearing(degrees)       0\n",
       "Visibility(km)              0\n",
       "Loud Cover                  0\n",
       "Pressure(millibar)          0\n",
       "Battery_Pack Kwh            0\n",
       "FastCharge_KmH              0\n",
       "dtype: int64"
      ]
     },
     "execution_count": 7,
     "metadata": {},
     "output_type": "execute_result"
    }
   ],
   "source": [
    "# checking the number of missing values\n",
    "ev.isnull().sum()"
   ]
  },
  {
   "cell_type": "code",
   "execution_count": 8,
   "id": "1bea6d0b",
   "metadata": {},
   "outputs": [],
   "source": [
    "ev[\"donechargingTime\"] = ev[\"donechargingTime\"].fillna(ev[\"donechargingTime\"].mode()[0])"
   ]
  },
  {
   "cell_type": "code",
   "execution_count": 9,
   "id": "5cde64ca",
   "metadata": {},
   "outputs": [
    {
     "data": {
      "text/html": [
       "<div>\n",
       "<style scoped>\n",
       "    .dataframe tbody tr th:only-of-type {\n",
       "        vertical-align: middle;\n",
       "    }\n",
       "\n",
       "    .dataframe tbody tr th {\n",
       "        vertical-align: top;\n",
       "    }\n",
       "\n",
       "    .dataframe thead th {\n",
       "        text-align: right;\n",
       "    }\n",
       "</style>\n",
       "<table border=\"1\" class=\"dataframe\">\n",
       "  <thead>\n",
       "    <tr style=\"text-align: right;\">\n",
       "      <th></th>\n",
       "      <th>EV</th>\n",
       "    </tr>\n",
       "  </thead>\n",
       "  <tbody>\n",
       "    <tr>\n",
       "      <th>userID</th>\n",
       "      <td>1199</td>\n",
       "    </tr>\n",
       "    <tr>\n",
       "      <th>userInput</th>\n",
       "      <td>1199</td>\n",
       "    </tr>\n",
       "  </tbody>\n",
       "</table>\n",
       "</div>"
      ],
      "text/plain": [
       "             EV\n",
       "userID     1199\n",
       "userInput  1199"
      ]
     },
     "execution_count": 9,
     "metadata": {},
     "output_type": "execute_result"
    }
   ],
   "source": [
    "NAs = pd.concat([ev.isnull().sum()], axis=1, keys=[\"EV\"])\n",
    "NAs[NAs.sum(axis=1) > 0]"
   ]
  },
  {
   "cell_type": "code",
   "execution_count": 10,
   "id": "8e6700d7",
   "metadata": {},
   "outputs": [
    {
     "data": {
      "text/plain": [
       "0      NaN\n",
       "1      NaN\n",
       "2      NaN\n",
       "3      NaN\n",
       "4      NaN\n",
       "        ..\n",
       "1194   NaN\n",
       "1195   NaN\n",
       "1196   NaN\n",
       "1197   NaN\n",
       "1198   NaN\n",
       "Name: userID, Length: 1199, dtype: float64"
      ]
     },
     "execution_count": 10,
     "metadata": {},
     "output_type": "execute_result"
    }
   ],
   "source": [
    "ev.pop(\"userID\")"
   ]
  },
  {
   "cell_type": "code",
   "execution_count": 11,
   "id": "ba30e321",
   "metadata": {},
   "outputs": [
    {
     "data": {
      "text/plain": [
       "0      NaN\n",
       "1      NaN\n",
       "2      NaN\n",
       "3      NaN\n",
       "4      NaN\n",
       "        ..\n",
       "1194   NaN\n",
       "1195   NaN\n",
       "1196   NaN\n",
       "1197   NaN\n",
       "1198   NaN\n",
       "Name: userInput, Length: 1199, dtype: float64"
      ]
     },
     "execution_count": 11,
     "metadata": {},
     "output_type": "execute_result"
    }
   ],
   "source": [
    "ev.pop(\"userInput\")"
   ]
  },
  {
   "cell_type": "code",
   "execution_count": 12,
   "id": "6cc15c35",
   "metadata": {},
   "outputs": [],
   "source": [
    "ev.drop(['id','clusterId','connectionTime','sessionId','spaceID','stationID','disconnectTime','siteId','donechargingTime','timezone','Precip Type','Loud Cover'],axis=1,inplace=True)"
   ]
  },
  {
   "cell_type": "markdown",
   "id": "2e9f2ff9",
   "metadata": {},
   "source": [
    "#How does data look matematically"
   ]
  },
  {
   "cell_type": "code",
   "execution_count": 14,
   "id": "b59babcc",
   "metadata": {},
   "outputs": [
    {
     "data": {
      "text/plain": [
       "0"
      ]
     },
     "execution_count": 14,
     "metadata": {},
     "output_type": "execute_result"
    }
   ],
   "source": [
    "#Are there duplicate values\n",
    "ev.duplicated().sum()"
   ]
  },
  {
   "cell_type": "code",
   "execution_count": 15,
   "id": "eafd458d",
   "metadata": {},
   "outputs": [
    {
     "data": {
      "text/html": [
       "<div>\n",
       "<style scoped>\n",
       "    .dataframe tbody tr th:only-of-type {\n",
       "        vertical-align: middle;\n",
       "    }\n",
       "\n",
       "    .dataframe tbody tr th {\n",
       "        vertical-align: top;\n",
       "    }\n",
       "\n",
       "    .dataframe thead th {\n",
       "        text-align: right;\n",
       "    }\n",
       "</style>\n",
       "<table border=\"1\" class=\"dataframe\">\n",
       "  <thead>\n",
       "    <tr style=\"text-align: right;\">\n",
       "      <th></th>\n",
       "      <th>Num.Rep.</th>\n",
       "      <th>SessionLength</th>\n",
       "      <th>Avg.Sess.</th>\n",
       "      <th>kWhDelivered</th>\n",
       "      <th>Avg.Cons.</th>\n",
       "      <th>temperature</th>\n",
       "      <th>Avg. Humidity</th>\n",
       "      <th>Avg Wind Speed(mph)</th>\n",
       "      <th>Wind Bearing(degrees)</th>\n",
       "      <th>Visibility(km)</th>\n",
       "      <th>Pressure(millibar)</th>\n",
       "      <th>Battery_Pack Kwh</th>\n",
       "      <th>FastCharge_KmH</th>\n",
       "    </tr>\n",
       "  </thead>\n",
       "  <tbody>\n",
       "    <tr>\n",
       "      <th>Num.Rep.</th>\n",
       "      <td>1.000000</td>\n",
       "      <td>-0.071010</td>\n",
       "      <td>-0.107489</td>\n",
       "      <td>-0.130661</td>\n",
       "      <td>-0.040154</td>\n",
       "      <td>-0.005883</td>\n",
       "      <td>0.000890</td>\n",
       "      <td>0.082359</td>\n",
       "      <td>-0.102735</td>\n",
       "      <td>-0.177679</td>\n",
       "      <td>-0.118644</td>\n",
       "      <td>0.020703</td>\n",
       "      <td>0.008337</td>\n",
       "    </tr>\n",
       "    <tr>\n",
       "      <th>SessionLength</th>\n",
       "      <td>-0.071010</td>\n",
       "      <td>1.000000</td>\n",
       "      <td>0.380336</td>\n",
       "      <td>0.349359</td>\n",
       "      <td>0.288598</td>\n",
       "      <td>-0.315319</td>\n",
       "      <td>-0.303165</td>\n",
       "      <td>-0.081812</td>\n",
       "      <td>0.114141</td>\n",
       "      <td>0.003940</td>\n",
       "      <td>0.259002</td>\n",
       "      <td>-0.054652</td>\n",
       "      <td>-0.079983</td>\n",
       "    </tr>\n",
       "    <tr>\n",
       "      <th>Avg.Sess.</th>\n",
       "      <td>-0.107489</td>\n",
       "      <td>0.380336</td>\n",
       "      <td>1.000000</td>\n",
       "      <td>0.227223</td>\n",
       "      <td>0.773066</td>\n",
       "      <td>-0.835803</td>\n",
       "      <td>-0.863568</td>\n",
       "      <td>-0.266609</td>\n",
       "      <td>0.276224</td>\n",
       "      <td>-0.143602</td>\n",
       "      <td>0.485590</td>\n",
       "      <td>-0.081316</td>\n",
       "      <td>-0.156699</td>\n",
       "    </tr>\n",
       "    <tr>\n",
       "      <th>kWhDelivered</th>\n",
       "      <td>-0.130661</td>\n",
       "      <td>0.349359</td>\n",
       "      <td>0.227223</td>\n",
       "      <td>1.000000</td>\n",
       "      <td>0.231452</td>\n",
       "      <td>-0.262378</td>\n",
       "      <td>-0.233600</td>\n",
       "      <td>-0.025725</td>\n",
       "      <td>-0.099936</td>\n",
       "      <td>0.078063</td>\n",
       "      <td>0.249317</td>\n",
       "      <td>-0.026580</td>\n",
       "      <td>-0.006242</td>\n",
       "    </tr>\n",
       "    <tr>\n",
       "      <th>Avg.Cons.</th>\n",
       "      <td>-0.040154</td>\n",
       "      <td>0.288598</td>\n",
       "      <td>0.773066</td>\n",
       "      <td>0.231452</td>\n",
       "      <td>1.000000</td>\n",
       "      <td>-0.698765</td>\n",
       "      <td>-0.849067</td>\n",
       "      <td>-0.548857</td>\n",
       "      <td>0.087399</td>\n",
       "      <td>-0.116635</td>\n",
       "      <td>0.415482</td>\n",
       "      <td>-0.032511</td>\n",
       "      <td>-0.099096</td>\n",
       "    </tr>\n",
       "    <tr>\n",
       "      <th>temperature</th>\n",
       "      <td>-0.005883</td>\n",
       "      <td>-0.315319</td>\n",
       "      <td>-0.835803</td>\n",
       "      <td>-0.262378</td>\n",
       "      <td>-0.698765</td>\n",
       "      <td>1.000000</td>\n",
       "      <td>0.850414</td>\n",
       "      <td>0.100510</td>\n",
       "      <td>-0.046195</td>\n",
       "      <td>0.259534</td>\n",
       "      <td>-0.574374</td>\n",
       "      <td>0.031727</td>\n",
       "      <td>0.119235</td>\n",
       "    </tr>\n",
       "    <tr>\n",
       "      <th>Avg. Humidity</th>\n",
       "      <td>0.000890</td>\n",
       "      <td>-0.303165</td>\n",
       "      <td>-0.863568</td>\n",
       "      <td>-0.233600</td>\n",
       "      <td>-0.849067</td>\n",
       "      <td>0.850414</td>\n",
       "      <td>1.000000</td>\n",
       "      <td>0.396623</td>\n",
       "      <td>-0.181635</td>\n",
       "      <td>0.109862</td>\n",
       "      <td>-0.507359</td>\n",
       "      <td>0.019863</td>\n",
       "      <td>0.127938</td>\n",
       "    </tr>\n",
       "    <tr>\n",
       "      <th>Avg Wind Speed(mph)</th>\n",
       "      <td>0.082359</td>\n",
       "      <td>-0.081812</td>\n",
       "      <td>-0.266609</td>\n",
       "      <td>-0.025725</td>\n",
       "      <td>-0.548857</td>\n",
       "      <td>0.100510</td>\n",
       "      <td>0.396623</td>\n",
       "      <td>1.000000</td>\n",
       "      <td>-0.256970</td>\n",
       "      <td>-0.121604</td>\n",
       "      <td>-0.133499</td>\n",
       "      <td>0.018198</td>\n",
       "      <td>0.020462</td>\n",
       "    </tr>\n",
       "    <tr>\n",
       "      <th>Wind Bearing(degrees)</th>\n",
       "      <td>-0.102735</td>\n",
       "      <td>0.114141</td>\n",
       "      <td>0.276224</td>\n",
       "      <td>-0.099936</td>\n",
       "      <td>0.087399</td>\n",
       "      <td>-0.046195</td>\n",
       "      <td>-0.181635</td>\n",
       "      <td>-0.256970</td>\n",
       "      <td>1.000000</td>\n",
       "      <td>-0.049020</td>\n",
       "      <td>-0.112676</td>\n",
       "      <td>-0.056938</td>\n",
       "      <td>-0.071260</td>\n",
       "    </tr>\n",
       "    <tr>\n",
       "      <th>Visibility(km)</th>\n",
       "      <td>-0.177679</td>\n",
       "      <td>0.003940</td>\n",
       "      <td>-0.143602</td>\n",
       "      <td>0.078063</td>\n",
       "      <td>-0.116635</td>\n",
       "      <td>0.259534</td>\n",
       "      <td>0.109862</td>\n",
       "      <td>-0.121604</td>\n",
       "      <td>-0.049020</td>\n",
       "      <td>1.000000</td>\n",
       "      <td>0.210063</td>\n",
       "      <td>0.057092</td>\n",
       "      <td>0.043039</td>\n",
       "    </tr>\n",
       "    <tr>\n",
       "      <th>Pressure(millibar)</th>\n",
       "      <td>-0.118644</td>\n",
       "      <td>0.259002</td>\n",
       "      <td>0.485590</td>\n",
       "      <td>0.249317</td>\n",
       "      <td>0.415482</td>\n",
       "      <td>-0.574374</td>\n",
       "      <td>-0.507359</td>\n",
       "      <td>-0.133499</td>\n",
       "      <td>-0.112676</td>\n",
       "      <td>0.210063</td>\n",
       "      <td>1.000000</td>\n",
       "      <td>-0.014193</td>\n",
       "      <td>-0.024295</td>\n",
       "    </tr>\n",
       "    <tr>\n",
       "      <th>Battery_Pack Kwh</th>\n",
       "      <td>0.020703</td>\n",
       "      <td>-0.054652</td>\n",
       "      <td>-0.081316</td>\n",
       "      <td>-0.026580</td>\n",
       "      <td>-0.032511</td>\n",
       "      <td>0.031727</td>\n",
       "      <td>0.019863</td>\n",
       "      <td>0.018198</td>\n",
       "      <td>-0.056938</td>\n",
       "      <td>0.057092</td>\n",
       "      <td>-0.014193</td>\n",
       "      <td>1.000000</td>\n",
       "      <td>0.105323</td>\n",
       "    </tr>\n",
       "    <tr>\n",
       "      <th>FastCharge_KmH</th>\n",
       "      <td>0.008337</td>\n",
       "      <td>-0.079983</td>\n",
       "      <td>-0.156699</td>\n",
       "      <td>-0.006242</td>\n",
       "      <td>-0.099096</td>\n",
       "      <td>0.119235</td>\n",
       "      <td>0.127938</td>\n",
       "      <td>0.020462</td>\n",
       "      <td>-0.071260</td>\n",
       "      <td>0.043039</td>\n",
       "      <td>-0.024295</td>\n",
       "      <td>0.105323</td>\n",
       "      <td>1.000000</td>\n",
       "    </tr>\n",
       "  </tbody>\n",
       "</table>\n",
       "</div>"
      ],
      "text/plain": [
       "                       Num.Rep.  SessionLength  Avg.Sess.  kWhDelivered   \n",
       "Num.Rep.               1.000000      -0.071010  -0.107489     -0.130661  \\\n",
       "SessionLength         -0.071010       1.000000   0.380336      0.349359   \n",
       "Avg.Sess.             -0.107489       0.380336   1.000000      0.227223   \n",
       "kWhDelivered          -0.130661       0.349359   0.227223      1.000000   \n",
       "Avg.Cons.             -0.040154       0.288598   0.773066      0.231452   \n",
       "temperature           -0.005883      -0.315319  -0.835803     -0.262378   \n",
       "Avg. Humidity          0.000890      -0.303165  -0.863568     -0.233600   \n",
       "Avg Wind Speed(mph)    0.082359      -0.081812  -0.266609     -0.025725   \n",
       "Wind Bearing(degrees) -0.102735       0.114141   0.276224     -0.099936   \n",
       "Visibility(km)        -0.177679       0.003940  -0.143602      0.078063   \n",
       "Pressure(millibar)    -0.118644       0.259002   0.485590      0.249317   \n",
       "Battery_Pack Kwh       0.020703      -0.054652  -0.081316     -0.026580   \n",
       "FastCharge_KmH         0.008337      -0.079983  -0.156699     -0.006242   \n",
       "\n",
       "                       Avg.Cons.  temperature  Avg. Humidity   \n",
       "Num.Rep.               -0.040154    -0.005883       0.000890  \\\n",
       "SessionLength           0.288598    -0.315319      -0.303165   \n",
       "Avg.Sess.               0.773066    -0.835803      -0.863568   \n",
       "kWhDelivered            0.231452    -0.262378      -0.233600   \n",
       "Avg.Cons.               1.000000    -0.698765      -0.849067   \n",
       "temperature            -0.698765     1.000000       0.850414   \n",
       "Avg. Humidity          -0.849067     0.850414       1.000000   \n",
       "Avg Wind Speed(mph)    -0.548857     0.100510       0.396623   \n",
       "Wind Bearing(degrees)   0.087399    -0.046195      -0.181635   \n",
       "Visibility(km)         -0.116635     0.259534       0.109862   \n",
       "Pressure(millibar)      0.415482    -0.574374      -0.507359   \n",
       "Battery_Pack Kwh       -0.032511     0.031727       0.019863   \n",
       "FastCharge_KmH         -0.099096     0.119235       0.127938   \n",
       "\n",
       "                       Avg Wind Speed(mph)  Wind Bearing(degrees)   \n",
       "Num.Rep.                          0.082359              -0.102735  \\\n",
       "SessionLength                    -0.081812               0.114141   \n",
       "Avg.Sess.                        -0.266609               0.276224   \n",
       "kWhDelivered                     -0.025725              -0.099936   \n",
       "Avg.Cons.                        -0.548857               0.087399   \n",
       "temperature                       0.100510              -0.046195   \n",
       "Avg. Humidity                     0.396623              -0.181635   \n",
       "Avg Wind Speed(mph)               1.000000              -0.256970   \n",
       "Wind Bearing(degrees)            -0.256970               1.000000   \n",
       "Visibility(km)                   -0.121604              -0.049020   \n",
       "Pressure(millibar)               -0.133499              -0.112676   \n",
       "Battery_Pack Kwh                  0.018198              -0.056938   \n",
       "FastCharge_KmH                    0.020462              -0.071260   \n",
       "\n",
       "                       Visibility(km)  Pressure(millibar)  Battery_Pack Kwh   \n",
       "Num.Rep.                    -0.177679           -0.118644          0.020703  \\\n",
       "SessionLength                0.003940            0.259002         -0.054652   \n",
       "Avg.Sess.                   -0.143602            0.485590         -0.081316   \n",
       "kWhDelivered                 0.078063            0.249317         -0.026580   \n",
       "Avg.Cons.                   -0.116635            0.415482         -0.032511   \n",
       "temperature                  0.259534           -0.574374          0.031727   \n",
       "Avg. Humidity                0.109862           -0.507359          0.019863   \n",
       "Avg Wind Speed(mph)         -0.121604           -0.133499          0.018198   \n",
       "Wind Bearing(degrees)       -0.049020           -0.112676         -0.056938   \n",
       "Visibility(km)               1.000000            0.210063          0.057092   \n",
       "Pressure(millibar)           0.210063            1.000000         -0.014193   \n",
       "Battery_Pack Kwh             0.057092           -0.014193          1.000000   \n",
       "FastCharge_KmH               0.043039           -0.024295          0.105323   \n",
       "\n",
       "                       FastCharge_KmH  \n",
       "Num.Rep.                     0.008337  \n",
       "SessionLength               -0.079983  \n",
       "Avg.Sess.                   -0.156699  \n",
       "kWhDelivered                -0.006242  \n",
       "Avg.Cons.                   -0.099096  \n",
       "temperature                  0.119235  \n",
       "Avg. Humidity                0.127938  \n",
       "Avg Wind Speed(mph)          0.020462  \n",
       "Wind Bearing(degrees)       -0.071260  \n",
       "Visibility(km)               0.043039  \n",
       "Pressure(millibar)          -0.024295  \n",
       "Battery_Pack Kwh             0.105323  \n",
       "FastCharge_KmH               1.000000  "
      ]
     },
     "execution_count": 15,
     "metadata": {},
     "output_type": "execute_result"
    }
   ],
   "source": [
    "#How is the correlation between columns\n",
    "ev.corr()"
   ]
  },
  {
   "cell_type": "code",
   "execution_count": 16,
   "id": "6b01c8c2",
   "metadata": {},
   "outputs": [],
   "source": [
    "correlation = ev.corr()"
   ]
  },
  {
   "cell_type": "code",
   "execution_count": 18,
   "id": "ca2210f1",
   "metadata": {},
   "outputs": [
    {
     "name": "stdout",
     "output_type": "stream",
     "text": [
      "Num.Rep.                -0.071010\n",
      "SessionLength            1.000000\n",
      "Avg.Sess.                0.380336\n",
      "kWhDelivered             0.349359\n",
      "Avg.Cons.                0.288598\n",
      "temperature             -0.315319\n",
      "Avg. Humidity           -0.303165\n",
      "Avg Wind Speed(mph)     -0.081812\n",
      "Wind Bearing(degrees)    0.114141\n",
      "Visibility(km)           0.003940\n",
      "Pressure(millibar)       0.259002\n",
      "Battery_Pack Kwh        -0.054652\n",
      "FastCharge_KmH          -0.079983\n",
      "Name: SessionLength, dtype: float64\n"
     ]
    }
   ],
   "source": [
    "print(correlation['SessionLength'])"
   ]
  },
  {
   "cell_type": "code",
   "execution_count": 20,
   "id": "da2e1a18",
   "metadata": {},
   "outputs": [
    {
     "name": "stdout",
     "output_type": "stream",
     "text": [
      "Num.Rep.                -0.130661\n",
      "SessionLength            0.349359\n",
      "Avg.Sess.                0.227223\n",
      "kWhDelivered             1.000000\n",
      "Avg.Cons.                0.231452\n",
      "temperature             -0.262378\n",
      "Avg. Humidity           -0.233600\n",
      "Avg Wind Speed(mph)     -0.025725\n",
      "Wind Bearing(degrees)   -0.099936\n",
      "Visibility(km)           0.078063\n",
      "Pressure(millibar)       0.249317\n",
      "Battery_Pack Kwh        -0.026580\n",
      "FastCharge_KmH          -0.006242\n",
      "Name: kWhDelivered, dtype: float64\n"
     ]
    }
   ],
   "source": [
    "print(correlation['kWhDelivered'])"
   ]
  },
  {
   "cell_type": "code",
   "execution_count": 22,
   "id": "c89908e9",
   "metadata": {},
   "outputs": [
    {
     "name": "stderr",
     "output_type": "stream",
     "text": [
      "C:\\Users\\Dell\\AppData\\Local\\Programs\\Python\\Python311\\Lib\\site-packages\\sklearn\\base.py:439: UserWarning: X does not have valid feature names, but IsolationForest was fitted with feature names\n",
      "  warnings.warn(\n"
     ]
    },
    {
     "data": {
      "text/html": [
       "<style>#sk-container-id-1 {color: black;background-color: white;}#sk-container-id-1 pre{padding: 0;}#sk-container-id-1 div.sk-toggleable {background-color: white;}#sk-container-id-1 label.sk-toggleable__label {cursor: pointer;display: block;width: 100%;margin-bottom: 0;padding: 0.3em;box-sizing: border-box;text-align: center;}#sk-container-id-1 label.sk-toggleable__label-arrow:before {content: \"▸\";float: left;margin-right: 0.25em;color: #696969;}#sk-container-id-1 label.sk-toggleable__label-arrow:hover:before {color: black;}#sk-container-id-1 div.sk-estimator:hover label.sk-toggleable__label-arrow:before {color: black;}#sk-container-id-1 div.sk-toggleable__content {max-height: 0;max-width: 0;overflow: hidden;text-align: left;background-color: #f0f8ff;}#sk-container-id-1 div.sk-toggleable__content pre {margin: 0.2em;color: black;border-radius: 0.25em;background-color: #f0f8ff;}#sk-container-id-1 input.sk-toggleable__control:checked~div.sk-toggleable__content {max-height: 200px;max-width: 100%;overflow: auto;}#sk-container-id-1 input.sk-toggleable__control:checked~label.sk-toggleable__label-arrow:before {content: \"▾\";}#sk-container-id-1 div.sk-estimator input.sk-toggleable__control:checked~label.sk-toggleable__label {background-color: #d4ebff;}#sk-container-id-1 div.sk-label input.sk-toggleable__control:checked~label.sk-toggleable__label {background-color: #d4ebff;}#sk-container-id-1 input.sk-hidden--visually {border: 0;clip: rect(1px 1px 1px 1px);clip: rect(1px, 1px, 1px, 1px);height: 1px;margin: -1px;overflow: hidden;padding: 0;position: absolute;width: 1px;}#sk-container-id-1 div.sk-estimator {font-family: monospace;background-color: #f0f8ff;border: 1px dotted black;border-radius: 0.25em;box-sizing: border-box;margin-bottom: 0.5em;}#sk-container-id-1 div.sk-estimator:hover {background-color: #d4ebff;}#sk-container-id-1 div.sk-parallel-item::after {content: \"\";width: 100%;border-bottom: 1px solid gray;flex-grow: 1;}#sk-container-id-1 div.sk-label:hover label.sk-toggleable__label {background-color: #d4ebff;}#sk-container-id-1 div.sk-serial::before {content: \"\";position: absolute;border-left: 1px solid gray;box-sizing: border-box;top: 0;bottom: 0;left: 50%;z-index: 0;}#sk-container-id-1 div.sk-serial {display: flex;flex-direction: column;align-items: center;background-color: white;padding-right: 0.2em;padding-left: 0.2em;position: relative;}#sk-container-id-1 div.sk-item {position: relative;z-index: 1;}#sk-container-id-1 div.sk-parallel {display: flex;align-items: stretch;justify-content: center;background-color: white;position: relative;}#sk-container-id-1 div.sk-item::before, #sk-container-id-1 div.sk-parallel-item::before {content: \"\";position: absolute;border-left: 1px solid gray;box-sizing: border-box;top: 0;bottom: 0;left: 50%;z-index: -1;}#sk-container-id-1 div.sk-parallel-item {display: flex;flex-direction: column;z-index: 1;position: relative;background-color: white;}#sk-container-id-1 div.sk-parallel-item:first-child::after {align-self: flex-end;width: 50%;}#sk-container-id-1 div.sk-parallel-item:last-child::after {align-self: flex-start;width: 50%;}#sk-container-id-1 div.sk-parallel-item:only-child::after {width: 0;}#sk-container-id-1 div.sk-dashed-wrapped {border: 1px dashed gray;margin: 0 0.4em 0.5em 0.4em;box-sizing: border-box;padding-bottom: 0.4em;background-color: white;}#sk-container-id-1 div.sk-label label {font-family: monospace;font-weight: bold;display: inline-block;line-height: 1.2em;}#sk-container-id-1 div.sk-label-container {text-align: center;}#sk-container-id-1 div.sk-container {/* jupyter's `normalize.less` sets `[hidden] { display: none; }` but bootstrap.min.css set `[hidden] { display: none !important; }` so we also need the `!important` here to be able to override the default hidden behavior on the sphinx rendered scikit-learn.org. See: https://github.com/scikit-learn/scikit-learn/issues/21755 */display: inline-block !important;position: relative;}#sk-container-id-1 div.sk-text-repr-fallback {display: none;}</style><div id=\"sk-container-id-1\" class=\"sk-top-container\"><div class=\"sk-text-repr-fallback\"><pre>IsolationForest(contamination=0.04)</pre><b>In a Jupyter environment, please rerun this cell to show the HTML representation or trust the notebook. <br />On GitHub, the HTML representation is unable to render, please try loading this page with nbviewer.org.</b></div><div class=\"sk-container\" hidden><div class=\"sk-item\"><div class=\"sk-estimator sk-toggleable\"><input class=\"sk-toggleable__control sk-hidden--visually\" id=\"sk-estimator-id-1\" type=\"checkbox\" checked><label for=\"sk-estimator-id-1\" class=\"sk-toggleable__label sk-toggleable__label-arrow\">IsolationForest</label><div class=\"sk-toggleable__content\"><pre>IsolationForest(contamination=0.04)</pre></div></div></div></div></div>"
      ],
      "text/plain": [
       "IsolationForest(contamination=0.04)"
      ]
     },
     "execution_count": 22,
     "metadata": {},
     "output_type": "execute_result"
    }
   ],
   "source": [
    "model=IsolationForest(n_estimators=100,max_samples='auto',contamination=0.04,max_features=1.0)\n",
    "model.fit(ev[['SessionLength']])"
   ]
  },
  {
   "cell_type": "code",
   "execution_count": 23,
   "id": "a41c25cc",
   "metadata": {},
   "outputs": [
    {
     "data": {
      "text/html": [
       "<div>\n",
       "<style scoped>\n",
       "    .dataframe tbody tr th:only-of-type {\n",
       "        vertical-align: middle;\n",
       "    }\n",
       "\n",
       "    .dataframe tbody tr th {\n",
       "        vertical-align: top;\n",
       "    }\n",
       "\n",
       "    .dataframe thead th {\n",
       "        text-align: right;\n",
       "    }\n",
       "</style>\n",
       "<table border=\"1\" class=\"dataframe\">\n",
       "  <thead>\n",
       "    <tr style=\"text-align: right;\">\n",
       "      <th></th>\n",
       "      <th>Num.Rep.</th>\n",
       "      <th>SessionLength</th>\n",
       "      <th>Avg.Sess.</th>\n",
       "      <th>kWhDelivered</th>\n",
       "      <th>Avg.Cons.</th>\n",
       "      <th>temperature</th>\n",
       "      <th>Avg. Humidity</th>\n",
       "      <th>Avg Wind Speed(mph)</th>\n",
       "      <th>Wind Bearing(degrees)</th>\n",
       "      <th>Visibility(km)</th>\n",
       "      <th>Pressure(millibar)</th>\n",
       "      <th>Battery_Pack Kwh</th>\n",
       "      <th>FastCharge_KmH</th>\n",
       "      <th>newlength</th>\n",
       "      <th>anomaly</th>\n",
       "    </tr>\n",
       "  </thead>\n",
       "  <tbody>\n",
       "    <tr>\n",
       "      <th>0</th>\n",
       "      <td>11.13</td>\n",
       "      <td>2.20</td>\n",
       "      <td>3.55</td>\n",
       "      <td>7.93</td>\n",
       "      <td>6.44</td>\n",
       "      <td>24.37</td>\n",
       "      <td>34.85</td>\n",
       "      <td>13.54</td>\n",
       "      <td>300</td>\n",
       "      <td>9.9</td>\n",
       "      <td>1004.55</td>\n",
       "      <td>70.0</td>\n",
       "      <td>940</td>\n",
       "      <td>0.175811</td>\n",
       "      <td>1</td>\n",
       "    </tr>\n",
       "    <tr>\n",
       "      <th>1</th>\n",
       "      <td>13.75</td>\n",
       "      <td>11.19</td>\n",
       "      <td>3.55</td>\n",
       "      <td>10.01</td>\n",
       "      <td>6.44</td>\n",
       "      <td>24.37</td>\n",
       "      <td>34.85</td>\n",
       "      <td>13.54</td>\n",
       "      <td>300</td>\n",
       "      <td>9.9</td>\n",
       "      <td>1004.55</td>\n",
       "      <td>45.0</td>\n",
       "      <td>250</td>\n",
       "      <td>-0.092278</td>\n",
       "      <td>-1</td>\n",
       "    </tr>\n",
       "    <tr>\n",
       "      <th>2</th>\n",
       "      <td>13.76</td>\n",
       "      <td>10.33</td>\n",
       "      <td>3.54</td>\n",
       "      <td>5.26</td>\n",
       "      <td>6.44</td>\n",
       "      <td>24.37</td>\n",
       "      <td>34.85</td>\n",
       "      <td>13.54</td>\n",
       "      <td>300</td>\n",
       "      <td>9.9</td>\n",
       "      <td>1004.55</td>\n",
       "      <td>75.0</td>\n",
       "      <td>620</td>\n",
       "      <td>-0.050799</td>\n",
       "      <td>-1</td>\n",
       "    </tr>\n",
       "    <tr>\n",
       "      <th>3</th>\n",
       "      <td>14.62</td>\n",
       "      <td>9.31</td>\n",
       "      <td>3.55</td>\n",
       "      <td>5.18</td>\n",
       "      <td>6.44</td>\n",
       "      <td>24.37</td>\n",
       "      <td>34.85</td>\n",
       "      <td>13.54</td>\n",
       "      <td>300</td>\n",
       "      <td>9.9</td>\n",
       "      <td>1004.55</td>\n",
       "      <td>74.0</td>\n",
       "      <td>560</td>\n",
       "      <td>0.039986</td>\n",
       "      <td>1</td>\n",
       "    </tr>\n",
       "    <tr>\n",
       "      <th>4</th>\n",
       "      <td>14.68</td>\n",
       "      <td>8.38</td>\n",
       "      <td>3.55</td>\n",
       "      <td>10.12</td>\n",
       "      <td>6.44</td>\n",
       "      <td>24.37</td>\n",
       "      <td>34.85</td>\n",
       "      <td>13.54</td>\n",
       "      <td>300</td>\n",
       "      <td>9.9</td>\n",
       "      <td>1004.55</td>\n",
       "      <td>28.5</td>\n",
       "      <td>190</td>\n",
       "      <td>0.055645</td>\n",
       "      <td>1</td>\n",
       "    </tr>\n",
       "    <tr>\n",
       "      <th>5</th>\n",
       "      <td>14.73</td>\n",
       "      <td>10.56</td>\n",
       "      <td>3.54</td>\n",
       "      <td>7.91</td>\n",
       "      <td>6.44</td>\n",
       "      <td>24.37</td>\n",
       "      <td>34.85</td>\n",
       "      <td>13.54</td>\n",
       "      <td>300</td>\n",
       "      <td>9.9</td>\n",
       "      <td>1004.55</td>\n",
       "      <td>110.0</td>\n",
       "      <td>620</td>\n",
       "      <td>-0.068061</td>\n",
       "      <td>-1</td>\n",
       "    </tr>\n",
       "    <tr>\n",
       "      <th>6</th>\n",
       "      <td>14.80</td>\n",
       "      <td>3.67</td>\n",
       "      <td>3.54</td>\n",
       "      <td>15.29</td>\n",
       "      <td>6.44</td>\n",
       "      <td>24.37</td>\n",
       "      <td>34.85</td>\n",
       "      <td>13.54</td>\n",
       "      <td>300</td>\n",
       "      <td>9.9</td>\n",
       "      <td>1004.55</td>\n",
       "      <td>35.8</td>\n",
       "      <td>220</td>\n",
       "      <td>0.189018</td>\n",
       "      <td>1</td>\n",
       "    </tr>\n",
       "    <tr>\n",
       "      <th>7</th>\n",
       "      <td>14.97</td>\n",
       "      <td>4.13</td>\n",
       "      <td>3.53</td>\n",
       "      <td>6.95</td>\n",
       "      <td>6.43</td>\n",
       "      <td>24.37</td>\n",
       "      <td>34.85</td>\n",
       "      <td>13.54</td>\n",
       "      <td>300</td>\n",
       "      <td>9.9</td>\n",
       "      <td>1004.55</td>\n",
       "      <td>45.0</td>\n",
       "      <td>420</td>\n",
       "      <td>0.154993</td>\n",
       "      <td>1</td>\n",
       "    </tr>\n",
       "    <tr>\n",
       "      <th>8</th>\n",
       "      <td>15.18</td>\n",
       "      <td>3.08</td>\n",
       "      <td>3.53</td>\n",
       "      <td>2.17</td>\n",
       "      <td>6.43</td>\n",
       "      <td>24.37</td>\n",
       "      <td>34.85</td>\n",
       "      <td>13.54</td>\n",
       "      <td>300</td>\n",
       "      <td>9.9</td>\n",
       "      <td>1004.55</td>\n",
       "      <td>50.0</td>\n",
       "      <td>650</td>\n",
       "      <td>0.181602</td>\n",
       "      <td>1</td>\n",
       "    </tr>\n",
       "    <tr>\n",
       "      <th>9</th>\n",
       "      <td>15.20</td>\n",
       "      <td>3.29</td>\n",
       "      <td>3.52</td>\n",
       "      <td>2.44</td>\n",
       "      <td>6.43</td>\n",
       "      <td>24.37</td>\n",
       "      <td>34.85</td>\n",
       "      <td>13.54</td>\n",
       "      <td>300</td>\n",
       "      <td>9.9</td>\n",
       "      <td>1004.55</td>\n",
       "      <td>77.0</td>\n",
       "      <td>540</td>\n",
       "      <td>0.191064</td>\n",
       "      <td>1</td>\n",
       "    </tr>\n",
       "  </tbody>\n",
       "</table>\n",
       "</div>"
      ],
      "text/plain": [
       "   Num.Rep.  SessionLength  Avg.Sess.  kWhDelivered  Avg.Cons.  temperature   \n",
       "0     11.13           2.20       3.55          7.93       6.44        24.37  \\\n",
       "1     13.75          11.19       3.55         10.01       6.44        24.37   \n",
       "2     13.76          10.33       3.54          5.26       6.44        24.37   \n",
       "3     14.62           9.31       3.55          5.18       6.44        24.37   \n",
       "4     14.68           8.38       3.55         10.12       6.44        24.37   \n",
       "5     14.73          10.56       3.54          7.91       6.44        24.37   \n",
       "6     14.80           3.67       3.54         15.29       6.44        24.37   \n",
       "7     14.97           4.13       3.53          6.95       6.43        24.37   \n",
       "8     15.18           3.08       3.53          2.17       6.43        24.37   \n",
       "9     15.20           3.29       3.52          2.44       6.43        24.37   \n",
       "\n",
       "   Avg. Humidity  Avg Wind Speed(mph)  Wind Bearing(degrees)  Visibility(km)   \n",
       "0          34.85                13.54                    300             9.9  \\\n",
       "1          34.85                13.54                    300             9.9   \n",
       "2          34.85                13.54                    300             9.9   \n",
       "3          34.85                13.54                    300             9.9   \n",
       "4          34.85                13.54                    300             9.9   \n",
       "5          34.85                13.54                    300             9.9   \n",
       "6          34.85                13.54                    300             9.9   \n",
       "7          34.85                13.54                    300             9.9   \n",
       "8          34.85                13.54                    300             9.9   \n",
       "9          34.85                13.54                    300             9.9   \n",
       "\n",
       "   Pressure(millibar)  Battery_Pack Kwh  FastCharge_KmH  newlength  anomaly  \n",
       "0             1004.55              70.0             940   0.175811        1  \n",
       "1             1004.55              45.0             250  -0.092278       -1  \n",
       "2             1004.55              75.0             620  -0.050799       -1  \n",
       "3             1004.55              74.0             560   0.039986        1  \n",
       "4             1004.55              28.5             190   0.055645        1  \n",
       "5             1004.55             110.0             620  -0.068061       -1  \n",
       "6             1004.55              35.8             220   0.189018        1  \n",
       "7             1004.55              45.0             420   0.154993        1  \n",
       "8             1004.55              50.0             650   0.181602        1  \n",
       "9             1004.55              77.0             540   0.191064        1  "
      ]
     },
     "execution_count": 23,
     "metadata": {},
     "output_type": "execute_result"
    }
   ],
   "source": [
    "ev['newlength']=model.decision_function(ev[['SessionLength']])\n",
    "ev['anomaly']=model.predict(ev[['SessionLength']])\n",
    "ev.head(10)"
   ]
  },
  {
   "cell_type": "code",
   "execution_count": 24,
   "id": "8ccf046c",
   "metadata": {},
   "outputs": [
    {
     "data": {
      "text/plain": [
       "46"
      ]
     },
     "execution_count": 24,
     "metadata": {},
     "output_type": "execute_result"
    }
   ],
   "source": [
    "outliers_counter = len(ev[ev['anomaly'] ==-1])\n",
    "outliers_counter "
   ]
  },
  {
   "cell_type": "code",
   "execution_count": 25,
   "id": "26f73d90",
   "metadata": {},
   "outputs": [],
   "source": [
    "ev_data = ev[(ev['SessionLength'] <=13)]"
   ]
  },
  {
   "cell_type": "code",
   "execution_count": 26,
   "id": "36c2b242",
   "metadata": {},
   "outputs": [
    {
     "data": {
      "text/html": [
       "<div>\n",
       "<style scoped>\n",
       "    .dataframe tbody tr th:only-of-type {\n",
       "        vertical-align: middle;\n",
       "    }\n",
       "\n",
       "    .dataframe tbody tr th {\n",
       "        vertical-align: top;\n",
       "    }\n",
       "\n",
       "    .dataframe thead th {\n",
       "        text-align: right;\n",
       "    }\n",
       "</style>\n",
       "<table border=\"1\" class=\"dataframe\">\n",
       "  <thead>\n",
       "    <tr style=\"text-align: right;\">\n",
       "      <th></th>\n",
       "      <th>Num.Rep.</th>\n",
       "      <th>SessionLength</th>\n",
       "      <th>Avg.Sess.</th>\n",
       "      <th>kWhDelivered</th>\n",
       "      <th>Avg.Cons.</th>\n",
       "      <th>temperature</th>\n",
       "      <th>Avg. Humidity</th>\n",
       "      <th>Avg Wind Speed(mph)</th>\n",
       "      <th>Wind Bearing(degrees)</th>\n",
       "      <th>Visibility(km)</th>\n",
       "      <th>Pressure(millibar)</th>\n",
       "      <th>Battery_Pack Kwh</th>\n",
       "      <th>FastCharge_KmH</th>\n",
       "      <th>newlength</th>\n",
       "      <th>anomaly</th>\n",
       "    </tr>\n",
       "  </thead>\n",
       "  <tbody>\n",
       "    <tr>\n",
       "      <th>0</th>\n",
       "      <td>11.13</td>\n",
       "      <td>2.20</td>\n",
       "      <td>3.55</td>\n",
       "      <td>7.93</td>\n",
       "      <td>6.44</td>\n",
       "      <td>24.37</td>\n",
       "      <td>34.85</td>\n",
       "      <td>13.54</td>\n",
       "      <td>300</td>\n",
       "      <td>9.9</td>\n",
       "      <td>1004.55</td>\n",
       "      <td>70.0</td>\n",
       "      <td>940</td>\n",
       "      <td>0.175811</td>\n",
       "      <td>1</td>\n",
       "    </tr>\n",
       "    <tr>\n",
       "      <th>1</th>\n",
       "      <td>13.75</td>\n",
       "      <td>11.19</td>\n",
       "      <td>3.55</td>\n",
       "      <td>10.01</td>\n",
       "      <td>6.44</td>\n",
       "      <td>24.37</td>\n",
       "      <td>34.85</td>\n",
       "      <td>13.54</td>\n",
       "      <td>300</td>\n",
       "      <td>9.9</td>\n",
       "      <td>1004.55</td>\n",
       "      <td>45.0</td>\n",
       "      <td>250</td>\n",
       "      <td>-0.092278</td>\n",
       "      <td>-1</td>\n",
       "    </tr>\n",
       "    <tr>\n",
       "      <th>2</th>\n",
       "      <td>13.76</td>\n",
       "      <td>10.33</td>\n",
       "      <td>3.54</td>\n",
       "      <td>5.26</td>\n",
       "      <td>6.44</td>\n",
       "      <td>24.37</td>\n",
       "      <td>34.85</td>\n",
       "      <td>13.54</td>\n",
       "      <td>300</td>\n",
       "      <td>9.9</td>\n",
       "      <td>1004.55</td>\n",
       "      <td>75.0</td>\n",
       "      <td>620</td>\n",
       "      <td>-0.050799</td>\n",
       "      <td>-1</td>\n",
       "    </tr>\n",
       "    <tr>\n",
       "      <th>3</th>\n",
       "      <td>14.62</td>\n",
       "      <td>9.31</td>\n",
       "      <td>3.55</td>\n",
       "      <td>5.18</td>\n",
       "      <td>6.44</td>\n",
       "      <td>24.37</td>\n",
       "      <td>34.85</td>\n",
       "      <td>13.54</td>\n",
       "      <td>300</td>\n",
       "      <td>9.9</td>\n",
       "      <td>1004.55</td>\n",
       "      <td>74.0</td>\n",
       "      <td>560</td>\n",
       "      <td>0.039986</td>\n",
       "      <td>1</td>\n",
       "    </tr>\n",
       "    <tr>\n",
       "      <th>4</th>\n",
       "      <td>14.68</td>\n",
       "      <td>8.38</td>\n",
       "      <td>3.55</td>\n",
       "      <td>10.12</td>\n",
       "      <td>6.44</td>\n",
       "      <td>24.37</td>\n",
       "      <td>34.85</td>\n",
       "      <td>13.54</td>\n",
       "      <td>300</td>\n",
       "      <td>9.9</td>\n",
       "      <td>1004.55</td>\n",
       "      <td>28.5</td>\n",
       "      <td>190</td>\n",
       "      <td>0.055645</td>\n",
       "      <td>1</td>\n",
       "    </tr>\n",
       "    <tr>\n",
       "      <th>...</th>\n",
       "      <td>...</td>\n",
       "      <td>...</td>\n",
       "      <td>...</td>\n",
       "      <td>...</td>\n",
       "      <td>...</td>\n",
       "      <td>...</td>\n",
       "      <td>...</td>\n",
       "      <td>...</td>\n",
       "      <td>...</td>\n",
       "      <td>...</td>\n",
       "      <td>...</td>\n",
       "      <td>...</td>\n",
       "      <td>...</td>\n",
       "      <td>...</td>\n",
       "      <td>...</td>\n",
       "    </tr>\n",
       "    <tr>\n",
       "      <th>1194</th>\n",
       "      <td>16.00</td>\n",
       "      <td>3.22</td>\n",
       "      <td>2.57</td>\n",
       "      <td>1.82</td>\n",
       "      <td>3.62</td>\n",
       "      <td>35.98</td>\n",
       "      <td>40.55</td>\n",
       "      <td>10.35</td>\n",
       "      <td>305</td>\n",
       "      <td>16.1</td>\n",
       "      <td>1005.18</td>\n",
       "      <td>45.0</td>\n",
       "      <td>260</td>\n",
       "      <td>0.186973</td>\n",
       "      <td>1</td>\n",
       "    </tr>\n",
       "    <tr>\n",
       "      <th>1195</th>\n",
       "      <td>19.00</td>\n",
       "      <td>1.51</td>\n",
       "      <td>2.41</td>\n",
       "      <td>4.73</td>\n",
       "      <td>4.07</td>\n",
       "      <td>35.98</td>\n",
       "      <td>40.55</td>\n",
       "      <td>10.35</td>\n",
       "      <td>305</td>\n",
       "      <td>16.1</td>\n",
       "      <td>1005.18</td>\n",
       "      <td>65.0</td>\n",
       "      <td>345</td>\n",
       "      <td>0.133278</td>\n",
       "      <td>1</td>\n",
       "    </tr>\n",
       "    <tr>\n",
       "      <th>1196</th>\n",
       "      <td>12.00</td>\n",
       "      <td>3.28</td>\n",
       "      <td>2.70</td>\n",
       "      <td>3.69</td>\n",
       "      <td>3.85</td>\n",
       "      <td>35.98</td>\n",
       "      <td>40.55</td>\n",
       "      <td>10.35</td>\n",
       "      <td>305</td>\n",
       "      <td>17.3</td>\n",
       "      <td>1005.18</td>\n",
       "      <td>118.0</td>\n",
       "      <td>670</td>\n",
       "      <td>0.190102</td>\n",
       "      <td>1</td>\n",
       "    </tr>\n",
       "    <tr>\n",
       "      <th>1197</th>\n",
       "      <td>13.00</td>\n",
       "      <td>1.89</td>\n",
       "      <td>2.42</td>\n",
       "      <td>3.82</td>\n",
       "      <td>3.93</td>\n",
       "      <td>35.98</td>\n",
       "      <td>40.55</td>\n",
       "      <td>10.35</td>\n",
       "      <td>305</td>\n",
       "      <td>17.3</td>\n",
       "      <td>1005.18</td>\n",
       "      <td>28.0</td>\n",
       "      <td>215</td>\n",
       "      <td>0.156760</td>\n",
       "      <td>1</td>\n",
       "    </tr>\n",
       "    <tr>\n",
       "      <th>1198</th>\n",
       "      <td>12.00</td>\n",
       "      <td>2.95</td>\n",
       "      <td>2.95</td>\n",
       "      <td>4.03</td>\n",
       "      <td>4.03</td>\n",
       "      <td>35.98</td>\n",
       "      <td>40.55</td>\n",
       "      <td>10.35</td>\n",
       "      <td>305</td>\n",
       "      <td>17.3</td>\n",
       "      <td>1005.18</td>\n",
       "      <td>70.0</td>\n",
       "      <td>800</td>\n",
       "      <td>0.184546</td>\n",
       "      <td>1</td>\n",
       "    </tr>\n",
       "  </tbody>\n",
       "</table>\n",
       "<p>1189 rows × 15 columns</p>\n",
       "</div>"
      ],
      "text/plain": [
       "      Num.Rep.  SessionLength  Avg.Sess.  kWhDelivered  Avg.Cons.   \n",
       "0        11.13           2.20       3.55          7.93       6.44  \\\n",
       "1        13.75          11.19       3.55         10.01       6.44   \n",
       "2        13.76          10.33       3.54          5.26       6.44   \n",
       "3        14.62           9.31       3.55          5.18       6.44   \n",
       "4        14.68           8.38       3.55         10.12       6.44   \n",
       "...        ...            ...        ...           ...        ...   \n",
       "1194     16.00           3.22       2.57          1.82       3.62   \n",
       "1195     19.00           1.51       2.41          4.73       4.07   \n",
       "1196     12.00           3.28       2.70          3.69       3.85   \n",
       "1197     13.00           1.89       2.42          3.82       3.93   \n",
       "1198     12.00           2.95       2.95          4.03       4.03   \n",
       "\n",
       "      temperature  Avg. Humidity  Avg Wind Speed(mph)  Wind Bearing(degrees)   \n",
       "0           24.37          34.85                13.54                    300  \\\n",
       "1           24.37          34.85                13.54                    300   \n",
       "2           24.37          34.85                13.54                    300   \n",
       "3           24.37          34.85                13.54                    300   \n",
       "4           24.37          34.85                13.54                    300   \n",
       "...           ...            ...                  ...                    ...   \n",
       "1194        35.98          40.55                10.35                    305   \n",
       "1195        35.98          40.55                10.35                    305   \n",
       "1196        35.98          40.55                10.35                    305   \n",
       "1197        35.98          40.55                10.35                    305   \n",
       "1198        35.98          40.55                10.35                    305   \n",
       "\n",
       "      Visibility(km)  Pressure(millibar)  Battery_Pack Kwh  FastCharge_KmH   \n",
       "0                9.9             1004.55              70.0             940  \\\n",
       "1                9.9             1004.55              45.0             250   \n",
       "2                9.9             1004.55              75.0             620   \n",
       "3                9.9             1004.55              74.0             560   \n",
       "4                9.9             1004.55              28.5             190   \n",
       "...              ...                 ...               ...             ...   \n",
       "1194            16.1             1005.18              45.0             260   \n",
       "1195            16.1             1005.18              65.0             345   \n",
       "1196            17.3             1005.18             118.0             670   \n",
       "1197            17.3             1005.18              28.0             215   \n",
       "1198            17.3             1005.18              70.0             800   \n",
       "\n",
       "      newlength  anomaly  \n",
       "0      0.175811        1  \n",
       "1     -0.092278       -1  \n",
       "2     -0.050799       -1  \n",
       "3      0.039986        1  \n",
       "4      0.055645        1  \n",
       "...         ...      ...  \n",
       "1194   0.186973        1  \n",
       "1195   0.133278        1  \n",
       "1196   0.190102        1  \n",
       "1197   0.156760        1  \n",
       "1198   0.184546        1  \n",
       "\n",
       "[1189 rows x 15 columns]"
      ]
     },
     "execution_count": 26,
     "metadata": {},
     "output_type": "execute_result"
    }
   ],
   "source": [
    "ev_data"
   ]
  },
  {
   "cell_type": "code",
   "execution_count": null,
   "id": "dedcdb74",
   "metadata": {},
   "outputs": [],
   "source": []
  },
  {
   "cell_type": "code",
   "execution_count": 27,
   "id": "5c7e45dd",
   "metadata": {},
   "outputs": [],
   "source": [
    "selected_features = ['Avg.Sess.', 'Avg.Cons.', 'temperature', 'Avg. Humidity', 'Avg Wind Speed(mph)','Wind Bearing(degrees)','Visibility(km)','Pressure(millibar)','Battery_Pack Kwh','FastCharge_KmH','newlength','anomaly']"
   ]
  },
  {
   "cell_type": "code",
   "execution_count": 28,
   "id": "93b71f49",
   "metadata": {},
   "outputs": [],
   "source": [
    "X = ev_data[selected_features]"
   ]
  },
  {
   "cell_type": "code",
   "execution_count": 29,
   "id": "46040717",
   "metadata": {},
   "outputs": [
    {
     "data": {
      "text/html": [
       "<div>\n",
       "<style scoped>\n",
       "    .dataframe tbody tr th:only-of-type {\n",
       "        vertical-align: middle;\n",
       "    }\n",
       "\n",
       "    .dataframe tbody tr th {\n",
       "        vertical-align: top;\n",
       "    }\n",
       "\n",
       "    .dataframe thead th {\n",
       "        text-align: right;\n",
       "    }\n",
       "</style>\n",
       "<table border=\"1\" class=\"dataframe\">\n",
       "  <thead>\n",
       "    <tr style=\"text-align: right;\">\n",
       "      <th></th>\n",
       "      <th>Avg.Sess.</th>\n",
       "      <th>Avg.Cons.</th>\n",
       "      <th>temperature</th>\n",
       "      <th>Avg. Humidity</th>\n",
       "      <th>Avg Wind Speed(mph)</th>\n",
       "      <th>Wind Bearing(degrees)</th>\n",
       "      <th>Visibility(km)</th>\n",
       "      <th>Pressure(millibar)</th>\n",
       "      <th>Battery_Pack Kwh</th>\n",
       "      <th>FastCharge_KmH</th>\n",
       "      <th>newlength</th>\n",
       "      <th>anomaly</th>\n",
       "    </tr>\n",
       "  </thead>\n",
       "  <tbody>\n",
       "    <tr>\n",
       "      <th>0</th>\n",
       "      <td>3.55</td>\n",
       "      <td>6.44</td>\n",
       "      <td>24.37</td>\n",
       "      <td>34.85</td>\n",
       "      <td>13.54</td>\n",
       "      <td>300</td>\n",
       "      <td>9.9</td>\n",
       "      <td>1004.55</td>\n",
       "      <td>70.0</td>\n",
       "      <td>940</td>\n",
       "      <td>0.175811</td>\n",
       "      <td>1</td>\n",
       "    </tr>\n",
       "    <tr>\n",
       "      <th>1</th>\n",
       "      <td>3.55</td>\n",
       "      <td>6.44</td>\n",
       "      <td>24.37</td>\n",
       "      <td>34.85</td>\n",
       "      <td>13.54</td>\n",
       "      <td>300</td>\n",
       "      <td>9.9</td>\n",
       "      <td>1004.55</td>\n",
       "      <td>45.0</td>\n",
       "      <td>250</td>\n",
       "      <td>-0.092278</td>\n",
       "      <td>-1</td>\n",
       "    </tr>\n",
       "    <tr>\n",
       "      <th>2</th>\n",
       "      <td>3.54</td>\n",
       "      <td>6.44</td>\n",
       "      <td>24.37</td>\n",
       "      <td>34.85</td>\n",
       "      <td>13.54</td>\n",
       "      <td>300</td>\n",
       "      <td>9.9</td>\n",
       "      <td>1004.55</td>\n",
       "      <td>75.0</td>\n",
       "      <td>620</td>\n",
       "      <td>-0.050799</td>\n",
       "      <td>-1</td>\n",
       "    </tr>\n",
       "    <tr>\n",
       "      <th>3</th>\n",
       "      <td>3.55</td>\n",
       "      <td>6.44</td>\n",
       "      <td>24.37</td>\n",
       "      <td>34.85</td>\n",
       "      <td>13.54</td>\n",
       "      <td>300</td>\n",
       "      <td>9.9</td>\n",
       "      <td>1004.55</td>\n",
       "      <td>74.0</td>\n",
       "      <td>560</td>\n",
       "      <td>0.039986</td>\n",
       "      <td>1</td>\n",
       "    </tr>\n",
       "    <tr>\n",
       "      <th>4</th>\n",
       "      <td>3.55</td>\n",
       "      <td>6.44</td>\n",
       "      <td>24.37</td>\n",
       "      <td>34.85</td>\n",
       "      <td>13.54</td>\n",
       "      <td>300</td>\n",
       "      <td>9.9</td>\n",
       "      <td>1004.55</td>\n",
       "      <td>28.5</td>\n",
       "      <td>190</td>\n",
       "      <td>0.055645</td>\n",
       "      <td>1</td>\n",
       "    </tr>\n",
       "    <tr>\n",
       "      <th>...</th>\n",
       "      <td>...</td>\n",
       "      <td>...</td>\n",
       "      <td>...</td>\n",
       "      <td>...</td>\n",
       "      <td>...</td>\n",
       "      <td>...</td>\n",
       "      <td>...</td>\n",
       "      <td>...</td>\n",
       "      <td>...</td>\n",
       "      <td>...</td>\n",
       "      <td>...</td>\n",
       "      <td>...</td>\n",
       "    </tr>\n",
       "    <tr>\n",
       "      <th>1194</th>\n",
       "      <td>2.57</td>\n",
       "      <td>3.62</td>\n",
       "      <td>35.98</td>\n",
       "      <td>40.55</td>\n",
       "      <td>10.35</td>\n",
       "      <td>305</td>\n",
       "      <td>16.1</td>\n",
       "      <td>1005.18</td>\n",
       "      <td>45.0</td>\n",
       "      <td>260</td>\n",
       "      <td>0.186973</td>\n",
       "      <td>1</td>\n",
       "    </tr>\n",
       "    <tr>\n",
       "      <th>1195</th>\n",
       "      <td>2.41</td>\n",
       "      <td>4.07</td>\n",
       "      <td>35.98</td>\n",
       "      <td>40.55</td>\n",
       "      <td>10.35</td>\n",
       "      <td>305</td>\n",
       "      <td>16.1</td>\n",
       "      <td>1005.18</td>\n",
       "      <td>65.0</td>\n",
       "      <td>345</td>\n",
       "      <td>0.133278</td>\n",
       "      <td>1</td>\n",
       "    </tr>\n",
       "    <tr>\n",
       "      <th>1196</th>\n",
       "      <td>2.70</td>\n",
       "      <td>3.85</td>\n",
       "      <td>35.98</td>\n",
       "      <td>40.55</td>\n",
       "      <td>10.35</td>\n",
       "      <td>305</td>\n",
       "      <td>17.3</td>\n",
       "      <td>1005.18</td>\n",
       "      <td>118.0</td>\n",
       "      <td>670</td>\n",
       "      <td>0.190102</td>\n",
       "      <td>1</td>\n",
       "    </tr>\n",
       "    <tr>\n",
       "      <th>1197</th>\n",
       "      <td>2.42</td>\n",
       "      <td>3.93</td>\n",
       "      <td>35.98</td>\n",
       "      <td>40.55</td>\n",
       "      <td>10.35</td>\n",
       "      <td>305</td>\n",
       "      <td>17.3</td>\n",
       "      <td>1005.18</td>\n",
       "      <td>28.0</td>\n",
       "      <td>215</td>\n",
       "      <td>0.156760</td>\n",
       "      <td>1</td>\n",
       "    </tr>\n",
       "    <tr>\n",
       "      <th>1198</th>\n",
       "      <td>2.95</td>\n",
       "      <td>4.03</td>\n",
       "      <td>35.98</td>\n",
       "      <td>40.55</td>\n",
       "      <td>10.35</td>\n",
       "      <td>305</td>\n",
       "      <td>17.3</td>\n",
       "      <td>1005.18</td>\n",
       "      <td>70.0</td>\n",
       "      <td>800</td>\n",
       "      <td>0.184546</td>\n",
       "      <td>1</td>\n",
       "    </tr>\n",
       "  </tbody>\n",
       "</table>\n",
       "<p>1189 rows × 12 columns</p>\n",
       "</div>"
      ],
      "text/plain": [
       "      Avg.Sess.  Avg.Cons.  temperature  Avg. Humidity  Avg Wind Speed(mph)   \n",
       "0          3.55       6.44        24.37          34.85                13.54  \\\n",
       "1          3.55       6.44        24.37          34.85                13.54   \n",
       "2          3.54       6.44        24.37          34.85                13.54   \n",
       "3          3.55       6.44        24.37          34.85                13.54   \n",
       "4          3.55       6.44        24.37          34.85                13.54   \n",
       "...         ...        ...          ...            ...                  ...   \n",
       "1194       2.57       3.62        35.98          40.55                10.35   \n",
       "1195       2.41       4.07        35.98          40.55                10.35   \n",
       "1196       2.70       3.85        35.98          40.55                10.35   \n",
       "1197       2.42       3.93        35.98          40.55                10.35   \n",
       "1198       2.95       4.03        35.98          40.55                10.35   \n",
       "\n",
       "      Wind Bearing(degrees)  Visibility(km)  Pressure(millibar)   \n",
       "0                       300             9.9             1004.55  \\\n",
       "1                       300             9.9             1004.55   \n",
       "2                       300             9.9             1004.55   \n",
       "3                       300             9.9             1004.55   \n",
       "4                       300             9.9             1004.55   \n",
       "...                     ...             ...                 ...   \n",
       "1194                    305            16.1             1005.18   \n",
       "1195                    305            16.1             1005.18   \n",
       "1196                    305            17.3             1005.18   \n",
       "1197                    305            17.3             1005.18   \n",
       "1198                    305            17.3             1005.18   \n",
       "\n",
       "      Battery_Pack Kwh  FastCharge_KmH  newlength  anomaly  \n",
       "0                 70.0             940   0.175811        1  \n",
       "1                 45.0             250  -0.092278       -1  \n",
       "2                 75.0             620  -0.050799       -1  \n",
       "3                 74.0             560   0.039986        1  \n",
       "4                 28.5             190   0.055645        1  \n",
       "...                ...             ...        ...      ...  \n",
       "1194              45.0             260   0.186973        1  \n",
       "1195              65.0             345   0.133278        1  \n",
       "1196             118.0             670   0.190102        1  \n",
       "1197              28.0             215   0.156760        1  \n",
       "1198              70.0             800   0.184546        1  \n",
       "\n",
       "[1189 rows x 12 columns]"
      ]
     },
     "execution_count": 29,
     "metadata": {},
     "output_type": "execute_result"
    }
   ],
   "source": [
    "X"
   ]
  },
  {
   "cell_type": "code",
   "execution_count": 30,
   "id": "b4cf1281",
   "metadata": {},
   "outputs": [],
   "source": [
    "from sklearn.cluster import KMeans"
   ]
  },
  {
   "cell_type": "code",
   "execution_count": 31,
   "id": "387e8442",
   "metadata": {},
   "outputs": [
    {
     "name": "stderr",
     "output_type": "stream",
     "text": [
      "C:\\Users\\Dell\\AppData\\Local\\Programs\\Python\\Python311\\Lib\\site-packages\\sklearn\\cluster\\_kmeans.py:870: FutureWarning: The default value of `n_init` will change from 10 to 'auto' in 1.4. Set the value of `n_init` explicitly to suppress the warning\n",
      "  warnings.warn(\n",
      "C:\\Users\\Dell\\AppData\\Local\\Programs\\Python\\Python311\\Lib\\site-packages\\sklearn\\cluster\\_kmeans.py:870: FutureWarning: The default value of `n_init` will change from 10 to 'auto' in 1.4. Set the value of `n_init` explicitly to suppress the warning\n",
      "  warnings.warn(\n",
      "C:\\Users\\Dell\\AppData\\Local\\Programs\\Python\\Python311\\Lib\\site-packages\\sklearn\\cluster\\_kmeans.py:870: FutureWarning: The default value of `n_init` will change from 10 to 'auto' in 1.4. Set the value of `n_init` explicitly to suppress the warning\n",
      "  warnings.warn(\n",
      "C:\\Users\\Dell\\AppData\\Local\\Programs\\Python\\Python311\\Lib\\site-packages\\sklearn\\cluster\\_kmeans.py:870: FutureWarning: The default value of `n_init` will change from 10 to 'auto' in 1.4. Set the value of `n_init` explicitly to suppress the warning\n",
      "  warnings.warn(\n",
      "C:\\Users\\Dell\\AppData\\Local\\Programs\\Python\\Python311\\Lib\\site-packages\\sklearn\\cluster\\_kmeans.py:870: FutureWarning: The default value of `n_init` will change from 10 to 'auto' in 1.4. Set the value of `n_init` explicitly to suppress the warning\n",
      "  warnings.warn(\n",
      "C:\\Users\\Dell\\AppData\\Local\\Programs\\Python\\Python311\\Lib\\site-packages\\sklearn\\cluster\\_kmeans.py:870: FutureWarning: The default value of `n_init` will change from 10 to 'auto' in 1.4. Set the value of `n_init` explicitly to suppress the warning\n",
      "  warnings.warn(\n",
      "C:\\Users\\Dell\\AppData\\Local\\Programs\\Python\\Python311\\Lib\\site-packages\\sklearn\\cluster\\_kmeans.py:870: FutureWarning: The default value of `n_init` will change from 10 to 'auto' in 1.4. Set the value of `n_init` explicitly to suppress the warning\n",
      "  warnings.warn(\n",
      "C:\\Users\\Dell\\AppData\\Local\\Programs\\Python\\Python311\\Lib\\site-packages\\sklearn\\cluster\\_kmeans.py:870: FutureWarning: The default value of `n_init` will change from 10 to 'auto' in 1.4. Set the value of `n_init` explicitly to suppress the warning\n",
      "  warnings.warn(\n",
      "C:\\Users\\Dell\\AppData\\Local\\Programs\\Python\\Python311\\Lib\\site-packages\\sklearn\\cluster\\_kmeans.py:870: FutureWarning: The default value of `n_init` will change from 10 to 'auto' in 1.4. Set the value of `n_init` explicitly to suppress the warning\n",
      "  warnings.warn(\n",
      "C:\\Users\\Dell\\AppData\\Local\\Programs\\Python\\Python311\\Lib\\site-packages\\sklearn\\cluster\\_kmeans.py:870: FutureWarning: The default value of `n_init` will change from 10 to 'auto' in 1.4. Set the value of `n_init` explicitly to suppress the warning\n",
      "  warnings.warn(\n"
     ]
    },
    {
     "data": {
      "image/png": "[encoded data removed]",
      "text/plain": [
       "<Figure size 640x480 with 1 Axes>"
      ]
     },
     "metadata": {},
     "output_type": "display_data"
    }
   ],
   "source": [
    "sse = []\n",
    "\n",
    "# Try different values of k and compute the sum of squared distances\n",
    "for k in range(1, 11):\n",
    "    kmeans = KMeans(n_clusters=k, random_state=42)\n",
    "    kmeans.fit(X)\n",
    "    sse.append(kmeans.inertia_)\n",
    "\n",
    "# Plot the elbow curve\n",
    "plt.plot(range(1, 11), sse, marker='o')\n",
    "plt.xlabel('Number of Clusters (k)')\n",
    "plt.ylabel('Sum of Squared Distances')\n",
    "plt.title('Elbow Method for Optimal k')\n",
    "plt.grid(True)\n",
    "plt.show()"
   ]
  },
  {
   "cell_type": "code",
   "execution_count": null,
   "id": "15ee27e2",
   "metadata": {},
   "outputs": [],
   "source": []
  },
  {
   "cell_type": "code",
   "execution_count": 32,
   "id": "bf422e0c",
   "metadata": {},
   "outputs": [
    {
     "name": "stderr",
     "output_type": "stream",
     "text": [
      "C:\\Users\\Dell\\AppData\\Local\\Programs\\Python\\Python311\\Lib\\site-packages\\sklearn\\cluster\\_kmeans.py:870: FutureWarning: The default value of `n_init` will change from 10 to 'auto' in 1.4. Set the value of `n_init` explicitly to suppress the warning\n",
      "  warnings.warn(\n"
     ]
    }
   ],
   "source": [
    "num_clusters = 2 # Number of clusters\n",
    "kmeans = KMeans(n_clusters=num_clusters)\n",
    "clusters = kmeans.fit_predict(X)"
   ]
  },
  {
   "cell_type": "code",
   "execution_count": 33,
   "id": "c514bff3",
   "metadata": {},
   "outputs": [
    {
     "name": "stderr",
     "output_type": "stream",
     "text": [
      "C:\\Users\\Dell\\AppData\\Local\\Temp\\ipykernel_8736\\2309874573.py:1: SettingWithCopyWarning: \n",
      "A value is trying to be set on a copy of a slice from a DataFrame.\n",
      "Try using .loc[row_indexer,col_indexer] = value instead\n",
      "\n",
      "See the caveats in the documentation: https://pandas.pydata.org/pandas-docs/stable/user_guide/indexing.html#returning-a-view-versus-a-copy\n",
      "  ev_data['cluster'] = clusters\n"
     ]
    }
   ],
   "source": [
    "ev_data['cluster'] = clusters"
   ]
  },
  {
   "cell_type": "markdown",
   "id": "0a01c186",
   "metadata": {},
   "source": [
    "#Splitting the features and target"
   ]
  },
  {
   "cell_type": "code",
   "execution_count": 34,
   "id": "96ca630d",
   "metadata": {},
   "outputs": [],
   "source": [
    "\n",
    "Y = ev_data['SessionLength']"
   ]
  },
  {
   "cell_type": "code",
   "execution_count": 35,
   "id": "77584c8a",
   "metadata": {},
   "outputs": [],
   "source": [
    "scaler = StandardScaler()"
   ]
  },
  {
   "cell_type": "code",
   "execution_count": 36,
   "id": "f775230b",
   "metadata": {},
   "outputs": [
    {
     "data": {
      "text/html": [
       "<style>#sk-container-id-2 {color: black;background-color: white;}#sk-container-id-2 pre{padding: 0;}#sk-container-id-2 div.sk-toggleable {background-color: white;}#sk-container-id-2 label.sk-toggleable__label {cursor: pointer;display: block;width: 100%;margin-bottom: 0;padding: 0.3em;box-sizing: border-box;text-align: center;}#sk-container-id-2 label.sk-toggleable__label-arrow:before {content: \"▸\";float: left;margin-right: 0.25em;color: #696969;}#sk-container-id-2 label.sk-toggleable__label-arrow:hover:before {color: black;}#sk-container-id-2 div.sk-estimator:hover label.sk-toggleable__label-arrow:before {color: black;}#sk-container-id-2 div.sk-toggleable__content {max-height: 0;max-width: 0;overflow: hidden;text-align: left;background-color: #f0f8ff;}#sk-container-id-2 div.sk-toggleable__content pre {margin: 0.2em;color: black;border-radius: 0.25em;background-color: #f0f8ff;}#sk-container-id-2 input.sk-toggleable__control:checked~div.sk-toggleable__content {max-height: 200px;max-width: 100%;overflow: auto;}#sk-container-id-2 input.sk-toggleable__control:checked~label.sk-toggleable__label-arrow:before {content: \"▾\";}#sk-container-id-2 div.sk-estimator input.sk-toggleable__control:checked~label.sk-toggleable__label {background-color: #d4ebff;}#sk-container-id-2 div.sk-label input.sk-toggleable__control:checked~label.sk-toggleable__label {background-color: #d4ebff;}#sk-container-id-2 input.sk-hidden--visually {border: 0;clip: rect(1px 1px 1px 1px);clip: rect(1px, 1px, 1px, 1px);height: 1px;margin: -1px;overflow: hidden;padding: 0;position: absolute;width: 1px;}#sk-container-id-2 div.sk-estimator {font-family: monospace;background-color: #f0f8ff;border: 1px dotted black;border-radius: 0.25em;box-sizing: border-box;margin-bottom: 0.5em;}#sk-container-id-2 div.sk-estimator:hover {background-color: #d4ebff;}#sk-container-id-2 div.sk-parallel-item::after {content: \"\";width: 100%;border-bottom: 1px solid gray;flex-grow: 1;}#sk-container-id-2 div.sk-label:hover label.sk-toggleable__label {background-color: #d4ebff;}#sk-container-id-2 div.sk-serial::before {content: \"\";position: absolute;border-left: 1px solid gray;box-sizing: border-box;top: 0;bottom: 0;left: 50%;z-index: 0;}#sk-container-id-2 div.sk-serial {display: flex;flex-direction: column;align-items: center;background-color: white;padding-right: 0.2em;padding-left: 0.2em;position: relative;}#sk-container-id-2 div.sk-item {position: relative;z-index: 1;}#sk-container-id-2 div.sk-parallel {display: flex;align-items: stretch;justify-content: center;background-color: white;position: relative;}#sk-container-id-2 div.sk-item::before, #sk-container-id-2 div.sk-parallel-item::before {content: \"\";position: absolute;border-left: 1px solid gray;box-sizing: border-box;top: 0;bottom: 0;left: 50%;z-index: -1;}#sk-container-id-2 div.sk-parallel-item {display: flex;flex-direction: column;z-index: 1;position: relative;background-color: white;}#sk-container-id-2 div.sk-parallel-item:first-child::after {align-self: flex-end;width: 50%;}#sk-container-id-2 div.sk-parallel-item:last-child::after {align-self: flex-start;width: 50%;}#sk-container-id-2 div.sk-parallel-item:only-child::after {width: 0;}#sk-container-id-2 div.sk-dashed-wrapped {border: 1px dashed gray;margin: 0 0.4em 0.5em 0.4em;box-sizing: border-box;padding-bottom: 0.4em;background-color: white;}#sk-container-id-2 div.sk-label label {font-family: monospace;font-weight: bold;display: inline-block;line-height: 1.2em;}#sk-container-id-2 div.sk-label-container {text-align: center;}#sk-container-id-2 div.sk-container {/* jupyter's `normalize.less` sets `[hidden] { display: none; }` but bootstrap.min.css set `[hidden] { display: none !important; }` so we also need the `!important` here to be able to override the default hidden behavior on the sphinx rendered scikit-learn.org. See: https://github.com/scikit-learn/scikit-learn/issues/21755 */display: inline-block !important;position: relative;}#sk-container-id-2 div.sk-text-repr-fallback {display: none;}</style><div id=\"sk-container-id-2\" class=\"sk-top-container\"><div class=\"sk-text-repr-fallback\"><pre>StandardScaler()</pre><b>In a Jupyter environment, please rerun this cell to show the HTML representation or trust the notebook. <br />On GitHub, the HTML representation is unable to render, please try loading this page with nbviewer.org.</b></div><div class=\"sk-container\" hidden><div class=\"sk-item\"><div class=\"sk-estimator sk-toggleable\"><input class=\"sk-toggleable__control sk-hidden--visually\" id=\"sk-estimator-id-2\" type=\"checkbox\" checked><label for=\"sk-estimator-id-2\" class=\"sk-toggleable__label sk-toggleable__label-arrow\">StandardScaler</label><div class=\"sk-toggleable__content\"><pre>StandardScaler()</pre></div></div></div></div></div>"
      ],
      "text/plain": [
       "StandardScaler()"
      ]
     },
     "execution_count": 36,
     "metadata": {},
     "output_type": "execute_result"
    }
   ],
   "source": [
    "scaler.fit(X)"
   ]
  },
  {
   "cell_type": "code",
   "execution_count": 37,
   "id": "aa9348f2",
   "metadata": {},
   "outputs": [],
   "source": [
    "standardized_data = scaler.transform(X)"
   ]
  },
  {
   "cell_type": "code",
   "execution_count": 38,
   "id": "b44eed78",
   "metadata": {},
   "outputs": [
    {
     "name": "stdout",
     "output_type": "stream",
     "text": [
      "[[ 2.94729991  1.6182259  -1.97215983 ...  1.51983325  0.6399405\n",
      "   0.17670002]\n",
      " [ 2.94729991  1.6182259  -1.97215983 ... -1.43995177 -3.74699428\n",
      "  -5.65930895]\n",
      " [ 2.90241678  1.6182259  -1.97215983 ...  0.14717932 -3.06824339\n",
      "  -5.65930895]\n",
      " ...\n",
      " [-0.86776554 -2.66068058  1.54925005 ...  0.3616565   0.87379478\n",
      "   0.17670002]\n",
      " [-2.12449298 -2.52851358  1.54925005 ... -1.59008579  0.32818389\n",
      "   0.17670002]\n",
      " [ 0.25431253 -2.36330484  1.54925005 ...  0.91929716  0.78286764\n",
      "   0.17670002]]\n"
     ]
    }
   ],
   "source": [
    "print(standardized_data)"
   ]
  },
  {
   "cell_type": "code",
   "execution_count": 39,
   "id": "91878952",
   "metadata": {},
   "outputs": [],
   "source": [
    "X = standardized_data\n",
    "Y = ev_data['SessionLength']"
   ]
  },
  {
   "cell_type": "code",
   "execution_count": 40,
   "id": "49f07ed7",
   "metadata": {
    "scrolled": true
   },
   "outputs": [
    {
     "name": "stdout",
     "output_type": "stream",
     "text": [
      "[[ 2.94729991  1.6182259  -1.97215983 ...  1.51983325  0.6399405\n",
      "   0.17670002]\n",
      " [ 2.94729991  1.6182259  -1.97215983 ... -1.43995177 -3.74699428\n",
      "  -5.65930895]\n",
      " [ 2.90241678  1.6182259  -1.97215983 ...  0.14717932 -3.06824339\n",
      "  -5.65930895]\n",
      " ...\n",
      " [-0.86776554 -2.66068058  1.54925005 ...  0.3616565   0.87379478\n",
      "   0.17670002]\n",
      " [-2.12449298 -2.52851358  1.54925005 ... -1.59008579  0.32818389\n",
      "   0.17670002]\n",
      " [ 0.25431253 -2.36330484  1.54925005 ...  0.91929716  0.78286764\n",
      "   0.17670002]]\n"
     ]
    }
   ],
   "source": [
    "print(X)"
   ]
  },
  {
   "cell_type": "code",
   "execution_count": 41,
   "id": "d83d6b99",
   "metadata": {
    "scrolled": true
   },
   "outputs": [
    {
     "name": "stdout",
     "output_type": "stream",
     "text": [
      "0        2.20\n",
      "1       11.19\n",
      "2       10.33\n",
      "3        9.31\n",
      "4        8.38\n",
      "        ...  \n",
      "1194     3.22\n",
      "1195     1.51\n",
      "1196     3.28\n",
      "1197     1.89\n",
      "1198     2.95\n",
      "Name: SessionLength, Length: 1189, dtype: float64\n"
     ]
    }
   ],
   "source": [
    "print(Y)"
   ]
  },
  {
   "cell_type": "code",
   "execution_count": 42,
   "id": "2dc0e699",
   "metadata": {},
   "outputs": [],
   "source": [
    "X_train, X_test, Y_train, Y_test = train_test_split(X, Y, test_size = 0.2, random_state=2)"
   ]
  },
  {
   "cell_type": "code",
   "execution_count": 43,
   "id": "dc559a98",
   "metadata": {},
   "outputs": [],
   "source": [
    "regressor = RandomForestRegressor(n_estimators=100)"
   ]
  },
  {
   "cell_type": "code",
   "execution_count": 44,
   "id": "2f069ace",
   "metadata": {},
   "outputs": [
    {
     "data": {
      "text/html": [
       "<style>#sk-container-id-3 {color: black;background-color: white;}#sk-container-id-3 pre{padding: 0;}#sk-container-id-3 div.sk-toggleable {background-color: white;}#sk-container-id-3 label.sk-toggleable__label {cursor: pointer;display: block;width: 100%;margin-bottom: 0;padding: 0.3em;box-sizing: border-box;text-align: center;}#sk-container-id-3 label.sk-toggleable__label-arrow:before {content: \"▸\";float: left;margin-right: 0.25em;color: #696969;}#sk-container-id-3 label.sk-toggleable__label-arrow:hover:before {color: black;}#sk-container-id-3 div.sk-estimator:hover label.sk-toggleable__label-arrow:before {color: black;}#sk-container-id-3 div.sk-toggleable__content {max-height: 0;max-width: 0;overflow: hidden;text-align: left;background-color: #f0f8ff;}#sk-container-id-3 div.sk-toggleable__content pre {margin: 0.2em;color: black;border-radius: 0.25em;background-color: #f0f8ff;}#sk-container-id-3 input.sk-toggleable__control:checked~div.sk-toggleable__content {max-height: 200px;max-width: 100%;overflow: auto;}#sk-container-id-3 input.sk-toggleable__control:checked~label.sk-toggleable__label-arrow:before {content: \"▾\";}#sk-container-id-3 div.sk-estimator input.sk-toggleable__control:checked~label.sk-toggleable__label {background-color: #d4ebff;}#sk-container-id-3 div.sk-label input.sk-toggleable__control:checked~label.sk-toggleable__label {background-color: #d4ebff;}#sk-container-id-3 input.sk-hidden--visually {border: 0;clip: rect(1px 1px 1px 1px);clip: rect(1px, 1px, 1px, 1px);height: 1px;margin: -1px;overflow: hidden;padding: 0;position: absolute;width: 1px;}#sk-container-id-3 div.sk-estimator {font-family: monospace;background-color: #f0f8ff;border: 1px dotted black;border-radius: 0.25em;box-sizing: border-box;margin-bottom: 0.5em;}#sk-container-id-3 div.sk-estimator:hover {background-color: #d4ebff;}#sk-container-id-3 div.sk-parallel-item::after {content: \"\";width: 100%;border-bottom: 1px solid gray;flex-grow: 1;}#sk-container-id-3 div.sk-label:hover label.sk-toggleable__label {background-color: #d4ebff;}#sk-container-id-3 div.sk-serial::before {content: \"\";position: absolute;border-left: 1px solid gray;box-sizing: border-box;top: 0;bottom: 0;left: 50%;z-index: 0;}#sk-container-id-3 div.sk-serial {display: flex;flex-direction: column;align-items: center;background-color: white;padding-right: 0.2em;padding-left: 0.2em;position: relative;}#sk-container-id-3 div.sk-item {position: relative;z-index: 1;}#sk-container-id-3 div.sk-parallel {display: flex;align-items: stretch;justify-content: center;background-color: white;position: relative;}#sk-container-id-3 div.sk-item::before, #sk-container-id-3 div.sk-parallel-item::before {content: \"\";position: absolute;border-left: 1px solid gray;box-sizing: border-box;top: 0;bottom: 0;left: 50%;z-index: -1;}#sk-container-id-3 div.sk-parallel-item {display: flex;flex-direction: column;z-index: 1;position: relative;background-color: white;}#sk-container-id-3 div.sk-parallel-item:first-child::after {align-self: flex-end;width: 50%;}#sk-container-id-3 div.sk-parallel-item:last-child::after {align-self: flex-start;width: 50%;}#sk-container-id-3 div.sk-parallel-item:only-child::after {width: 0;}#sk-container-id-3 div.sk-dashed-wrapped {border: 1px dashed gray;margin: 0 0.4em 0.5em 0.4em;box-sizing: border-box;padding-bottom: 0.4em;background-color: white;}#sk-container-id-3 div.sk-label label {font-family: monospace;font-weight: bold;display: inline-block;line-height: 1.2em;}#sk-container-id-3 div.sk-label-container {text-align: center;}#sk-container-id-3 div.sk-container {/* jupyter's `normalize.less` sets `[hidden] { display: none; }` but bootstrap.min.css set `[hidden] { display: none !important; }` so we also need the `!important` here to be able to override the default hidden behavior on the sphinx rendered scikit-learn.org. See: https://github.com/scikit-learn/scikit-learn/issues/21755 */display: inline-block !important;position: relative;}#sk-container-id-3 div.sk-text-repr-fallback {display: none;}</style><div id=\"sk-container-id-3\" class=\"sk-top-container\"><div class=\"sk-text-repr-fallback\"><pre>RandomForestRegressor()</pre><b>In a Jupyter environment, please rerun this cell to show the HTML representation or trust the notebook. <br />On GitHub, the HTML representation is unable to render, please try loading this page with nbviewer.org.</b></div><div class=\"sk-container\" hidden><div class=\"sk-item\"><div class=\"sk-estimator sk-toggleable\"><input class=\"sk-toggleable__control sk-hidden--visually\" id=\"sk-estimator-id-3\" type=\"checkbox\" checked><label for=\"sk-estimator-id-3\" class=\"sk-toggleable__label sk-toggleable__label-arrow\">RandomForestRegressor</label><div class=\"sk-toggleable__content\"><pre>RandomForestRegressor()</pre></div></div></div></div></div>"
      ],
      "text/plain": [
       "RandomForestRegressor()"
      ]
     },
     "execution_count": 44,
     "metadata": {},
     "output_type": "execute_result"
    }
   ],
   "source": [
    "# training the model\n",
    "regressor.fit(X_train,Y_train)"
   ]
  },
  {
   "cell_type": "code",
   "execution_count": 45,
   "id": "a442b4c1",
   "metadata": {},
   "outputs": [],
   "source": [
    "# prediction on Test Data\n",
    "test_data_prediction = regressor.predict(X_test)"
   ]
  },
  {
   "cell_type": "code",
   "execution_count": 46,
   "id": "9584f80f",
   "metadata": {},
   "outputs": [
    {
     "name": "stdout",
     "output_type": "stream",
     "text": [
      "[ 3.3988  2.8387  2.193   1.9631  1.8033  3.3927  2.7439  2.4416  3.4105\n",
      "  0.3505  3.7839  3.1806  3.1392  2.7353  2.7135  2.6679  2.7073  1.3053\n",
      "  2.9402  2.2035  2.8797  3.5706  2.7068  5.1928  2.7738  2.7293  2.7012\n",
      "  2.9575  2.801   2.4607  2.7924  3.2865  2.9221  0.986   2.3818  3.0077\n",
      "  3.0612  1.9687  3.319   7.5878  2.763   3.4729  3.4735  6.1046  3.2877\n",
      "  8.1449  2.7571  2.98    7.135   2.6571  0.9786  2.0816  3.1106  3.3338\n",
      "  2.4517  3.0495  2.6557  3.3413  2.0326  2.8338  3.4205  1.504   2.8191\n",
      "  1.5771  3.4232 10.3659  2.8496  2.7359  3.2247  7.6382  3.4671  4.2711\n",
      "  1.3032  2.6574  2.7264  2.7732  3.3468  8.1686  1.076   6.5006  1.9469\n",
      "  2.9545  2.6013  3.0431  2.9495  6.8259  5.678   2.4516  7.3645  2.0748\n",
      "  2.8297  2.8085  2.9566  1.4919  2.8749  3.3529  7.4912  2.9203  8.2566\n",
      "  3.9945  2.6215  2.6809  2.9304  1.8477  7.0542  1.4602  0.9891  0.6107\n",
      "  3.0733  1.9693  3.5194  3.3294  7.6371  3.224   3.6117  3.6463  3.1951\n",
      "  3.1692  3.2556  0.9326  8.5375  3.0933  2.8262  1.5447  3.4519  2.0034\n",
      "  3.7403  0.5678  2.5207  1.4333  3.481   2.7453  3.7883  3.7241  2.8418\n",
      "  3.3537  3.0785  2.6154  2.7537  2.8454  2.1292  3.3796  2.1167  6.9223\n",
      "  2.6668  1.5123  2.7292  3.0503  2.1308  3.388   6.7259  6.2963  3.4415\n",
      "  2.672   2.6173  3.2401  5.4614  2.9348  2.8301  3.4927  3.289   2.8239\n",
      "  3.4386  2.9968  3.0502  2.0671  4.4155  2.916   1.7984  3.6944  6.6501\n",
      "  2.9816  5.2404  2.8254  3.4415  3.7684  2.8409  6.9023  2.9025  3.4039\n",
      "  1.8441  1.0992  1.375   4.8852  2.7672  6.9024  2.927   2.8485  2.6262\n",
      "  2.1665  8.0376  2.8897  3.3532  6.8155  6.7369  2.81    3.4406  3.4773\n",
      "  2.7714  7.7501 12.0377  4.22    3.021   2.2105  2.1224  2.9845  2.7797\n",
      "  3.4425  2.6438  2.9142  3.3659  2.6703  1.9868  3.866   1.2147  3.1004\n",
      "  2.9506  3.4148  3.4854  2.7527  5.2763  2.7783  2.7812  3.0738  8.0371\n",
      "  3.0193  2.7517  2.858   3.4277  3.4897  3.3948  2.9349  5.468   3.4755\n",
      "  3.0923  2.2091  3.0715  3.0323]\n"
     ]
    }
   ],
   "source": [
    "print(test_data_prediction)"
   ]
  },
  {
   "cell_type": "code",
   "execution_count": 47,
   "id": "3d4714ba",
   "metadata": {},
   "outputs": [],
   "source": [
    "Y_test = list(Y_test)"
   ]
  },
  {
   "cell_type": "code",
   "execution_count": 49,
   "id": "7b955bf2",
   "metadata": {},
   "outputs": [],
   "source": [
    "#Training Scores\n",
    "training_data_prediction = regressor.predict(X_train)"
   ]
  },
  {
   "cell_type": "code",
   "execution_count": 50,
   "id": "975f1361",
   "metadata": {},
   "outputs": [
    {
     "data": {
      "text/plain": [
       "0.2613919032597267"
      ]
     },
     "execution_count": 50,
     "metadata": {},
     "output_type": "execute_result"
    }
   ],
   "source": [
    "mean_absolute_error(Y_train, training_data_prediction)"
   ]
  },
  {
   "cell_type": "code",
   "execution_count": 51,
   "id": "05f86ddf",
   "metadata": {},
   "outputs": [
    {
     "data": {
      "text/plain": [
       "0.466414169407153"
      ]
     },
     "execution_count": 51,
     "metadata": {},
     "output_type": "execute_result"
    }
   ],
   "source": [
    "sqrt(mean_squared_error(Y_train, training_data_prediction))"
   ]
  },
  {
   "cell_type": "code",
   "execution_count": 52,
   "id": "5afebc00",
   "metadata": {},
   "outputs": [
    {
     "name": "stdout",
     "output_type": "stream",
     "text": [
      "R squared error :  0.9566688651943445\n"
     ]
    }
   ],
   "source": [
    "# R squared error\n",
    "error_score = metrics.r2_score(Y_train, training_data_prediction)\n",
    "print(\"R squared error : \", error_score)"
   ]
  },
  {
   "cell_type": "code",
   "execution_count": 53,
   "id": "8e1d1efb",
   "metadata": {},
   "outputs": [],
   "source": [
    "def smape(actual, predicted):\n",
    "    \"\"\"\n",
    "    Calculate SMAPE (Symmetric Mean Absolute Percentage Error) for actual and predicted values.\n",
    "    \"\"\"\n",
    "    actual = np.array(actual)\n",
    "    predicted = np.array(predicted)\n",
    "    return 100/len(actual) * np.sum(2 * np.abs(predicted - actual) / (np.abs(actual) + np.abs(predicted)))\n"
   ]
  },
  {
   "cell_type": "code",
   "execution_count": 54,
   "id": "681de7ec",
   "metadata": {},
   "outputs": [
    {
     "name": "stdout",
     "output_type": "stream",
     "text": [
      "SMAPE score:  12.158335658070058\n"
     ]
    }
   ],
   "source": [
    "smape_score = smape(Y_train, training_data_prediction)\n",
    "print(\"SMAPE score: \", smape_score)"
   ]
  },
  {
   "cell_type": "code",
   "execution_count": 55,
   "id": "a1975cf3",
   "metadata": {},
   "outputs": [],
   "source": [
    "#Test Scores"
   ]
  },
  {
   "cell_type": "code",
   "execution_count": 56,
   "id": "f697218c",
   "metadata": {},
   "outputs": [
    {
     "data": {
      "text/plain": [
       "0.7526831932773109"
      ]
     },
     "execution_count": 56,
     "metadata": {},
     "output_type": "execute_result"
    }
   ],
   "source": [
    "mean_absolute_error(Y_test, test_data_prediction)"
   ]
  },
  {
   "cell_type": "code",
   "execution_count": 57,
   "id": "28dc210f",
   "metadata": {},
   "outputs": [],
   "source": [
    "rms = sqrt(mean_squared_error(Y_test, test_data_prediction))"
   ]
  },
  {
   "cell_type": "code",
   "execution_count": 58,
   "id": "a29d61c0",
   "metadata": {},
   "outputs": [
    {
     "name": "stdout",
     "output_type": "stream",
     "text": [
      "1.2842311977380465\n"
     ]
    }
   ],
   "source": [
    "print(rms)"
   ]
  },
  {
   "cell_type": "code",
   "execution_count": 59,
   "id": "3c3d7356",
   "metadata": {},
   "outputs": [
    {
     "name": "stdout",
     "output_type": "stream",
     "text": [
      "R squared error :  0.6686701051744615\n"
     ]
    }
   ],
   "source": [
    "# R squared error\n",
    "error_score = metrics.r2_score(Y_test, test_data_prediction)\n",
    "print(\"R squared error : \", error_score)"
   ]
  },
  {
   "cell_type": "code",
   "execution_count": 61,
   "id": "4ebfe0d4",
   "metadata": {},
   "outputs": [
    {
     "name": "stdout",
     "output_type": "stream",
     "text": [
      "SMAPE score:  26.408884745247512\n"
     ]
    }
   ],
   "source": [
    "smape_score = smape(Y_test, test_data_prediction)\n",
    "print(\"SMAPE score: \", smape_score)"
   ]
  },
  {
   "cell_type": "code",
   "execution_count": 62,
   "id": "227a6d42",
   "metadata": {},
   "outputs": [
    {
     "data": {
      "image/png": "[encoded data removed]",
      "text/plain": [
       "<Figure size 640x480 with 1 Axes>"
      ]
     },
     "metadata": {},
     "output_type": "display_data"
    }
   ],
   "source": [
    "# Plotting the actual values\n",
    "plt.plot(Y_test, label='Actual', marker='o')\n",
    "\n",
    "# Plotting the predicted values\n",
    "plt.plot(test_data_prediction, label='Predicted', marker='s')\n",
    "\n",
    "# Setting labels and title\n",
    "plt.xlabel(\"Data Points\")\n",
    "plt.ylabel(\"Values\")\n",
    "plt.title(\"Actual vs Predicted\")\n",
    "\n",
    "# Displaying the legend\n",
    "plt.legend()\n",
    "\n",
    "# Showing the plot\n",
    "plt.show()"
   ]
  },
  {
   "cell_type": "code",
   "execution_count": 63,
   "id": "d259d236",
   "metadata": {},
   "outputs": [
    {
     "data": {
      "image/png": "[encoded data removed]",
      "text/plain": [
       "<Figure size 640x480 with 1 Axes>"
      ]
     },
     "metadata": {},
     "output_type": "display_data"
    }
   ],
   "source": [
    "# Plotting the scatter plot\n",
    "plt.scatter(range(len(Y_test)),Y_test, color='blue', label='Actual')\n",
    "plt.scatter(range(len(test_data_prediction)), test_data_prediction, color='red', label='Predicted')\n",
    "\n",
    "# Plotting the regression line\n",
    "regression_line = np.polyfit(range(len(Y_test)), Y_test, 1)\n",
    "plt.plot(range(len(Y_test)), np.polyval(regression_line, range(len(Y_test))), color='black', linestyle='--')\n",
    "\n",
    "# Setting labels and title\n",
    "plt.xlabel(\"Data Points\")\n",
    "plt.ylabel(\"Values\")\n",
    "plt.title(\"Actual vs Predicted\")\n",
    "\n",
    "# Displaying the legend\n",
    "plt.legend()\n",
    "\n",
    "# Showing the plot\n",
    "plt.show()"
   ]
  },
  {
   "cell_type": "code",
   "execution_count": 64,
   "id": "9c16f2ac",
   "metadata": {},
   "outputs": [
    {
     "data": {
      "image/png": "[encoded data removed]",
      "text/plain": [
       "<Figure size 640x480 with 1 Axes>"
      ]
     },
     "metadata": {},
     "output_type": "display_data"
    }
   ],
   "source": [
    "#Visualising\n",
    "sns.regplot(x=Y_test, y=test_data_prediction)\n",
    "plt.xlabel(\"Actual\")\n",
    "plt.ylabel('Predicted')\n",
    "plt.title(\"ACtual vs predicted\")\n",
    "plt.show()"
   ]
  },
  {
   "cell_type": "markdown",
   "id": "0fa69893",
   "metadata": {},
   "source": [
    "#SVM "
   ]
  },
  {
   "cell_type": "code",
   "execution_count": 65,
   "id": "c525dd5d",
   "metadata": {},
   "outputs": [],
   "source": [
    "X_train, X_test, Y_train, Y_test = train_test_split(X, Y, test_size = 0.2, random_state=2)"
   ]
  },
  {
   "cell_type": "code",
   "execution_count": 66,
   "id": "64e97c93",
   "metadata": {},
   "outputs": [
    {
     "data": {
      "text/html": [
       "<style>#sk-container-id-4 {color: black;background-color: white;}#sk-container-id-4 pre{padding: 0;}#sk-container-id-4 div.sk-toggleable {background-color: white;}#sk-container-id-4 label.sk-toggleable__label {cursor: pointer;display: block;width: 100%;margin-bottom: 0;padding: 0.3em;box-sizing: border-box;text-align: center;}#sk-container-id-4 label.sk-toggleable__label-arrow:before {content: \"▸\";float: left;margin-right: 0.25em;color: #696969;}#sk-container-id-4 label.sk-toggleable__label-arrow:hover:before {color: black;}#sk-container-id-4 div.sk-estimator:hover label.sk-toggleable__label-arrow:before {color: black;}#sk-container-id-4 div.sk-toggleable__content {max-height: 0;max-width: 0;overflow: hidden;text-align: left;background-color: #f0f8ff;}#sk-container-id-4 div.sk-toggleable__content pre {margin: 0.2em;color: black;border-radius: 0.25em;background-color: #f0f8ff;}#sk-container-id-4 input.sk-toggleable__control:checked~div.sk-toggleable__content {max-height: 200px;max-width: 100%;overflow: auto;}#sk-container-id-4 input.sk-toggleable__control:checked~label.sk-toggleable__label-arrow:before {content: \"▾\";}#sk-container-id-4 div.sk-estimator input.sk-toggleable__control:checked~label.sk-toggleable__label {background-color: #d4ebff;}#sk-container-id-4 div.sk-label input.sk-toggleable__control:checked~label.sk-toggleable__label {background-color: #d4ebff;}#sk-container-id-4 input.sk-hidden--visually {border: 0;clip: rect(1px 1px 1px 1px);clip: rect(1px, 1px, 1px, 1px);height: 1px;margin: -1px;overflow: hidden;padding: 0;position: absolute;width: 1px;}#sk-container-id-4 div.sk-estimator {font-family: monospace;background-color: #f0f8ff;border: 1px dotted black;border-radius: 0.25em;box-sizing: border-box;margin-bottom: 0.5em;}#sk-container-id-4 div.sk-estimator:hover {background-color: #d4ebff;}#sk-container-id-4 div.sk-parallel-item::after {content: \"\";width: 100%;border-bottom: 1px solid gray;flex-grow: 1;}#sk-container-id-4 div.sk-label:hover label.sk-toggleable__label {background-color: #d4ebff;}#sk-container-id-4 div.sk-serial::before {content: \"\";position: absolute;border-left: 1px solid gray;box-sizing: border-box;top: 0;bottom: 0;left: 50%;z-index: 0;}#sk-container-id-4 div.sk-serial {display: flex;flex-direction: column;align-items: center;background-color: white;padding-right: 0.2em;padding-left: 0.2em;position: relative;}#sk-container-id-4 div.sk-item {position: relative;z-index: 1;}#sk-container-id-4 div.sk-parallel {display: flex;align-items: stretch;justify-content: center;background-color: white;position: relative;}#sk-container-id-4 div.sk-item::before, #sk-container-id-4 div.sk-parallel-item::before {content: \"\";position: absolute;border-left: 1px solid gray;box-sizing: border-box;top: 0;bottom: 0;left: 50%;z-index: -1;}#sk-container-id-4 div.sk-parallel-item {display: flex;flex-direction: column;z-index: 1;position: relative;background-color: white;}#sk-container-id-4 div.sk-parallel-item:first-child::after {align-self: flex-end;width: 50%;}#sk-container-id-4 div.sk-parallel-item:last-child::after {align-self: flex-start;width: 50%;}#sk-container-id-4 div.sk-parallel-item:only-child::after {width: 0;}#sk-container-id-4 div.sk-dashed-wrapped {border: 1px dashed gray;margin: 0 0.4em 0.5em 0.4em;box-sizing: border-box;padding-bottom: 0.4em;background-color: white;}#sk-container-id-4 div.sk-label label {font-family: monospace;font-weight: bold;display: inline-block;line-height: 1.2em;}#sk-container-id-4 div.sk-label-container {text-align: center;}#sk-container-id-4 div.sk-container {/* jupyter's `normalize.less` sets `[hidden] { display: none; }` but bootstrap.min.css set `[hidden] { display: none !important; }` so we also need the `!important` here to be able to override the default hidden behavior on the sphinx rendered scikit-learn.org. See: https://github.com/scikit-learn/scikit-learn/issues/21755 */display: inline-block !important;position: relative;}#sk-container-id-4 div.sk-text-repr-fallback {display: none;}</style><div id=\"sk-container-id-4\" class=\"sk-top-container\"><div class=\"sk-text-repr-fallback\"><pre>SVR(C=10, gamma=0.1)</pre><b>In a Jupyter environment, please rerun this cell to show the HTML representation or trust the notebook. <br />On GitHub, the HTML representation is unable to render, please try loading this page with nbviewer.org.</b></div><div class=\"sk-container\" hidden><div class=\"sk-item\"><div class=\"sk-estimator sk-toggleable\"><input class=\"sk-toggleable__control sk-hidden--visually\" id=\"sk-estimator-id-4\" type=\"checkbox\" checked><label for=\"sk-estimator-id-4\" class=\"sk-toggleable__label sk-toggleable__label-arrow\">SVR</label><div class=\"sk-toggleable__content\"><pre>SVR(C=10, gamma=0.1)</pre></div></div></div></div></div>"
      ],
      "text/plain": [
       "SVR(C=10, gamma=0.1)"
      ]
     },
     "execution_count": 66,
     "metadata": {},
     "output_type": "execute_result"
    }
   ],
   "source": [
    "svr = SVR(kernel='rbf', C=10, gamma=0.1, epsilon=0.1)\n",
    "svr.fit(X_train,Y_train)"
   ]
  },
  {
   "cell_type": "code",
   "execution_count": 67,
   "id": "c4238f1c",
   "metadata": {},
   "outputs": [],
   "source": [
    "y_pred = svr.predict(X_test)\n",
    "mse = mean_squared_error(Y_test, y_pred)"
   ]
  },
  {
   "cell_type": "code",
   "execution_count": 68,
   "id": "f62823e3",
   "metadata": {},
   "outputs": [
    {
     "name": "stdout",
     "output_type": "stream",
     "text": [
      "[ 2.62150648  2.76050546  3.68340195  2.02655486  1.73564095  3.56017397\n",
      "  3.21325296  5.33898243  3.26366999  4.26058259  2.9478898   2.81087919\n",
      "  2.7817075   2.73572526  2.81861728  2.3097757   2.85710421  1.53631032\n",
      "  3.48086045  2.48341777  3.13074764  8.2671187   3.0263453   5.45931015\n",
      "  3.31003261  3.00533762  3.13578694  3.09297584  3.32516436  2.22971785\n",
      "  2.90269583  2.05458304  3.17701292  1.50559963  2.13375438  2.90737366\n",
      "  2.9909983   2.14702603  3.28956089  8.49653894  3.21431282  3.05901111\n",
      "  3.24726781  7.46102395  3.53018584  7.79902588  2.9869702   3.63394492\n",
      "  8.05367814  3.28180966  3.26049996  5.6011872   3.67845389  1.16516913\n",
      "  1.77020005  2.57621931  2.59890885  3.65624735  2.01414084  2.80803419\n",
      "  3.03397256  1.6471804   2.92523303  1.70732566  2.91634081  9.68203822\n",
      "  3.0051774   3.10315338  1.95556435  8.92391736  3.38266758  2.38756134\n",
      "  3.8084114   3.05941216  3.71043661  1.83094686  3.2789108   8.21232087\n",
      "  1.29020681  6.9974989   2.42735918  2.92850204  2.6958833   2.87811842\n",
      "  2.87646768  5.00745791  7.54861092  3.10891879  7.94648756  1.87991473\n",
      "  3.20659028  3.09957939  2.88445435  1.5143275   3.03794565  3.32278833\n",
      "  8.75026291  3.01017335  6.92784166  4.25747863  3.09034757  2.99352715\n",
      "  2.91957692  1.37280444  8.44588211  2.22785452  0.61701485  3.10512562\n",
      "  2.85776695  2.73510218  3.50522091  2.6321689   8.7154201   5.59005742\n",
      "  4.26618252  3.56005035  3.25641562  3.07401402  3.12876765  1.9488364\n",
      "  5.78394358  1.91852519  2.70648948  2.44743293  2.57768377  2.21712826\n",
      "  1.87893414  0.8287941   4.25862757  1.46493964  3.27933306  2.46712132\n",
      "  2.69948422  3.37081779  3.2083644   2.31929196  2.50094565  5.13014778\n",
      "  2.89646609  2.81701859  3.11983331  3.42513621  4.19754749  7.70269285\n",
      "  2.98026682  4.46625673  2.50711103  2.6308      2.18509679  3.57197319\n",
      "  7.8698015   5.58245316  3.3778767   4.3705985   2.92930076  2.36052268\n",
      "  5.03712198  2.89398868  2.48536892  2.93925984  2.83136063  3.15089482\n",
      "  3.31333713  3.39165099  2.14348199  2.1210836   7.25968719  3.18774461\n",
      "  2.46151426  2.71771709  6.00916736  5.47179423  5.41329293  2.51336106\n",
      "  3.30445571  2.11701706  2.91647686  8.69322629  3.41168679  3.13153983\n",
      "  1.60118871  2.21537255  0.44189157  4.20232048  3.26207429  6.95834277\n",
      "  3.34833095  2.33795604  2.38563981  2.4117343   5.74481245  3.11650945\n",
      "  2.74319101  5.99898169  6.24885191  2.5809868   2.10065405  2.99326399\n",
      "  3.36404581  6.46520593 11.47752712  1.95912576  3.71219344  1.26583956\n",
      "  2.42830084  3.19238207  3.55201204  3.55643157  3.07487541  3.47200959\n",
      "  3.11260873  2.33811642  2.06890474  4.04579824  1.36614184  4.55862951\n",
      "  2.93740414  3.10137933  3.31161067  3.01745705  8.06783258  2.82982188\n",
      "  3.10941501  2.99126694  5.40143108  2.95879632  2.84540413  2.4416424\n",
      "  3.43510229  2.77874477  3.99662743  2.18108519  1.81406625  2.81781562\n",
      "  3.13701218  3.54509822  2.88110123  3.1220986 ]\n"
     ]
    }
   ],
   "source": [
    "print(y_pred)"
   ]
  },
  {
   "cell_type": "code",
   "execution_count": 69,
   "id": "930dcac6",
   "metadata": {},
   "outputs": [],
   "source": [
    "Y_test = list(Y_test)"
   ]
  },
  {
   "cell_type": "code",
   "execution_count": 71,
   "id": "1df31b21",
   "metadata": {},
   "outputs": [
    {
     "data": {
      "text/plain": [
       "0.918980154958053"
      ]
     },
     "execution_count": 71,
     "metadata": {},
     "output_type": "execute_result"
    }
   ],
   "source": [
    "mean_absolute_error(Y_test, y_pred)"
   ]
  },
  {
   "cell_type": "code",
   "execution_count": 72,
   "id": "51207439",
   "metadata": {},
   "outputs": [],
   "source": [
    "rms = sqrt(mean_squared_error(Y_test, y_pred))"
   ]
  },
  {
   "cell_type": "code",
   "execution_count": 73,
   "id": "97379bf9",
   "metadata": {},
   "outputs": [
    {
     "name": "stdout",
     "output_type": "stream",
     "text": [
      "1.3189365127689678\n"
     ]
    }
   ],
   "source": [
    "print(rms)"
   ]
  },
  {
   "cell_type": "code",
   "execution_count": 74,
   "id": "33eb3c3c",
   "metadata": {},
   "outputs": [
    {
     "name": "stdout",
     "output_type": "stream",
     "text": [
      "R squared error :  0.6505202848399511\n"
     ]
    }
   ],
   "source": [
    "# R squared error\n",
    "error_score = metrics.r2_score(Y_test, y_pred)\n",
    "print(\"R squared error : \", error_score)"
   ]
  },
  {
   "cell_type": "code",
   "execution_count": 75,
   "id": "f5360828",
   "metadata": {},
   "outputs": [
    {
     "name": "stdout",
     "output_type": "stream",
     "text": [
      "SMAPE score:  31.041775739239025\n"
     ]
    }
   ],
   "source": [
    "smape_score = smape(Y_test, y_pred)\n",
    "print(\"SMAPE score: \", smape_score)"
   ]
  },
  {
   "cell_type": "code",
   "execution_count": 76,
   "id": "c340cce7",
   "metadata": {},
   "outputs": [
    {
     "data": {
      "image/png": "[encoded data removed]",
      "text/plain": [
       "<Figure size 640x480 with 1 Axes>"
      ]
     },
     "metadata": {},
     "output_type": "display_data"
    }
   ],
   "source": [
    "# Plotting the actual values\n",
    "plt.plot(Y_test, label='Actual', marker='o')\n",
    "\n",
    "# Plotting the predicted values\n",
    "plt.plot(y_pred, label='Predicted', marker='s')\n",
    "\n",
    "# Setting labels and title\n",
    "plt.xlabel(\"Data Points\")\n",
    "plt.ylabel(\"Values\")\n",
    "plt.title(\"Actual vs Predicted\")\n",
    "\n",
    "# Displaying the legend\n",
    "plt.legend()\n",
    "\n",
    "# Showing the plot\n",
    "plt.show()"
   ]
  },
  {
   "cell_type": "code",
   "execution_count": 77,
   "id": "2565be61",
   "metadata": {},
   "outputs": [
    {
     "data": {
      "image/png": "[encoded data removed]",
      "text/plain": [
       "<Figure size 640x480 with 1 Axes>"
      ]
     },
     "metadata": {},
     "output_type": "display_data"
    }
   ],
   "source": [
    "#Visualising\n",
    "sns.regplot(x=Y_test, y=y_pred)\n",
    "plt.xlabel(\"Actual\")\n",
    "plt.ylabel('Predicted')\n",
    "plt.title(\"ACtual vs predicted\")\n",
    "plt.show()"
   ]
  },
  {
   "cell_type": "markdown",
   "id": "5d156f24",
   "metadata": {},
   "source": [
    "#XGB"
   ]
  },
  {
   "cell_type": "code",
   "execution_count": 78,
   "id": "96b61c97",
   "metadata": {},
   "outputs": [],
   "source": [
    "# loading the model\n",
    "xb_model = XGBRegressor(objective='reg:squarederror', alpha=0.5)"
   ]
  },
  {
   "cell_type": "code",
   "execution_count": 79,
   "id": "681eed80",
   "metadata": {},
   "outputs": [
    {
     "data": {
      "text/html": [
       "<style>#sk-container-id-5 {color: black;background-color: white;}#sk-container-id-5 pre{padding: 0;}#sk-container-id-5 div.sk-toggleable {background-color: white;}#sk-container-id-5 label.sk-toggleable__label {cursor: pointer;display: block;width: 100%;margin-bottom: 0;padding: 0.3em;box-sizing: border-box;text-align: center;}#sk-container-id-5 label.sk-toggleable__label-arrow:before {content: \"▸\";float: left;margin-right: 0.25em;color: #696969;}#sk-container-id-5 label.sk-toggleable__label-arrow:hover:before {color: black;}#sk-container-id-5 div.sk-estimator:hover label.sk-toggleable__label-arrow:before {color: black;}#sk-container-id-5 div.sk-toggleable__content {max-height: 0;max-width: 0;overflow: hidden;text-align: left;background-color: #f0f8ff;}#sk-container-id-5 div.sk-toggleable__content pre {margin: 0.2em;color: black;border-radius: 0.25em;background-color: #f0f8ff;}#sk-container-id-5 input.sk-toggleable__control:checked~div.sk-toggleable__content {max-height: 200px;max-width: 100%;overflow: auto;}#sk-container-id-5 input.sk-toggleable__control:checked~label.sk-toggleable__label-arrow:before {content: \"▾\";}#sk-container-id-5 div.sk-estimator input.sk-toggleable__control:checked~label.sk-toggleable__label {background-color: #d4ebff;}#sk-container-id-5 div.sk-label input.sk-toggleable__control:checked~label.sk-toggleable__label {background-color: #d4ebff;}#sk-container-id-5 input.sk-hidden--visually {border: 0;clip: rect(1px 1px 1px 1px);clip: rect(1px, 1px, 1px, 1px);height: 1px;margin: -1px;overflow: hidden;padding: 0;position: absolute;width: 1px;}#sk-container-id-5 div.sk-estimator {font-family: monospace;background-color: #f0f8ff;border: 1px dotted black;border-radius: 0.25em;box-sizing: border-box;margin-bottom: 0.5em;}#sk-container-id-5 div.sk-estimator:hover {background-color: #d4ebff;}#sk-container-id-5 div.sk-parallel-item::after {content: \"\";width: 100%;border-bottom: 1px solid gray;flex-grow: 1;}#sk-container-id-5 div.sk-label:hover label.sk-toggleable__label {background-color: #d4ebff;}#sk-container-id-5 div.sk-serial::before {content: \"\";position: absolute;border-left: 1px solid gray;box-sizing: border-box;top: 0;bottom: 0;left: 50%;z-index: 0;}#sk-container-id-5 div.sk-serial {display: flex;flex-direction: column;align-items: center;background-color: white;padding-right: 0.2em;padding-left: 0.2em;position: relative;}#sk-container-id-5 div.sk-item {position: relative;z-index: 1;}#sk-container-id-5 div.sk-parallel {display: flex;align-items: stretch;justify-content: center;background-color: white;position: relative;}#sk-container-id-5 div.sk-item::before, #sk-container-id-5 div.sk-parallel-item::before {content: \"\";position: absolute;border-left: 1px solid gray;box-sizing: border-box;top: 0;bottom: 0;left: 50%;z-index: -1;}#sk-container-id-5 div.sk-parallel-item {display: flex;flex-direction: column;z-index: 1;position: relative;background-color: white;}#sk-container-id-5 div.sk-parallel-item:first-child::after {align-self: flex-end;width: 50%;}#sk-container-id-5 div.sk-parallel-item:last-child::after {align-self: flex-start;width: 50%;}#sk-container-id-5 div.sk-parallel-item:only-child::after {width: 0;}#sk-container-id-5 div.sk-dashed-wrapped {border: 1px dashed gray;margin: 0 0.4em 0.5em 0.4em;box-sizing: border-box;padding-bottom: 0.4em;background-color: white;}#sk-container-id-5 div.sk-label label {font-family: monospace;font-weight: bold;display: inline-block;line-height: 1.2em;}#sk-container-id-5 div.sk-label-container {text-align: center;}#sk-container-id-5 div.sk-container {/* jupyter's `normalize.less` sets `[hidden] { display: none; }` but bootstrap.min.css set `[hidden] { display: none !important; }` so we also need the `!important` here to be able to override the default hidden behavior on the sphinx rendered scikit-learn.org. See: https://github.com/scikit-learn/scikit-learn/issues/21755 */display: inline-block !important;position: relative;}#sk-container-id-5 div.sk-text-repr-fallback {display: none;}</style><div id=\"sk-container-id-5\" class=\"sk-top-container\"><div class=\"sk-text-repr-fallback\"><pre>XGBRegressor(alpha=0.5, base_score=None, booster=None, callbacks=None,\n",
       "             colsample_bylevel=None, colsample_bynode=None,\n",
       "             colsample_bytree=None, early_stopping_rounds=None,\n",
       "             enable_categorical=False, eval_metric=None, feature_types=None,\n",
       "             gamma=None, gpu_id=None, grow_policy=None, importance_type=None,\n",
       "             interaction_constraints=None, learning_rate=None, max_bin=None,\n",
       "             max_cat_threshold=None, max_cat_to_onehot=None,\n",
       "             max_delta_step=None, max_depth=None, max_leaves=None,\n",
       "             min_child_weight=None, missing=nan, monotone_constraints=None,\n",
       "             n_estimators=100, n_jobs=None, num_parallel_tree=None,\n",
       "             predictor=None, ...)</pre><b>In a Jupyter environment, please rerun this cell to show the HTML representation or trust the notebook. <br />On GitHub, the HTML representation is unable to render, please try loading this page with nbviewer.org.</b></div><div class=\"sk-container\" hidden><div class=\"sk-item\"><div class=\"sk-estimator sk-toggleable\"><input class=\"sk-toggleable__control sk-hidden--visually\" id=\"sk-estimator-id-5\" type=\"checkbox\" checked><label for=\"sk-estimator-id-5\" class=\"sk-toggleable__label sk-toggleable__label-arrow\">XGBRegressor</label><div class=\"sk-toggleable__content\"><pre>XGBRegressor(alpha=0.5, base_score=None, booster=None, callbacks=None,\n",
       "             colsample_bylevel=None, colsample_bynode=None,\n",
       "             colsample_bytree=None, early_stopping_rounds=None,\n",
       "             enable_categorical=False, eval_metric=None, feature_types=None,\n",
       "             gamma=None, gpu_id=None, grow_policy=None, importance_type=None,\n",
       "             interaction_constraints=None, learning_rate=None, max_bin=None,\n",
       "             max_cat_threshold=None, max_cat_to_onehot=None,\n",
       "             max_delta_step=None, max_depth=None, max_leaves=None,\n",
       "             min_child_weight=None, missing=nan, monotone_constraints=None,\n",
       "             n_estimators=100, n_jobs=None, num_parallel_tree=None,\n",
       "             predictor=None, ...)</pre></div></div></div></div></div>"
      ],
      "text/plain": [
       "XGBRegressor(alpha=0.5, base_score=None, booster=None, callbacks=None,\n",
       "             colsample_bylevel=None, colsample_bynode=None,\n",
       "             colsample_bytree=None, early_stopping_rounds=None,\n",
       "             enable_categorical=False, eval_metric=None, feature_types=None,\n",
       "             gamma=None, gpu_id=None, grow_policy=None, importance_type=None,\n",
       "             interaction_constraints=None, learning_rate=None, max_bin=None,\n",
       "             max_cat_threshold=None, max_cat_to_onehot=None,\n",
       "             max_delta_step=None, max_depth=None, max_leaves=None,\n",
       "             min_child_weight=None, missing=nan, monotone_constraints=None,\n",
       "             n_estimators=100, n_jobs=None, num_parallel_tree=None,\n",
       "             predictor=None, ...)"
      ]
     },
     "execution_count": 79,
     "metadata": {},
     "output_type": "execute_result"
    }
   ],
   "source": [
    "# training the model with X_train\n",
    "xb_model.fit(X_train, Y_train)"
   ]
  },
  {
   "cell_type": "code",
   "execution_count": 80,
   "id": "9e86d343",
   "metadata": {},
   "outputs": [],
   "source": [
    "test_prediction = xb_model.predict(X_test)"
   ]
  },
  {
   "cell_type": "code",
   "execution_count": 81,
   "id": "9df529dd",
   "metadata": {},
   "outputs": [
    {
     "name": "stdout",
     "output_type": "stream",
     "text": [
      "[ 3.0953114   3.4179726   1.9127024   2.1625814   1.3496805   3.4805348\n",
      "  2.6465955   2.1300738   3.2119546   0.5661781   3.6620193   3.0219052\n",
      "  3.6560526   2.686375    2.6961017   2.1800249   2.5916703   1.2206478\n",
      "  2.161857    2.656722    2.770552    5.580329    2.7217665   4.809842\n",
      "  2.6565025   2.4997568   2.7017      2.949554    3.0550187   2.4709232\n",
      "  2.7189195   3.3410788   3.0201392   1.1328564   2.5256782   2.864068\n",
      "  3.272258    2.0590801   3.6347842   9.408652    2.9763424   3.5903926\n",
      "  3.4644277   6.165265    3.195861    8.487294    2.738966    2.81887\n",
      "  8.607166    2.3617768   0.67301714  3.4102077   2.394519    3.036287\n",
      "  2.8543315   2.747874    2.7049482   3.5012143   2.0801728   2.8394012\n",
      "  3.6755996   2.1319742   2.916168    1.1337582   3.4872482   9.66423\n",
      "  2.9249082   2.7684684   3.0685024   7.768773    3.8489277   4.748402\n",
      "  0.61696744  2.8300073   2.7265255   2.865923    2.910267    7.699561\n",
      "  1.0697603   6.9986634   1.937737    3.1157076   2.8674843   3.3326528\n",
      "  3.0102386   5.9977612   6.2691793   2.7523632   8.90873     1.9377856\n",
      "  2.6528056   2.9100943   3.022902    1.443047    2.6355643   3.4741232\n",
      "  7.8947673   3.0597565   7.9998484   4.1412497   2.6607468   2.8882172\n",
      "  2.8159673   1.4636647   6.9686236   0.39083782  1.3018075   2.0408847\n",
      "  2.8304636   2.3631945   3.654788    3.3742733   7.998045    4.8247557\n",
      "  3.7375884   3.423846    3.3246803   3.3574781   3.3740125   0.72681797\n",
      "  8.882723    3.9921353   2.7400272   1.1951314   3.5254774   2.1292996\n",
      "  4.0676713  -0.32686955  2.5714228   1.4977617   3.5808601   2.726779\n",
      "  3.9193919   3.8464391   3.1013422   3.0809684   2.9995527   2.8473618\n",
      "  2.8071432   2.9079423   2.6264114   3.556996    1.6432303   7.694151\n",
      "  2.7073977   2.133867    2.6853633   2.8446293   1.6380055   3.3570979\n",
      "  6.705586    6.8099823   3.7947092   2.5470822   2.3753142   1.8009443\n",
      "  6.0274625   2.854172    2.9304593   3.2409945   3.9490178   2.4857404\n",
      "  3.5273197   3.062749    3.0680585   1.9722316   4.626215    2.97352\n",
      "  1.3115981   3.8540006   7.191695    3.8288786   4.439606    2.7953694\n",
      "  3.3382409   4.0754433   3.033746    6.9933286   3.0500257   3.5368783\n",
      "  1.4844887   1.0487089  -0.16264307  4.8247705   2.7891455   7.99951\n",
      "  3.349545    3.0831118   2.4356103   1.4659823   7.7255535   3.0128026\n",
      "  3.3122149   6.793439    7.6192656   2.7701626   3.6033757   3.5514612\n",
      "  3.0446842   8.388817   12.730688    2.0765755   3.0219166   1.7862985\n",
      "  2.7407312   3.0786018   3.083812    3.2835214   2.4343057   2.7279706\n",
      "  3.49718     2.706429    1.9328865   3.9171524   1.182396   -0.05318015\n",
      "  2.9736657   3.3841302   3.4417665   2.7959855   6.695488    2.7690578\n",
      "  2.852801    2.9901476   8.225233    3.1384778   2.7087493   2.649847\n",
      "  3.217876    3.130342    4.288569    2.8338091   6.0898824   3.4243395\n",
      "  3.084167    1.799265    3.1683717   2.9837954 ]\n"
     ]
    }
   ],
   "source": [
    "print(test_prediction)"
   ]
  },
  {
   "cell_type": "code",
   "execution_count": 82,
   "id": "d6a92fde",
   "metadata": {},
   "outputs": [],
   "source": [
    "Y_test = list(Y_test)"
   ]
  },
  {
   "cell_type": "code",
   "execution_count": 83,
   "id": "d9669083",
   "metadata": {},
   "outputs": [
    {
     "data": {
      "image/png": "[encoded data removed]",
      "text/plain": [
       "<Figure size 640x480 with 1 Axes>"
      ]
     },
     "metadata": {},
     "output_type": "display_data"
    }
   ],
   "source": [
    "plt.plot(Y_test, color='blue', label = 'Actual Value')\n",
    "plt.plot(test_prediction, color='green', label='Predicted Value')\n",
    "plt.title('Actual vs Predicted')\n",
    "plt.xlabel('Number of values')\n",
    "plt.ylabel('Session Length')\n",
    "plt.legend()\n",
    "plt.show()"
   ]
  },
  {
   "cell_type": "code",
   "execution_count": 84,
   "id": "8022a776",
   "metadata": {},
   "outputs": [],
   "source": [
    "#Training Scores\n",
    "training_data_prediction = xb_model.predict(X_train)"
   ]
  },
  {
   "cell_type": "code",
   "execution_count": 85,
   "id": "b2837d47",
   "metadata": {},
   "outputs": [
    {
     "data": {
      "text/plain": [
       "0.060885761358572474"
      ]
     },
     "execution_count": 85,
     "metadata": {},
     "output_type": "execute_result"
    }
   ],
   "source": [
    "mean_absolute_error(Y_train, training_data_prediction)"
   ]
  },
  {
   "cell_type": "code",
   "execution_count": 86,
   "id": "d3ea834c",
   "metadata": {},
   "outputs": [
    {
     "data": {
      "text/plain": [
       "0.08399099288820527"
      ]
     },
     "execution_count": 86,
     "metadata": {},
     "output_type": "execute_result"
    }
   ],
   "source": [
    "sqrt(mean_squared_error(Y_train, training_data_prediction))"
   ]
  },
  {
   "cell_type": "code",
   "execution_count": 87,
   "id": "9b96c799",
   "metadata": {},
   "outputs": [
    {
     "name": "stdout",
     "output_type": "stream",
     "text": [
      "R squared error :  0.9985948521529158\n"
     ]
    }
   ],
   "source": [
    "# R squared error\n",
    "error_score = metrics.r2_score(Y_train, training_data_prediction)\n",
    "print(\"R squared error : \", error_score)"
   ]
  },
  {
   "cell_type": "code",
   "execution_count": 88,
   "id": "c80a00e0",
   "metadata": {},
   "outputs": [
    {
     "name": "stdout",
     "output_type": "stream",
     "text": [
      "SMAPE score:  3.9408432916104434\n"
     ]
    }
   ],
   "source": [
    "smape_score = smape(Y_train, training_data_prediction)\n",
    "print(\"SMAPE score: \", smape_score)\n"
   ]
  },
  {
   "cell_type": "code",
   "execution_count": 89,
   "id": "e5686bdd",
   "metadata": {},
   "outputs": [],
   "source": [
    "#Test Scores"
   ]
  },
  {
   "cell_type": "code",
   "execution_count": 90,
   "id": "20eee23d",
   "metadata": {},
   "outputs": [
    {
     "data": {
      "text/plain": [
       "0.7015380085610292"
      ]
     },
     "execution_count": 90,
     "metadata": {},
     "output_type": "execute_result"
    }
   ],
   "source": [
    "mean_absolute_error(Y_test, test_prediction)"
   ]
  },
  {
   "cell_type": "code",
   "execution_count": 91,
   "id": "80f41965",
   "metadata": {},
   "outputs": [],
   "source": [
    "rms = sqrt(mean_squared_error(Y_test, test_prediction))"
   ]
  },
  {
   "cell_type": "code",
   "execution_count": 92,
   "id": "5bbf4b33",
   "metadata": {},
   "outputs": [
    {
     "name": "stdout",
     "output_type": "stream",
     "text": [
      "1.1889503702840651\n"
     ]
    }
   ],
   "source": [
    "print(rms)"
   ]
  },
  {
   "cell_type": "code",
   "execution_count": 93,
   "id": "420fe4f1",
   "metadata": {},
   "outputs": [
    {
     "name": "stdout",
     "output_type": "stream",
     "text": [
      "R squared error :  0.7160109181662759\n"
     ]
    }
   ],
   "source": [
    "# R squared error\n",
    "error_score = metrics.r2_score(Y_test, test_prediction)\n",
    "print(\"R squared error : \", error_score)"
   ]
  },
  {
   "cell_type": "code",
   "execution_count": 94,
   "id": "b6439721",
   "metadata": {},
   "outputs": [
    {
     "name": "stdout",
     "output_type": "stream",
     "text": [
      "SMAPE score:  25.73470469266902\n"
     ]
    }
   ],
   "source": [
    "smape_score = smape(Y_test, test_prediction)\n",
    "print(\"SMAPE score: \", smape_score)"
   ]
  },
  {
   "cell_type": "code",
   "execution_count": 95,
   "id": "c169d0fe",
   "metadata": {},
   "outputs": [
    {
     "data": {
      "image/png": "[encoded data removed]",
      "text/plain": [
       "<Figure size 640x480 with 1 Axes>"
      ]
     },
     "metadata": {},
     "output_type": "display_data"
    }
   ],
   "source": [
    "# Plotting the actual values\n",
    "plt.plot(Y_test, label='Actual', marker='o')\n",
    "\n",
    "# Plotting the predicted values\n",
    "plt.plot(test_prediction, label='Predicted', marker='s')\n",
    "\n",
    "# Setting labels and title\n",
    "plt.xlabel(\"Data Points\")\n",
    "plt.ylabel(\"Values\")\n",
    "plt.title(\"Actual vs Predicted\")\n",
    "\n",
    "# Displaying the legend\n",
    "plt.legend()\n",
    "\n",
    "# Showing the plot\n",
    "plt.show()"
   ]
  },
  {
   "cell_type": "code",
   "execution_count": 96,
   "id": "1a86269e",
   "metadata": {},
   "outputs": [
    {
     "data": {
      "image/png": "[encoded data removed]",
      "text/plain": [
       "<Figure size 640x480 with 1 Axes>"
      ]
     },
     "metadata": {},
     "output_type": "display_data"
    }
   ],
   "source": [
    "#Visualising\n",
    "sns.regplot(x=Y_test, y=test_prediction)\n",
    "plt.xlabel(\"Actual\")\n",
    "plt.ylabel('Predicted')\n",
    "plt.title(\"ACtual vs predicted\")\n",
    "plt.show()"
   ]
  },
  {
   "cell_type": "markdown",
   "id": "def1e20e",
   "metadata": {},
   "source": [
    "# Ensemble Learning"
   ]
  },
  {
   "cell_type": "code",
   "execution_count": 141,
   "id": "b39a9400",
   "metadata": {
    "scrolled": true
   },
   "outputs": [
    {
     "data": {
      "text/html": [
       "<style>#sk-container-id-6 {color: black;background-color: white;}#sk-container-id-6 pre{padding: 0;}#sk-container-id-6 div.sk-toggleable {background-color: white;}#sk-container-id-6 label.sk-toggleable__label {cursor: pointer;display: block;width: 100%;margin-bottom: 0;padding: 0.3em;box-sizing: border-box;text-align: center;}#sk-container-id-6 label.sk-toggleable__label-arrow:before {content: \"▸\";float: left;margin-right: 0.25em;color: #696969;}#sk-container-id-6 label.sk-toggleable__label-arrow:hover:before {color: black;}#sk-container-id-6 div.sk-estimator:hover label.sk-toggleable__label-arrow:before {color: black;}#sk-container-id-6 div.sk-toggleable__content {max-height: 0;max-width: 0;overflow: hidden;text-align: left;background-color: #f0f8ff;}#sk-container-id-6 div.sk-toggleable__content pre {margin: 0.2em;color: black;border-radius: 0.25em;background-color: #f0f8ff;}#sk-container-id-6 input.sk-toggleable__control:checked~div.sk-toggleable__content {max-height: 200px;max-width: 100%;overflow: auto;}#sk-container-id-6 input.sk-toggleable__control:checked~label.sk-toggleable__label-arrow:before {content: \"▾\";}#sk-container-id-6 div.sk-estimator input.sk-toggleable__control:checked~label.sk-toggleable__label {background-color: #d4ebff;}#sk-container-id-6 div.sk-label input.sk-toggleable__control:checked~label.sk-toggleable__label {background-color: #d4ebff;}#sk-container-id-6 input.sk-hidden--visually {border: 0;clip: rect(1px 1px 1px 1px);clip: rect(1px, 1px, 1px, 1px);height: 1px;margin: -1px;overflow: hidden;padding: 0;position: absolute;width: 1px;}#sk-container-id-6 div.sk-estimator {font-family: monospace;background-color: #f0f8ff;border: 1px dotted black;border-radius: 0.25em;box-sizing: border-box;margin-bottom: 0.5em;}#sk-container-id-6 div.sk-estimator:hover {background-color: #d4ebff;}#sk-container-id-6 div.sk-parallel-item::after {content: \"\";width: 100%;border-bottom: 1px solid gray;flex-grow: 1;}#sk-container-id-6 div.sk-label:hover label.sk-toggleable__label {background-color: #d4ebff;}#sk-container-id-6 div.sk-serial::before {content: \"\";position: absolute;border-left: 1px solid gray;box-sizing: border-box;top: 0;bottom: 0;left: 50%;z-index: 0;}#sk-container-id-6 div.sk-serial {display: flex;flex-direction: column;align-items: center;background-color: white;padding-right: 0.2em;padding-left: 0.2em;position: relative;}#sk-container-id-6 div.sk-item {position: relative;z-index: 1;}#sk-container-id-6 div.sk-parallel {display: flex;align-items: stretch;justify-content: center;background-color: white;position: relative;}#sk-container-id-6 div.sk-item::before, #sk-container-id-6 div.sk-parallel-item::before {content: \"\";position: absolute;border-left: 1px solid gray;box-sizing: border-box;top: 0;bottom: 0;left: 50%;z-index: -1;}#sk-container-id-6 div.sk-parallel-item {display: flex;flex-direction: column;z-index: 1;position: relative;background-color: white;}#sk-container-id-6 div.sk-parallel-item:first-child::after {align-self: flex-end;width: 50%;}#sk-container-id-6 div.sk-parallel-item:last-child::after {align-self: flex-start;width: 50%;}#sk-container-id-6 div.sk-parallel-item:only-child::after {width: 0;}#sk-container-id-6 div.sk-dashed-wrapped {border: 1px dashed gray;margin: 0 0.4em 0.5em 0.4em;box-sizing: border-box;padding-bottom: 0.4em;background-color: white;}#sk-container-id-6 div.sk-label label {font-family: monospace;font-weight: bold;display: inline-block;line-height: 1.2em;}#sk-container-id-6 div.sk-label-container {text-align: center;}#sk-container-id-6 div.sk-container {/* jupyter's `normalize.less` sets `[hidden] { display: none; }` but bootstrap.min.css set `[hidden] { display: none !important; }` so we also need the `!important` here to be able to override the default hidden behavior on the sphinx rendered scikit-learn.org. See: https://github.com/scikit-learn/scikit-learn/issues/21755 */display: inline-block !important;position: relative;}#sk-container-id-6 div.sk-text-repr-fallback {display: none;}</style><div id=\"sk-container-id-6\" class=\"sk-top-container\"><div class=\"sk-text-repr-fallback\"><pre>StackingRegressor(estimators=[(&#x27;rf&#x27;, RandomForestRegressor()),\n",
       "                              (&#x27;svm&#x27;, SVR(C=10, gamma=0.1))])</pre><b>In a Jupyter environment, please rerun this cell to show the HTML representation or trust the notebook. <br />On GitHub, the HTML representation is unable to render, please try loading this page with nbviewer.org.</b></div><div class=\"sk-container\" hidden><div class=\"sk-item sk-dashed-wrapped\"><div class=\"sk-label-container\"><div class=\"sk-label sk-toggleable\"><input class=\"sk-toggleable__control sk-hidden--visually\" id=\"sk-estimator-id-6\" type=\"checkbox\" ><label for=\"sk-estimator-id-6\" class=\"sk-toggleable__label sk-toggleable__label-arrow\">StackingRegressor</label><div class=\"sk-toggleable__content\"><pre>StackingRegressor(estimators=[(&#x27;rf&#x27;, RandomForestRegressor()),\n",
       "                              (&#x27;svm&#x27;, SVR(C=10, gamma=0.1))])</pre></div></div></div><div class=\"sk-serial\"><div class=\"sk-item\"><div class=\"sk-parallel\"><div class=\"sk-parallel-item\"><div class=\"sk-item\"><div class=\"sk-label-container\"><div class=\"sk-label sk-toggleable\"><label>rf</label></div></div><div class=\"sk-serial\"><div class=\"sk-item\"><div class=\"sk-estimator sk-toggleable\"><input class=\"sk-toggleable__control sk-hidden--visually\" id=\"sk-estimator-id-7\" type=\"checkbox\" ><label for=\"sk-estimator-id-7\" class=\"sk-toggleable__label sk-toggleable__label-arrow\">RandomForestRegressor</label><div class=\"sk-toggleable__content\"><pre>RandomForestRegressor()</pre></div></div></div></div></div></div><div class=\"sk-parallel-item\"><div class=\"sk-item\"><div class=\"sk-label-container\"><div class=\"sk-label sk-toggleable\"><label>svm</label></div></div><div class=\"sk-serial\"><div class=\"sk-item\"><div class=\"sk-estimator sk-toggleable\"><input class=\"sk-toggleable__control sk-hidden--visually\" id=\"sk-estimator-id-8\" type=\"checkbox\" ><label for=\"sk-estimator-id-8\" class=\"sk-toggleable__label sk-toggleable__label-arrow\">SVR</label><div class=\"sk-toggleable__content\"><pre>SVR(C=10, gamma=0.1)</pre></div></div></div></div></div></div></div></div><div class=\"sk-item\"><div class=\"sk-parallel\"><div class=\"sk-parallel-item\"><div class=\"sk-item\"><div class=\"sk-label-container\"><div class=\"sk-label sk-toggleable\"><label>final_estimator</label></div></div><div class=\"sk-serial\"><div class=\"sk-item\"><div class=\"sk-estimator sk-toggleable\"><input class=\"sk-toggleable__control sk-hidden--visually\" id=\"sk-estimator-id-9\" type=\"checkbox\" ><label for=\"sk-estimator-id-9\" class=\"sk-toggleable__label sk-toggleable__label-arrow\">RidgeCV</label><div class=\"sk-toggleable__content\"><pre>RidgeCV()</pre></div></div></div></div></div></div></div></div></div></div></div></div>"
      ],
      "text/plain": [
       "StackingRegressor(estimators=[('rf', RandomForestRegressor()),\n",
       "                              ('svm', SVR(C=10, gamma=0.1))])"
      ]
     },
     "execution_count": 141,
     "metadata": {},
     "output_type": "execute_result"
    }
   ],
   "source": [
    "stack_regressor = StackingRegressor(estimators=[('rf', regressor),('svm',svr)])\n",
    "stack_regressor.fit(X_train, Y_train)"
   ]
  },
  {
   "cell_type": "code",
   "execution_count": 142,
   "id": "e7602ef0",
   "metadata": {},
   "outputs": [],
   "source": [
    "pred=stack_regressor.predict(X_test)"
   ]
  },
  {
   "cell_type": "code",
   "execution_count": 143,
   "id": "174949d6",
   "metadata": {},
   "outputs": [
    {
     "name": "stdout",
     "output_type": "stream",
     "text": [
      "[ 3.26277238  2.83015518  2.14664537  1.9523485   1.94274181  3.40916641\n",
      "  2.79881773  2.69279178  3.38627543  0.68260289  3.69690484  3.11974461\n",
      "  3.51229067  2.71818476  2.71514336  2.73604798  2.73278025  1.31410787\n",
      "  3.24527816  2.03429764  2.91524605  4.21782694  2.82763206  5.35257274\n",
      "  2.91256953  2.79369985  2.74955721  2.95948834  2.82314167  2.22864575\n",
      "  2.74422167  2.97216275  2.88282456  1.06052245  2.15183854  3.0440942\n",
      "  3.0149867   1.96777384  3.43773427  8.20344095  2.83431842  3.4317258\n",
      "  3.44394235  6.03495902  3.28394841  8.09112772  2.65675927  2.96707302\n",
      "  7.37780986  2.71754872  1.38373342  2.38976265  3.42539002  3.18513121\n",
      "  2.22604317  2.93918981  2.62965773  3.38528997  2.01690975  2.80299066\n",
      "  3.39346293  1.39317252  2.89816179  1.50973264  3.386564   10.58872905\n",
      "  2.94683503  2.90259902  3.22520698  7.77541819  3.16412996  3.8595025\n",
      "  1.6186846   2.6773831   2.80971592  2.47719515  3.45000862  8.3249765\n",
      "  1.22471086  6.3936636   1.97618062  2.9574434   2.60064055  2.91692905\n",
      "  2.91759583  6.75143828  5.85895085  2.49524046  7.5584459   1.85398212\n",
      "  2.93051075  2.84943247  2.93587913  1.37398987  2.84763814  3.44899663\n",
      "  7.65327225  2.98289728  8.10335859  3.68680722  2.59057397  2.7037012\n",
      "  2.9412709   1.76032769  7.57661793  1.57679728  0.90967745  0.94026013\n",
      "  3.00200377  2.18310666  3.51026712  3.24270412  8.40540661  3.30567103\n",
      "  3.52926553  3.63282774  3.25297028  3.06899889  3.36111835  1.15244249\n",
      "  8.13680236  3.0042115   2.81130154  1.8300024   3.25709502  2.01183328\n",
      "  3.7453434   0.50083462  2.58148223  1.42408593  3.44867358  2.78903912\n",
      "  3.73943636  3.93791513  2.88556138  3.26987119  3.13362182  3.07037031\n",
      "  2.77599572  2.81641764  2.13276274  3.37555929  2.52902715  6.9586465\n",
      "  2.775426    1.99414584  2.62239774  2.93223635  1.84340842  3.39874489\n",
      "  6.94728024  6.42517717  3.43796513  3.13743698  2.7018412   3.47356992\n",
      "  5.56521601  2.88470555  2.72513     3.4320515   3.26926871  2.76971684\n",
      "  3.38747038  3.08208993  2.834339    1.98252246  4.56132808  2.86734831\n",
      "  2.00046278  3.66910634  6.21434432  3.09044499  5.03002053  2.77569022\n",
      "  3.40495853  3.61286446  2.89181816  7.31177854  2.77138583  3.3722061\n",
      "  1.72192539  1.48279072  1.03949276  4.87140563  2.93281476  6.90061779\n",
      "  2.8705788   2.86310986  2.68143406  1.97513807  7.54190015  2.87490274\n",
      "  3.28455036  6.355053    6.61988041  2.83326778  3.49592515  3.42614313\n",
      "  2.84081646  7.26326388 12.03402199  4.00716732  3.16469882  2.20354237\n",
      "  2.03533034  3.13090102  2.84805294  3.44017065  2.73701084  2.90153563\n",
      "  3.34351726  2.61982678  1.98062768  3.72864841  1.19449779  2.86891694\n",
      "  2.94564306  3.37178467  3.604008    2.81164653  5.87728524  2.82709347\n",
      "  2.79572005  2.97667901  7.95057213  2.97374298  2.79777692  2.70836535\n",
      "  3.4210863   3.41039476  3.28794982  2.87096603  4.3931654   3.45083107\n",
      "  3.0469888   2.43333193  3.16785066  3.08544857]\n"
     ]
    }
   ],
   "source": [
    "print(pred)"
   ]
  },
  {
   "cell_type": "code",
   "execution_count": 144,
   "id": "e0952529",
   "metadata": {},
   "outputs": [],
   "source": [
    "#Train Scores\n",
    "training_data_prediction = stack_regressor.predict(X_train)"
   ]
  },
  {
   "cell_type": "code",
   "execution_count": 145,
   "id": "9aa2e6c1",
   "metadata": {},
   "outputs": [
    {
     "data": {
      "text/plain": [
       "0.28266594887749497"
      ]
     },
     "execution_count": 145,
     "metadata": {},
     "output_type": "execute_result"
    }
   ],
   "source": [
    "mean_absolute_error(Y_train, training_data_prediction)"
   ]
  },
  {
   "cell_type": "code",
   "execution_count": 146,
   "id": "3ac3f1ae",
   "metadata": {},
   "outputs": [
    {
     "data": {
      "text/plain": [
       "0.49399701364979476"
      ]
     },
     "execution_count": 146,
     "metadata": {},
     "output_type": "execute_result"
    }
   ],
   "source": [
    "sqrt(mean_squared_error(Y_train, training_data_prediction))"
   ]
  },
  {
   "cell_type": "code",
   "execution_count": 147,
   "id": "15210031",
   "metadata": {},
   "outputs": [
    {
     "name": "stdout",
     "output_type": "stream",
     "text": [
      "R squared error :  0.9513922813041391\n"
     ]
    }
   ],
   "source": [
    "# R squared error\n",
    "error_score = metrics.r2_score(Y_train, training_data_prediction)\n",
    "print(\"R squared error : \", error_score)"
   ]
  },
  {
   "cell_type": "code",
   "execution_count": 148,
   "id": "371c67b0",
   "metadata": {},
   "outputs": [
    {
     "name": "stdout",
     "output_type": "stream",
     "text": [
      "SMAPE score: 13.470299278695869\n"
     ]
    }
   ],
   "source": [
    "smape_score = smape(Y_train, training_data_prediction)\n",
    "print(\"SMAPE score:\", smape_score)"
   ]
  },
  {
   "cell_type": "code",
   "execution_count": 149,
   "id": "25b4e49e",
   "metadata": {},
   "outputs": [
    {
     "data": {
      "text/plain": [
       "0.7579286660800356"
      ]
     },
     "execution_count": 149,
     "metadata": {},
     "output_type": "execute_result"
    }
   ],
   "source": [
    "#Test Scores\n",
    "mean_absolute_error(Y_test, pred)"
   ]
  },
  {
   "cell_type": "code",
   "execution_count": 150,
   "id": "01211516",
   "metadata": {},
   "outputs": [],
   "source": [
    "rms = sqrt(mean_squared_error(Y_test, pred))"
   ]
  },
  {
   "cell_type": "code",
   "execution_count": 151,
   "id": "988c1269",
   "metadata": {},
   "outputs": [
    {
     "name": "stdout",
     "output_type": "stream",
     "text": [
      "1.2368797271210956\n"
     ]
    }
   ],
   "source": [
    "print(rms)"
   ]
  },
  {
   "cell_type": "code",
   "execution_count": 152,
   "id": "2523bc8b",
   "metadata": {},
   "outputs": [
    {
     "name": "stdout",
     "output_type": "stream",
     "text": [
      "R squared error :  0.6926528903139788\n"
     ]
    }
   ],
   "source": [
    "# R squared error\n",
    "error_score = metrics.r2_score(Y_test, pred)\n",
    "print(\"R squared error : \", error_score)"
   ]
  },
  {
   "cell_type": "code",
   "execution_count": 153,
   "id": "492ba673",
   "metadata": {},
   "outputs": [
    {
     "name": "stdout",
     "output_type": "stream",
     "text": [
      "SMAPE score: 26.758389235085154\n"
     ]
    }
   ],
   "source": [
    "smape_score = smape(Y_test, pred)\n",
    "print(\"SMAPE score:\", smape_score)"
   ]
  },
  {
   "cell_type": "code",
   "execution_count": 154,
   "id": "ed1ab51e",
   "metadata": {},
   "outputs": [
    {
     "data": {
      "text/html": [
       "<style>#sk-container-id-7 {color: black;background-color: white;}#sk-container-id-7 pre{padding: 0;}#sk-container-id-7 div.sk-toggleable {background-color: white;}#sk-container-id-7 label.sk-toggleable__label {cursor: pointer;display: block;width: 100%;margin-bottom: 0;padding: 0.3em;box-sizing: border-box;text-align: center;}#sk-container-id-7 label.sk-toggleable__label-arrow:before {content: \"▸\";float: left;margin-right: 0.25em;color: #696969;}#sk-container-id-7 label.sk-toggleable__label-arrow:hover:before {color: black;}#sk-container-id-7 div.sk-estimator:hover label.sk-toggleable__label-arrow:before {color: black;}#sk-container-id-7 div.sk-toggleable__content {max-height: 0;max-width: 0;overflow: hidden;text-align: left;background-color: #f0f8ff;}#sk-container-id-7 div.sk-toggleable__content pre {margin: 0.2em;color: black;border-radius: 0.25em;background-color: #f0f8ff;}#sk-container-id-7 input.sk-toggleable__control:checked~div.sk-toggleable__content {max-height: 200px;max-width: 100%;overflow: auto;}#sk-container-id-7 input.sk-toggleable__control:checked~label.sk-toggleable__label-arrow:before {content: \"▾\";}#sk-container-id-7 div.sk-estimator input.sk-toggleable__control:checked~label.sk-toggleable__label {background-color: #d4ebff;}#sk-container-id-7 div.sk-label input.sk-toggleable__control:checked~label.sk-toggleable__label {background-color: #d4ebff;}#sk-container-id-7 input.sk-hidden--visually {border: 0;clip: rect(1px 1px 1px 1px);clip: rect(1px, 1px, 1px, 1px);height: 1px;margin: -1px;overflow: hidden;padding: 0;position: absolute;width: 1px;}#sk-container-id-7 div.sk-estimator {font-family: monospace;background-color: #f0f8ff;border: 1px dotted black;border-radius: 0.25em;box-sizing: border-box;margin-bottom: 0.5em;}#sk-container-id-7 div.sk-estimator:hover {background-color: #d4ebff;}#sk-container-id-7 div.sk-parallel-item::after {content: \"\";width: 100%;border-bottom: 1px solid gray;flex-grow: 1;}#sk-container-id-7 div.sk-label:hover label.sk-toggleable__label {background-color: #d4ebff;}#sk-container-id-7 div.sk-serial::before {content: \"\";position: absolute;border-left: 1px solid gray;box-sizing: border-box;top: 0;bottom: 0;left: 50%;z-index: 0;}#sk-container-id-7 div.sk-serial {display: flex;flex-direction: column;align-items: center;background-color: white;padding-right: 0.2em;padding-left: 0.2em;position: relative;}#sk-container-id-7 div.sk-item {position: relative;z-index: 1;}#sk-container-id-7 div.sk-parallel {display: flex;align-items: stretch;justify-content: center;background-color: white;position: relative;}#sk-container-id-7 div.sk-item::before, #sk-container-id-7 div.sk-parallel-item::before {content: \"\";position: absolute;border-left: 1px solid gray;box-sizing: border-box;top: 0;bottom: 0;left: 50%;z-index: -1;}#sk-container-id-7 div.sk-parallel-item {display: flex;flex-direction: column;z-index: 1;position: relative;background-color: white;}#sk-container-id-7 div.sk-parallel-item:first-child::after {align-self: flex-end;width: 50%;}#sk-container-id-7 div.sk-parallel-item:last-child::after {align-self: flex-start;width: 50%;}#sk-container-id-7 div.sk-parallel-item:only-child::after {width: 0;}#sk-container-id-7 div.sk-dashed-wrapped {border: 1px dashed gray;margin: 0 0.4em 0.5em 0.4em;box-sizing: border-box;padding-bottom: 0.4em;background-color: white;}#sk-container-id-7 div.sk-label label {font-family: monospace;font-weight: bold;display: inline-block;line-height: 1.2em;}#sk-container-id-7 div.sk-label-container {text-align: center;}#sk-container-id-7 div.sk-container {/* jupyter's `normalize.less` sets `[hidden] { display: none; }` but bootstrap.min.css set `[hidden] { display: none !important; }` so we also need the `!important` here to be able to override the default hidden behavior on the sphinx rendered scikit-learn.org. See: https://github.com/scikit-learn/scikit-learn/issues/21755 */display: inline-block !important;position: relative;}#sk-container-id-7 div.sk-text-repr-fallback {display: none;}</style><div id=\"sk-container-id-7\" class=\"sk-top-container\"><div class=\"sk-text-repr-fallback\"><pre>StackingRegressor(estimators=[(&#x27;rf&#x27;, RandomForestRegressor()),\n",
       "                              (&#x27;xb&#x27;,\n",
       "                               XGBRegressor(alpha=0.5, base_score=None,\n",
       "                                            booster=None, callbacks=None,\n",
       "                                            colsample_bylevel=None,\n",
       "                                            colsample_bynode=None,\n",
       "                                            colsample_bytree=None,\n",
       "                                            early_stopping_rounds=None,\n",
       "                                            enable_categorical=False,\n",
       "                                            eval_metric=None,\n",
       "                                            feature_types=None, gamma=None,\n",
       "                                            gpu_id=None, grow_policy=None,\n",
       "                                            importance_type=None,\n",
       "                                            interaction_constraints=None,\n",
       "                                            learning_rate=None, max_bin=None,\n",
       "                                            max_cat_threshold=None,\n",
       "                                            max_cat_to_onehot=None,\n",
       "                                            max_delta_step=None, max_depth=None,\n",
       "                                            max_leaves=None,\n",
       "                                            min_child_weight=None, missing=nan,\n",
       "                                            monotone_constraints=None,\n",
       "                                            n_estimators=100, n_jobs=None,\n",
       "                                            num_parallel_tree=None,\n",
       "                                            predictor=None, ...)),\n",
       "                              (&#x27;svm&#x27;, SVR(C=10, gamma=0.1))])</pre><b>In a Jupyter environment, please rerun this cell to show the HTML representation or trust the notebook. <br />On GitHub, the HTML representation is unable to render, please try loading this page with nbviewer.org.</b></div><div class=\"sk-container\" hidden><div class=\"sk-item sk-dashed-wrapped\"><div class=\"sk-label-container\"><div class=\"sk-label sk-toggleable\"><input class=\"sk-toggleable__control sk-hidden--visually\" id=\"sk-estimator-id-10\" type=\"checkbox\" ><label for=\"sk-estimator-id-10\" class=\"sk-toggleable__label sk-toggleable__label-arrow\">StackingRegressor</label><div class=\"sk-toggleable__content\"><pre>StackingRegressor(estimators=[(&#x27;rf&#x27;, RandomForestRegressor()),\n",
       "                              (&#x27;xb&#x27;,\n",
       "                               XGBRegressor(alpha=0.5, base_score=None,\n",
       "                                            booster=None, callbacks=None,\n",
       "                                            colsample_bylevel=None,\n",
       "                                            colsample_bynode=None,\n",
       "                                            colsample_bytree=None,\n",
       "                                            early_stopping_rounds=None,\n",
       "                                            enable_categorical=False,\n",
       "                                            eval_metric=None,\n",
       "                                            feature_types=None, gamma=None,\n",
       "                                            gpu_id=None, grow_policy=None,\n",
       "                                            importance_type=None,\n",
       "                                            interaction_constraints=None,\n",
       "                                            learning_rate=None, max_bin=None,\n",
       "                                            max_cat_threshold=None,\n",
       "                                            max_cat_to_onehot=None,\n",
       "                                            max_delta_step=None, max_depth=None,\n",
       "                                            max_leaves=None,\n",
       "                                            min_child_weight=None, missing=nan,\n",
       "                                            monotone_constraints=None,\n",
       "                                            n_estimators=100, n_jobs=None,\n",
       "                                            num_parallel_tree=None,\n",
       "                                            predictor=None, ...)),\n",
       "                              (&#x27;svm&#x27;, SVR(C=10, gamma=0.1))])</pre></div></div></div><div class=\"sk-serial\"><div class=\"sk-item\"><div class=\"sk-parallel\"><div class=\"sk-parallel-item\"><div class=\"sk-item\"><div class=\"sk-label-container\"><div class=\"sk-label sk-toggleable\"><label>rf</label></div></div><div class=\"sk-serial\"><div class=\"sk-item\"><div class=\"sk-estimator sk-toggleable\"><input class=\"sk-toggleable__control sk-hidden--visually\" id=\"sk-estimator-id-11\" type=\"checkbox\" ><label for=\"sk-estimator-id-11\" class=\"sk-toggleable__label sk-toggleable__label-arrow\">RandomForestRegressor</label><div class=\"sk-toggleable__content\"><pre>RandomForestRegressor()</pre></div></div></div></div></div></div><div class=\"sk-parallel-item\"><div class=\"sk-item\"><div class=\"sk-label-container\"><div class=\"sk-label sk-toggleable\"><label>xb</label></div></div><div class=\"sk-serial\"><div class=\"sk-item\"><div class=\"sk-estimator sk-toggleable\"><input class=\"sk-toggleable__control sk-hidden--visually\" id=\"sk-estimator-id-12\" type=\"checkbox\" ><label for=\"sk-estimator-id-12\" class=\"sk-toggleable__label sk-toggleable__label-arrow\">XGBRegressor</label><div class=\"sk-toggleable__content\"><pre>XGBRegressor(alpha=0.5, base_score=None, booster=None, callbacks=None,\n",
       "             colsample_bylevel=None, colsample_bynode=None,\n",
       "             colsample_bytree=None, early_stopping_rounds=None,\n",
       "             enable_categorical=False, eval_metric=None, feature_types=None,\n",
       "             gamma=None, gpu_id=None, grow_policy=None, importance_type=None,\n",
       "             interaction_constraints=None, learning_rate=None, max_bin=None,\n",
       "             max_cat_threshold=None, max_cat_to_onehot=None,\n",
       "             max_delta_step=None, max_depth=None, max_leaves=None,\n",
       "             min_child_weight=None, missing=nan, monotone_constraints=None,\n",
       "             n_estimators=100, n_jobs=None, num_parallel_tree=None,\n",
       "             predictor=None, ...)</pre></div></div></div></div></div></div><div class=\"sk-parallel-item\"><div class=\"sk-item\"><div class=\"sk-label-container\"><div class=\"sk-label sk-toggleable\"><label>svm</label></div></div><div class=\"sk-serial\"><div class=\"sk-item\"><div class=\"sk-estimator sk-toggleable\"><input class=\"sk-toggleable__control sk-hidden--visually\" id=\"sk-estimator-id-13\" type=\"checkbox\" ><label for=\"sk-estimator-id-13\" class=\"sk-toggleable__label sk-toggleable__label-arrow\">SVR</label><div class=\"sk-toggleable__content\"><pre>SVR(C=10, gamma=0.1)</pre></div></div></div></div></div></div></div></div><div class=\"sk-item\"><div class=\"sk-parallel\"><div class=\"sk-parallel-item\"><div class=\"sk-item\"><div class=\"sk-label-container\"><div class=\"sk-label sk-toggleable\"><label>final_estimator</label></div></div><div class=\"sk-serial\"><div class=\"sk-item\"><div class=\"sk-estimator sk-toggleable\"><input class=\"sk-toggleable__control sk-hidden--visually\" id=\"sk-estimator-id-14\" type=\"checkbox\" ><label for=\"sk-estimator-id-14\" class=\"sk-toggleable__label sk-toggleable__label-arrow\">RidgeCV</label><div class=\"sk-toggleable__content\"><pre>RidgeCV()</pre></div></div></div></div></div></div></div></div></div></div></div></div>"
      ],
      "text/plain": [
       "StackingRegressor(estimators=[('rf', RandomForestRegressor()),\n",
       "                              ('xb',\n",
       "                               XGBRegressor(alpha=0.5, base_score=None,\n",
       "                                            booster=None, callbacks=None,\n",
       "                                            colsample_bylevel=None,\n",
       "                                            colsample_bynode=None,\n",
       "                                            colsample_bytree=None,\n",
       "                                            early_stopping_rounds=None,\n",
       "                                            enable_categorical=False,\n",
       "                                            eval_metric=None,\n",
       "                                            feature_types=None, gamma=None,\n",
       "                                            gpu_id=None, grow_policy=None,\n",
       "                                            importance_type=None,\n",
       "                                            interaction_constraints=None,\n",
       "                                            learning_rate=None, max_bin=None,\n",
       "                                            max_cat_threshold=None,\n",
       "                                            max_cat_to_onehot=None,\n",
       "                                            max_delta_step=None, max_depth=None,\n",
       "                                            max_leaves=None,\n",
       "                                            min_child_weight=None, missing=nan,\n",
       "                                            monotone_constraints=None,\n",
       "                                            n_estimators=100, n_jobs=None,\n",
       "                                            num_parallel_tree=None,\n",
       "                                            predictor=None, ...)),\n",
       "                              ('svm', SVR(C=10, gamma=0.1))])"
      ]
     },
     "execution_count": 154,
     "metadata": {},
     "output_type": "execute_result"
    }
   ],
   "source": [
    "stack_regressor = StackingRegressor(estimators=[('rf', regressor),('xb',xb_model),('svm',svr)])\n",
    "stack_regressor.fit(X_train, Y_train)"
   ]
  },
  {
   "cell_type": "code",
   "execution_count": 155,
   "id": "2e899018",
   "metadata": {},
   "outputs": [],
   "source": [
    "predict_ed = stack_regressor.predict(X_test)"
   ]
  },
  {
   "cell_type": "code",
   "execution_count": 156,
   "id": "8d9f5ad1",
   "metadata": {},
   "outputs": [
    {
     "name": "stdout",
     "output_type": "stream",
     "text": [
      "[ 3.1622518   2.95130506  2.28757142  2.0067605   1.75539439  3.42435503\n",
      "  2.82500726  2.62667142  3.33346159  0.83280808  3.64403391  3.10214969\n",
      "  3.22898839  2.71107942  2.75552737  2.46151731  2.74157012  1.31462913\n",
      "  2.86631141  2.32133481  2.88833367  4.71042922  2.79161556  5.20585149\n",
      "  2.91740454  2.7420829   2.80265667  2.97930448  2.90423121  2.55689207\n",
      "  2.70618485  3.16193548  2.95464006  1.03532402  2.2707429   2.98302121\n",
      "  3.08285933  2.00445988  3.3939099   8.31434988  2.87038193  3.44478863\n",
      "  3.43898283  6.56065267  3.19946287  8.16723769  2.74496938  2.96319004\n",
      "  7.70728105  2.71472054  1.32851984  2.6871442   3.24255608  2.96378698\n",
      "  2.40223563  2.93245451  2.69385726  3.40462843  2.03526217  2.83433759\n",
      "  3.43509613  1.51232844  2.87318575  1.41759535  3.3789723   9.98122907\n",
      "  2.86581424  2.84454278  3.2429204   7.83472578  3.32085367  4.1258641\n",
      "  1.53703778  2.77254643  2.82202101  2.44055211  3.2240795   8.12085231\n",
      "  1.05426698  6.57338206  2.03698379  3.00489908  2.70227172  3.07052617\n",
      "  2.96701763  6.5928557   6.28027996  2.5360527   7.81640804  1.95182978\n",
      "  2.83585635  2.88699261  2.93212242  1.5178144   2.78804412  3.44685443\n",
      "  7.70496165  2.93013261  8.03718262  3.92545178  2.68939646  2.74802999\n",
      "  2.90750322  1.59102471  7.39741936  1.50609864  1.15336175  1.24166707\n",
      "  2.93963165  2.18985093  3.53478764  3.16743072  8.12122164  3.32630048\n",
      "  3.72860983  3.66548336  3.2271854   3.0826612   3.32303524  0.99029736\n",
      "  8.36254013  3.13240904  2.77505414  1.68155356  3.43678101  2.07089032\n",
      "  3.53275285  0.32897688  2.65243463  1.52421532  3.4649699   2.73358469\n",
      "  3.73842991  3.80638512  2.95766561  3.18496176  2.9056019   3.03903413\n",
      "  2.75027441  2.82088709  2.28448541  3.42908301  2.32257132  7.14785657\n",
      "  2.68335706  1.92090799  2.66081301  2.91750748  1.63215882  3.39913854\n",
      "  6.81807441  6.36077108  3.49863894  2.60026516  2.65993641  2.61104431\n",
      "  5.43900206  2.86907239  2.77912448  3.3616292   3.35287741  2.74194066\n",
      "  3.43532695  3.11183939  2.87380244  1.98136996  4.82423043  2.94125299\n",
      "  1.8772858   3.62447845  6.62138841  3.44907459  4.42126573  2.80216103\n",
      "  3.39100342  3.52171656  2.89567474  7.01399423  2.94443921  3.41196079\n",
      "  1.63797676  1.42407543  0.98572602  5.09145735  2.95466804  7.15811984\n",
      "  3.02573944  2.81474246  2.47851889  1.77993511  7.61873355  2.98439847\n",
      "  3.28703637  6.38654473  6.67730662  2.79820194  3.40905863  3.44101623\n",
      "  2.92889303  7.64085942 12.03027258  3.87305091  3.09760944  2.16618066\n",
      "  2.30413596  3.03848437  2.95329077  3.40782037  2.65092221  2.84727185\n",
      "  3.3703982   2.64186872  1.98404281  3.75024565  1.2330433   2.42183144\n",
      "  2.95756701  3.34890562  3.44473016  2.79598092  5.82862734  2.76047515\n",
      "  2.85493188  3.01651363  7.69897957  3.00174243  2.78876535  2.7070302\n",
      "  3.37560747  3.33458314  3.70507274  2.78865075  5.19254919  3.37830841\n",
      "  3.07946917  2.29419427  3.09132826  3.05449634]\n"
     ]
    }
   ],
   "source": [
    "print(predict_ed)"
   ]
  },
  {
   "cell_type": "code",
   "execution_count": 157,
   "id": "7792c1b7",
   "metadata": {},
   "outputs": [],
   "source": [
    "#Train Scores\n",
    "training_data_prediction = stack_regressor.predict(X_train)"
   ]
  },
  {
   "cell_type": "code",
   "execution_count": 158,
   "id": "2998ca1e",
   "metadata": {},
   "outputs": [
    {
     "data": {
      "text/plain": [
       "0.25364288574941496"
      ]
     },
     "execution_count": 158,
     "metadata": {},
     "output_type": "execute_result"
    }
   ],
   "source": [
    "mean_absolute_error(Y_train, training_data_prediction)"
   ]
  },
  {
   "cell_type": "code",
   "execution_count": 159,
   "id": "281e6203",
   "metadata": {},
   "outputs": [
    {
     "data": {
      "text/plain": [
       "0.4343575174173468"
      ]
     },
     "execution_count": 159,
     "metadata": {},
     "output_type": "execute_result"
    }
   ],
   "source": [
    "sqrt(mean_squared_error(Y_train, training_data_prediction))"
   ]
  },
  {
   "cell_type": "code",
   "execution_count": 160,
   "id": "f818d58c",
   "metadata": {},
   "outputs": [
    {
     "name": "stdout",
     "output_type": "stream",
     "text": [
      "R squared error :  0.9624204758712539\n"
     ]
    }
   ],
   "source": [
    "# R squared error\n",
    "error_score = metrics.r2_score(Y_train, training_data_prediction)\n",
    "print(\"R squared error : \", error_score)"
   ]
  },
  {
   "cell_type": "code",
   "execution_count": 161,
   "id": "1e261821",
   "metadata": {},
   "outputs": [
    {
     "name": "stdout",
     "output_type": "stream",
     "text": [
      "SMAPE score: 12.110245112118417\n"
     ]
    }
   ],
   "source": [
    "smape_score = smape(Y_train, training_data_prediction)\n",
    "print(\"SMAPE score:\", smape_score)"
   ]
  },
  {
   "cell_type": "code",
   "execution_count": 207,
   "id": "ac8f9f76",
   "metadata": {},
   "outputs": [
    {
     "data": {
      "text/plain": [
       "0.7435460520107228"
      ]
     },
     "execution_count": 207,
     "metadata": {},
     "output_type": "execute_result"
    }
   ],
   "source": [
    "#Test Scores\n",
    "mean_absolute_error(Y_test, predict_ed)"
   ]
  },
  {
   "cell_type": "code",
   "execution_count": 208,
   "id": "749d8824",
   "metadata": {},
   "outputs": [
    {
     "data": {
      "text/plain": [
       "1.2176713607535516"
      ]
     },
     "execution_count": 208,
     "metadata": {},
     "output_type": "execute_result"
    }
   ],
   "source": [
    "sqrt(mean_squared_error(Y_test, predict_ed))"
   ]
  },
  {
   "cell_type": "code",
   "execution_count": 209,
   "id": "da225c64",
   "metadata": {},
   "outputs": [
    {
     "name": "stdout",
     "output_type": "stream",
     "text": [
      "R squared error :  0.7021247814293399\n"
     ]
    }
   ],
   "source": [
    "# R squared error\n",
    "error_score = metrics.r2_score(Y_test, predict_ed)\n",
    "print(\"R squared error : \", error_score)"
   ]
  },
  {
   "cell_type": "code",
   "execution_count": 210,
   "id": "8a80af4e",
   "metadata": {},
   "outputs": [
    {
     "name": "stdout",
     "output_type": "stream",
     "text": [
      "SMAPE score: 26.09454593011365\n"
     ]
    }
   ],
   "source": [
    "smape_score = smape(Y_test, predict_ed)\n",
    "print(\"SMAPE score:\", smape_score)"
   ]
  },
  {
   "cell_type": "code",
   "execution_count": 211,
   "id": "40cc3ad7",
   "metadata": {},
   "outputs": [
    {
     "data": {
      "image/png": "[encoded data removed]",
      "text/plain": [
       "<Figure size 640x480 with 1 Axes>"
      ]
     },
     "metadata": {},
     "output_type": "display_data"
    }
   ],
   "source": [
    "#Visualising\n",
    "sns.regplot(x=Y_test, y=predict_ed)\n",
    "plt.xlabel(\"Actual\")\n",
    "plt.ylabel('Predicted')\n",
    "plt.title(\"ACtual vs predicted\")\n",
    "plt.show()"
   ]
  },
  {
   "cell_type": "code",
   "execution_count": 166,
   "id": "77a0a466",
   "metadata": {},
   "outputs": [
    {
     "data": {
      "text/html": [
       "<style>#sk-container-id-8 {color: black;background-color: white;}#sk-container-id-8 pre{padding: 0;}#sk-container-id-8 div.sk-toggleable {background-color: white;}#sk-container-id-8 label.sk-toggleable__label {cursor: pointer;display: block;width: 100%;margin-bottom: 0;padding: 0.3em;box-sizing: border-box;text-align: center;}#sk-container-id-8 label.sk-toggleable__label-arrow:before {content: \"▸\";float: left;margin-right: 0.25em;color: #696969;}#sk-container-id-8 label.sk-toggleable__label-arrow:hover:before {color: black;}#sk-container-id-8 div.sk-estimator:hover label.sk-toggleable__label-arrow:before {color: black;}#sk-container-id-8 div.sk-toggleable__content {max-height: 0;max-width: 0;overflow: hidden;text-align: left;background-color: #f0f8ff;}#sk-container-id-8 div.sk-toggleable__content pre {margin: 0.2em;color: black;border-radius: 0.25em;background-color: #f0f8ff;}#sk-container-id-8 input.sk-toggleable__control:checked~div.sk-toggleable__content {max-height: 200px;max-width: 100%;overflow: auto;}#sk-container-id-8 input.sk-toggleable__control:checked~label.sk-toggleable__label-arrow:before {content: \"▾\";}#sk-container-id-8 div.sk-estimator input.sk-toggleable__control:checked~label.sk-toggleable__label {background-color: #d4ebff;}#sk-container-id-8 div.sk-label input.sk-toggleable__control:checked~label.sk-toggleable__label {background-color: #d4ebff;}#sk-container-id-8 input.sk-hidden--visually {border: 0;clip: rect(1px 1px 1px 1px);clip: rect(1px, 1px, 1px, 1px);height: 1px;margin: -1px;overflow: hidden;padding: 0;position: absolute;width: 1px;}#sk-container-id-8 div.sk-estimator {font-family: monospace;background-color: #f0f8ff;border: 1px dotted black;border-radius: 0.25em;box-sizing: border-box;margin-bottom: 0.5em;}#sk-container-id-8 div.sk-estimator:hover {background-color: #d4ebff;}#sk-container-id-8 div.sk-parallel-item::after {content: \"\";width: 100%;border-bottom: 1px solid gray;flex-grow: 1;}#sk-container-id-8 div.sk-label:hover label.sk-toggleable__label {background-color: #d4ebff;}#sk-container-id-8 div.sk-serial::before {content: \"\";position: absolute;border-left: 1px solid gray;box-sizing: border-box;top: 0;bottom: 0;left: 50%;z-index: 0;}#sk-container-id-8 div.sk-serial {display: flex;flex-direction: column;align-items: center;background-color: white;padding-right: 0.2em;padding-left: 0.2em;position: relative;}#sk-container-id-8 div.sk-item {position: relative;z-index: 1;}#sk-container-id-8 div.sk-parallel {display: flex;align-items: stretch;justify-content: center;background-color: white;position: relative;}#sk-container-id-8 div.sk-item::before, #sk-container-id-8 div.sk-parallel-item::before {content: \"\";position: absolute;border-left: 1px solid gray;box-sizing: border-box;top: 0;bottom: 0;left: 50%;z-index: -1;}#sk-container-id-8 div.sk-parallel-item {display: flex;flex-direction: column;z-index: 1;position: relative;background-color: white;}#sk-container-id-8 div.sk-parallel-item:first-child::after {align-self: flex-end;width: 50%;}#sk-container-id-8 div.sk-parallel-item:last-child::after {align-self: flex-start;width: 50%;}#sk-container-id-8 div.sk-parallel-item:only-child::after {width: 0;}#sk-container-id-8 div.sk-dashed-wrapped {border: 1px dashed gray;margin: 0 0.4em 0.5em 0.4em;box-sizing: border-box;padding-bottom: 0.4em;background-color: white;}#sk-container-id-8 div.sk-label label {font-family: monospace;font-weight: bold;display: inline-block;line-height: 1.2em;}#sk-container-id-8 div.sk-label-container {text-align: center;}#sk-container-id-8 div.sk-container {/* jupyter's `normalize.less` sets `[hidden] { display: none; }` but bootstrap.min.css set `[hidden] { display: none !important; }` so we also need the `!important` here to be able to override the default hidden behavior on the sphinx rendered scikit-learn.org. See: https://github.com/scikit-learn/scikit-learn/issues/21755 */display: inline-block !important;position: relative;}#sk-container-id-8 div.sk-text-repr-fallback {display: none;}</style><div id=\"sk-container-id-8\" class=\"sk-top-container\"><div class=\"sk-text-repr-fallback\"><pre>StackingRegressor(estimators=[(&#x27;xb&#x27;,\n",
       "                               XGBRegressor(alpha=0.5, base_score=None,\n",
       "                                            booster=None, callbacks=None,\n",
       "                                            colsample_bylevel=None,\n",
       "                                            colsample_bynode=None,\n",
       "                                            colsample_bytree=None,\n",
       "                                            early_stopping_rounds=None,\n",
       "                                            enable_categorical=False,\n",
       "                                            eval_metric=None,\n",
       "                                            feature_types=None, gamma=None,\n",
       "                                            gpu_id=None, grow_policy=None,\n",
       "                                            importance_type=None,\n",
       "                                            interaction_constraints=None,\n",
       "                                            learning_rate=None, max_bin=None,\n",
       "                                            max_cat_threshold=None,\n",
       "                                            max_cat_to_onehot=None,\n",
       "                                            max_delta_step=None, max_depth=None,\n",
       "                                            max_leaves=None,\n",
       "                                            min_child_weight=None, missing=nan,\n",
       "                                            monotone_constraints=None,\n",
       "                                            n_estimators=100, n_jobs=None,\n",
       "                                            num_parallel_tree=None,\n",
       "                                            predictor=None, ...)),\n",
       "                              (&#x27;rf&#x27;, RandomForestRegressor())])</pre><b>In a Jupyter environment, please rerun this cell to show the HTML representation or trust the notebook. <br />On GitHub, the HTML representation is unable to render, please try loading this page with nbviewer.org.</b></div><div class=\"sk-container\" hidden><div class=\"sk-item sk-dashed-wrapped\"><div class=\"sk-label-container\"><div class=\"sk-label sk-toggleable\"><input class=\"sk-toggleable__control sk-hidden--visually\" id=\"sk-estimator-id-15\" type=\"checkbox\" ><label for=\"sk-estimator-id-15\" class=\"sk-toggleable__label sk-toggleable__label-arrow\">StackingRegressor</label><div class=\"sk-toggleable__content\"><pre>StackingRegressor(estimators=[(&#x27;xb&#x27;,\n",
       "                               XGBRegressor(alpha=0.5, base_score=None,\n",
       "                                            booster=None, callbacks=None,\n",
       "                                            colsample_bylevel=None,\n",
       "                                            colsample_bynode=None,\n",
       "                                            colsample_bytree=None,\n",
       "                                            early_stopping_rounds=None,\n",
       "                                            enable_categorical=False,\n",
       "                                            eval_metric=None,\n",
       "                                            feature_types=None, gamma=None,\n",
       "                                            gpu_id=None, grow_policy=None,\n",
       "                                            importance_type=None,\n",
       "                                            interaction_constraints=None,\n",
       "                                            learning_rate=None, max_bin=None,\n",
       "                                            max_cat_threshold=None,\n",
       "                                            max_cat_to_onehot=None,\n",
       "                                            max_delta_step=None, max_depth=None,\n",
       "                                            max_leaves=None,\n",
       "                                            min_child_weight=None, missing=nan,\n",
       "                                            monotone_constraints=None,\n",
       "                                            n_estimators=100, n_jobs=None,\n",
       "                                            num_parallel_tree=None,\n",
       "                                            predictor=None, ...)),\n",
       "                              (&#x27;rf&#x27;, RandomForestRegressor())])</pre></div></div></div><div class=\"sk-serial\"><div class=\"sk-item\"><div class=\"sk-parallel\"><div class=\"sk-parallel-item\"><div class=\"sk-item\"><div class=\"sk-label-container\"><div class=\"sk-label sk-toggleable\"><label>xb</label></div></div><div class=\"sk-serial\"><div class=\"sk-item\"><div class=\"sk-estimator sk-toggleable\"><input class=\"sk-toggleable__control sk-hidden--visually\" id=\"sk-estimator-id-16\" type=\"checkbox\" ><label for=\"sk-estimator-id-16\" class=\"sk-toggleable__label sk-toggleable__label-arrow\">XGBRegressor</label><div class=\"sk-toggleable__content\"><pre>XGBRegressor(alpha=0.5, base_score=None, booster=None, callbacks=None,\n",
       "             colsample_bylevel=None, colsample_bynode=None,\n",
       "             colsample_bytree=None, early_stopping_rounds=None,\n",
       "             enable_categorical=False, eval_metric=None, feature_types=None,\n",
       "             gamma=None, gpu_id=None, grow_policy=None, importance_type=None,\n",
       "             interaction_constraints=None, learning_rate=None, max_bin=None,\n",
       "             max_cat_threshold=None, max_cat_to_onehot=None,\n",
       "             max_delta_step=None, max_depth=None, max_leaves=None,\n",
       "             min_child_weight=None, missing=nan, monotone_constraints=None,\n",
       "             n_estimators=100, n_jobs=None, num_parallel_tree=None,\n",
       "             predictor=None, ...)</pre></div></div></div></div></div></div><div class=\"sk-parallel-item\"><div class=\"sk-item\"><div class=\"sk-label-container\"><div class=\"sk-label sk-toggleable\"><label>rf</label></div></div><div class=\"sk-serial\"><div class=\"sk-item\"><div class=\"sk-estimator sk-toggleable\"><input class=\"sk-toggleable__control sk-hidden--visually\" id=\"sk-estimator-id-17\" type=\"checkbox\" ><label for=\"sk-estimator-id-17\" class=\"sk-toggleable__label sk-toggleable__label-arrow\">RandomForestRegressor</label><div class=\"sk-toggleable__content\"><pre>RandomForestRegressor()</pre></div></div></div></div></div></div></div></div><div class=\"sk-item\"><div class=\"sk-parallel\"><div class=\"sk-parallel-item\"><div class=\"sk-item\"><div class=\"sk-label-container\"><div class=\"sk-label sk-toggleable\"><label>final_estimator</label></div></div><div class=\"sk-serial\"><div class=\"sk-item\"><div class=\"sk-estimator sk-toggleable\"><input class=\"sk-toggleable__control sk-hidden--visually\" id=\"sk-estimator-id-18\" type=\"checkbox\" ><label for=\"sk-estimator-id-18\" class=\"sk-toggleable__label sk-toggleable__label-arrow\">RidgeCV</label><div class=\"sk-toggleable__content\"><pre>RidgeCV()</pre></div></div></div></div></div></div></div></div></div></div></div></div>"
      ],
      "text/plain": [
       "StackingRegressor(estimators=[('xb',\n",
       "                               XGBRegressor(alpha=0.5, base_score=None,\n",
       "                                            booster=None, callbacks=None,\n",
       "                                            colsample_bylevel=None,\n",
       "                                            colsample_bynode=None,\n",
       "                                            colsample_bytree=None,\n",
       "                                            early_stopping_rounds=None,\n",
       "                                            enable_categorical=False,\n",
       "                                            eval_metric=None,\n",
       "                                            feature_types=None, gamma=None,\n",
       "                                            gpu_id=None, grow_policy=None,\n",
       "                                            importance_type=None,\n",
       "                                            interaction_constraints=None,\n",
       "                                            learning_rate=None, max_bin=None,\n",
       "                                            max_cat_threshold=None,\n",
       "                                            max_cat_to_onehot=None,\n",
       "                                            max_delta_step=None, max_depth=None,\n",
       "                                            max_leaves=None,\n",
       "                                            min_child_weight=None, missing=nan,\n",
       "                                            monotone_constraints=None,\n",
       "                                            n_estimators=100, n_jobs=None,\n",
       "                                            num_parallel_tree=None,\n",
       "                                            predictor=None, ...)),\n",
       "                              ('rf', RandomForestRegressor())])"
      ]
     },
     "execution_count": 166,
     "metadata": {},
     "output_type": "execute_result"
    }
   ],
   "source": [
    "stack_regressor = StackingRegressor(estimators=[('xb',xb_model),('rf',regressor)])\n",
    "stack_regressor.fit(X_train, Y_train)"
   ]
  },
  {
   "cell_type": "code",
   "execution_count": 167,
   "id": "c3db2e5b",
   "metadata": {},
   "outputs": [],
   "source": [
    "spredict_ed = stack_regressor.predict(X_test)"
   ]
  },
  {
   "cell_type": "code",
   "execution_count": 168,
   "id": "198fd991",
   "metadata": {},
   "outputs": [
    {
     "name": "stdout",
     "output_type": "stream",
     "text": [
      "[ 3.20995877  2.89525566  2.05237668  2.01832374  1.63699805  3.39738105\n",
      "  2.69794579  2.49837027  3.35378529  0.3357386   3.78310955  3.06186392\n",
      "  3.399748    2.76082123  2.72649651  2.59164163  2.69356912  1.30793287\n",
      "  2.93005339  2.1991541   2.9244707   3.99090675  2.72322245  5.12563134\n",
      "  2.90322824  2.64132819  2.7285033   2.96519331  2.83725207  2.36948483\n",
      "  2.72818004  3.28143316  2.94380595  1.17899677  2.31081177  3.00816945\n",
      "  3.10317536  2.03915453  3.1749124   7.67746395  2.82437392  3.47021222\n",
      "  3.45555409  6.16841886  3.23613582  7.63472337  2.69317205  2.89743275\n",
      "  7.35208365  2.61285315  0.95518483  2.35306205  3.04242527  3.49603218\n",
      "  2.50632829  2.94010918  2.70802109  3.35695815  2.05784323  2.79412626\n",
      "  3.4619476   1.45072841  2.91022582  1.47273277  3.42580887 10.18015489\n",
      "  2.84105581  2.76031136  3.30294058  7.48927274  3.35999072  4.12886949\n",
      "  1.40694957  2.68248764  2.73369519  2.64278515  3.25583788  8.09911475\n",
      "  1.06432623  6.97504379  1.96152981  3.01477815  2.67715961  3.03271003\n",
      "  2.96738111  6.59312867  6.00066379  2.54926564  7.62940814  2.04055773\n",
      "  2.87222678  2.84828473  2.97107538  1.5497193   2.79303942  3.39036336\n",
      "  7.5088086   2.92056872  7.98347934  3.84543569  2.63115684  2.70415206\n",
      "  2.9000257   1.8541137   7.32979278  1.33450696  1.23839626  0.82080128\n",
      "  2.9633164   2.23805515  3.5412488   3.30631954  7.9577535   3.38997601\n",
      "  3.93189669  3.56178898  3.25810068  3.13292037  3.33656745  0.96732931\n",
      "  8.56437389  3.48640261  2.76230164  1.63177745  3.46340755  2.03727722\n",
      "  3.76959063  0.45568425  2.50317858  1.44742833  3.47638924  2.75079284\n",
      "  3.82536986  3.72080068  2.94346966  3.3031904   3.05059518  2.85119029\n",
      "  2.74779648  2.83939186  2.25264032  3.40801504  2.53334268  6.90258684\n",
      "  2.71087359  1.56019941  2.72191106  2.9969084   1.76069373  3.36877777\n",
      "  6.53519304  6.30596088  3.48624241  2.5978791   2.56455755  3.06007842\n",
      "  5.33621491  2.88304548  2.91362816  3.43164728  3.46299781  2.71114492\n",
      "  3.43692042  3.01512101  3.00375993  1.9790843   4.10153429  2.87798191\n",
      "  1.69062582  3.74823559  7.17350907  2.74676095  4.48271723  2.82912027\n",
      "  3.39838418  3.66103055  2.87814269  6.92890221  2.91144412  3.41507386\n",
      "  1.70367257  1.21992633  1.31113711  4.99205538  2.75578393  6.96883541\n",
      "  2.94364723  2.93598722  2.59258608  1.97795026  7.67294221  2.9227438\n",
      "  3.3375203   6.31127175  6.56030552  2.84181156  3.5178967   3.48918051\n",
      "  2.81754852  7.72324542 11.94200619  3.78827427  3.01297601  2.290783\n",
      "  2.2208158   2.97769517  2.97362631  3.39282428  2.60608935  2.74937103\n",
      "  3.38697109  2.66872222  2.05247582  3.80013843  1.23207932  2.49846007\n",
      "  2.95856935  3.37816153  3.45852627  2.71861365  5.67408808  2.77795335\n",
      "  2.79713352  2.98224086  8.06172391  3.02571179  2.77859069  2.78994331\n",
      "  3.37655613  3.39490184  3.61188185  2.87934263  5.06062626  3.55505098\n",
      "  3.08917063  2.29054936  3.08666425  3.0266407 ]\n"
     ]
    }
   ],
   "source": [
    "print(spredict_ed)"
   ]
  },
  {
   "cell_type": "code",
   "execution_count": 169,
   "id": "581ffe3d",
   "metadata": {},
   "outputs": [
    {
     "data": {
      "text/plain": [
       "0.7454836043284965"
      ]
     },
     "execution_count": 169,
     "metadata": {},
     "output_type": "execute_result"
    }
   ],
   "source": [
    "#Test Scores\n",
    "mean_absolute_error(Y_test, spredict_ed)"
   ]
  },
  {
   "cell_type": "code",
   "execution_count": 170,
   "id": "dd736a2a",
   "metadata": {},
   "outputs": [
    {
     "data": {
      "text/plain": [
       "1.2507106620905604"
      ]
     },
     "execution_count": 170,
     "metadata": {},
     "output_type": "execute_result"
    }
   ],
   "source": [
    "sqrt(mean_squared_error(Y_test, spredict_ed))"
   ]
  },
  {
   "cell_type": "code",
   "execution_count": 171,
   "id": "5623e5a9",
   "metadata": {},
   "outputs": [
    {
     "name": "stdout",
     "output_type": "stream",
     "text": [
      "R squared error :  0.6857408764550351\n"
     ]
    }
   ],
   "source": [
    "# R squared error\n",
    "error_score = metrics.r2_score(Y_test, spredict_ed)\n",
    "print(\"R squared error : \", error_score)"
   ]
  },
  {
   "cell_type": "code",
   "execution_count": 172,
   "id": "aab9ccb3",
   "metadata": {},
   "outputs": [
    {
     "name": "stdout",
     "output_type": "stream",
     "text": [
      "SMAPE score: 26.135283276153437\n"
     ]
    }
   ],
   "source": [
    "smape_score = smape(Y_test, spredict_ed)\n",
    "print(\"SMAPE score:\", smape_score)"
   ]
  },
  {
   "cell_type": "code",
   "execution_count": 173,
   "id": "7b011d3f",
   "metadata": {},
   "outputs": [
    {
     "data": {
      "text/html": [
       "<style>#sk-container-id-9 {color: black;background-color: white;}#sk-container-id-9 pre{padding: 0;}#sk-container-id-9 div.sk-toggleable {background-color: white;}#sk-container-id-9 label.sk-toggleable__label {cursor: pointer;display: block;width: 100%;margin-bottom: 0;padding: 0.3em;box-sizing: border-box;text-align: center;}#sk-container-id-9 label.sk-toggleable__label-arrow:before {content: \"▸\";float: left;margin-right: 0.25em;color: #696969;}#sk-container-id-9 label.sk-toggleable__label-arrow:hover:before {color: black;}#sk-container-id-9 div.sk-estimator:hover label.sk-toggleable__label-arrow:before {color: black;}#sk-container-id-9 div.sk-toggleable__content {max-height: 0;max-width: 0;overflow: hidden;text-align: left;background-color: #f0f8ff;}#sk-container-id-9 div.sk-toggleable__content pre {margin: 0.2em;color: black;border-radius: 0.25em;background-color: #f0f8ff;}#sk-container-id-9 input.sk-toggleable__control:checked~div.sk-toggleable__content {max-height: 200px;max-width: 100%;overflow: auto;}#sk-container-id-9 input.sk-toggleable__control:checked~label.sk-toggleable__label-arrow:before {content: \"▾\";}#sk-container-id-9 div.sk-estimator input.sk-toggleable__control:checked~label.sk-toggleable__label {background-color: #d4ebff;}#sk-container-id-9 div.sk-label input.sk-toggleable__control:checked~label.sk-toggleable__label {background-color: #d4ebff;}#sk-container-id-9 input.sk-hidden--visually {border: 0;clip: rect(1px 1px 1px 1px);clip: rect(1px, 1px, 1px, 1px);height: 1px;margin: -1px;overflow: hidden;padding: 0;position: absolute;width: 1px;}#sk-container-id-9 div.sk-estimator {font-family: monospace;background-color: #f0f8ff;border: 1px dotted black;border-radius: 0.25em;box-sizing: border-box;margin-bottom: 0.5em;}#sk-container-id-9 div.sk-estimator:hover {background-color: #d4ebff;}#sk-container-id-9 div.sk-parallel-item::after {content: \"\";width: 100%;border-bottom: 1px solid gray;flex-grow: 1;}#sk-container-id-9 div.sk-label:hover label.sk-toggleable__label {background-color: #d4ebff;}#sk-container-id-9 div.sk-serial::before {content: \"\";position: absolute;border-left: 1px solid gray;box-sizing: border-box;top: 0;bottom: 0;left: 50%;z-index: 0;}#sk-container-id-9 div.sk-serial {display: flex;flex-direction: column;align-items: center;background-color: white;padding-right: 0.2em;padding-left: 0.2em;position: relative;}#sk-container-id-9 div.sk-item {position: relative;z-index: 1;}#sk-container-id-9 div.sk-parallel {display: flex;align-items: stretch;justify-content: center;background-color: white;position: relative;}#sk-container-id-9 div.sk-item::before, #sk-container-id-9 div.sk-parallel-item::before {content: \"\";position: absolute;border-left: 1px solid gray;box-sizing: border-box;top: 0;bottom: 0;left: 50%;z-index: -1;}#sk-container-id-9 div.sk-parallel-item {display: flex;flex-direction: column;z-index: 1;position: relative;background-color: white;}#sk-container-id-9 div.sk-parallel-item:first-child::after {align-self: flex-end;width: 50%;}#sk-container-id-9 div.sk-parallel-item:last-child::after {align-self: flex-start;width: 50%;}#sk-container-id-9 div.sk-parallel-item:only-child::after {width: 0;}#sk-container-id-9 div.sk-dashed-wrapped {border: 1px dashed gray;margin: 0 0.4em 0.5em 0.4em;box-sizing: border-box;padding-bottom: 0.4em;background-color: white;}#sk-container-id-9 div.sk-label label {font-family: monospace;font-weight: bold;display: inline-block;line-height: 1.2em;}#sk-container-id-9 div.sk-label-container {text-align: center;}#sk-container-id-9 div.sk-container {/* jupyter's `normalize.less` sets `[hidden] { display: none; }` but bootstrap.min.css set `[hidden] { display: none !important; }` so we also need the `!important` here to be able to override the default hidden behavior on the sphinx rendered scikit-learn.org. See: https://github.com/scikit-learn/scikit-learn/issues/21755 */display: inline-block !important;position: relative;}#sk-container-id-9 div.sk-text-repr-fallback {display: none;}</style><div id=\"sk-container-id-9\" class=\"sk-top-container\"><div class=\"sk-text-repr-fallback\"><pre>VotingRegressor(estimators=[(&#x27;rf&#x27;, RandomForestRegressor()),\n",
       "                            (&#x27;svm&#x27;, SVR(C=10, gamma=0.1))])</pre><b>In a Jupyter environment, please rerun this cell to show the HTML representation or trust the notebook. <br />On GitHub, the HTML representation is unable to render, please try loading this page with nbviewer.org.</b></div><div class=\"sk-container\" hidden><div class=\"sk-item sk-dashed-wrapped\"><div class=\"sk-label-container\"><div class=\"sk-label sk-toggleable\"><input class=\"sk-toggleable__control sk-hidden--visually\" id=\"sk-estimator-id-19\" type=\"checkbox\" ><label for=\"sk-estimator-id-19\" class=\"sk-toggleable__label sk-toggleable__label-arrow\">VotingRegressor</label><div class=\"sk-toggleable__content\"><pre>VotingRegressor(estimators=[(&#x27;rf&#x27;, RandomForestRegressor()),\n",
       "                            (&#x27;svm&#x27;, SVR(C=10, gamma=0.1))])</pre></div></div></div><div class=\"sk-parallel\"><div class=\"sk-parallel-item\"><div class=\"sk-item\"><div class=\"sk-label-container\"><div class=\"sk-label sk-toggleable\"><label>rf</label></div></div><div class=\"sk-serial\"><div class=\"sk-item\"><div class=\"sk-estimator sk-toggleable\"><input class=\"sk-toggleable__control sk-hidden--visually\" id=\"sk-estimator-id-20\" type=\"checkbox\" ><label for=\"sk-estimator-id-20\" class=\"sk-toggleable__label sk-toggleable__label-arrow\">RandomForestRegressor</label><div class=\"sk-toggleable__content\"><pre>RandomForestRegressor()</pre></div></div></div></div></div></div><div class=\"sk-parallel-item\"><div class=\"sk-item\"><div class=\"sk-label-container\"><div class=\"sk-label sk-toggleable\"><label>svm</label></div></div><div class=\"sk-serial\"><div class=\"sk-item\"><div class=\"sk-estimator sk-toggleable\"><input class=\"sk-toggleable__control sk-hidden--visually\" id=\"sk-estimator-id-21\" type=\"checkbox\" ><label for=\"sk-estimator-id-21\" class=\"sk-toggleable__label sk-toggleable__label-arrow\">SVR</label><div class=\"sk-toggleable__content\"><pre>SVR(C=10, gamma=0.1)</pre></div></div></div></div></div></div></div></div></div></div>"
      ],
      "text/plain": [
       "VotingRegressor(estimators=[('rf', RandomForestRegressor()),\n",
       "                            ('svm', SVR(C=10, gamma=0.1))])"
      ]
     },
     "execution_count": 173,
     "metadata": {},
     "output_type": "execute_result"
    }
   ],
   "source": [
    "vote_regressor = VotingRegressor(estimators=[('rf', regressor),('svm',svr)])\n",
    "vote_regressor.fit(X_train, Y_train)"
   ]
  },
  {
   "cell_type": "code",
   "execution_count": 174,
   "id": "9a50de43",
   "metadata": {},
   "outputs": [],
   "source": [
    "predict = vote_regressor.predict(X_test)"
   ]
  },
  {
   "cell_type": "code",
   "execution_count": 175,
   "id": "02aa1cb2",
   "metadata": {
    "scrolled": true
   },
   "outputs": [
    {
     "name": "stdout",
     "output_type": "stream",
     "text": [
      "[ 2.97120324  2.79305273  2.88710098  2.00222743  1.82047047  3.48968698\n",
      "  2.97402648  3.81919122  3.33128499  2.2099413   3.3691949   3.03713959\n",
      "  3.13320375  2.73996263  2.79315864  2.46298785  2.80660211  1.43195516\n",
      "  3.24883022  2.29450888  3.01377382  5.85270935  2.90732265  5.38365508\n",
      "  3.1264163   2.91561881  2.97059347  3.00983792  3.07138218  2.33535892\n",
      "  2.82994792  2.67514152  3.03105646  1.24349981  2.21447719  2.98208683\n",
      "  3.03209915  2.05796302  3.35653045  8.26831947  3.01670641  3.27020556\n",
      "  3.3524839   6.70241197  3.38039292  8.01011294  2.8700851   3.34062246\n",
      "  7.63533907  3.00440483  1.98309998  3.6806436   3.53712694  2.29273457\n",
      "  2.07520003  2.75140965  2.62250443  3.50272368  2.03357042  2.8447671\n",
      "  3.24228628  1.5477902   2.90431652  1.65676283  3.1780204   9.99626911\n",
      "  2.9589387   2.95117669  2.66838217  8.31060868  3.22208379  3.23243067\n",
      "  2.6507057   2.87165608  3.2325683   2.25157343  3.3511554   8.14121044\n",
      "  1.15185341  6.73044945  2.18602959  2.95325102  2.66939165  2.94755921\n",
      "  2.90263384  5.98982895  6.72525546  2.78965939  7.99139378  2.00625736\n",
      "  3.07249514  2.9683397   2.93832717  1.52306375  2.93862282  3.42509416\n",
      "  8.03358145  2.96253668  7.53317083  4.06448931  2.88392378  2.84606358\n",
      "  2.91383846  1.60135222  7.92194105  1.99717726  0.81305742  1.81471281\n",
      "  2.90018347  2.43700109  3.50911046  2.96843445  8.40731005  4.36982871\n",
      "  3.78954126  3.47777517  3.27295781  3.06530701  3.25843382  1.5283682\n",
      "  7.23557179  2.3796126   2.76309474  1.96146646  3.01694188  2.13331413\n",
      "  2.93241707  0.64869705  3.36561379  1.44416982  3.36941653  2.60366066\n",
      "  3.27869211  3.5393089   3.0371822   2.85114598  2.80347283  4.07227389\n",
      "  2.80643305  2.81035929  2.56386665  3.4065181   3.25277374  7.25024642\n",
      "  2.86978341  2.94557836  2.62065551  2.83165     2.0302484   3.4767366\n",
      "  7.30955075  5.96407658  3.40943835  3.50209925  2.72180038  2.93911134\n",
      "  5.30336099  2.89214434  2.60688446  3.21367992  3.15303031  2.95104741\n",
      "  3.36646856  3.2072255   2.57629099  2.0488418   5.6066436   3.0744723\n",
      "  2.22360713  3.23120854  6.38813368  4.10789711  4.84589647  2.66943053\n",
      "  3.36297786  2.92115853  2.92128843  7.86706314  3.18059339  3.27906992\n",
      "  1.68974435  1.81368627  1.12994579  4.54701024  3.05873715  6.79592138\n",
      "  3.12841547  2.62282802  2.5642699   2.24011715  6.69790623  3.02300473\n",
      "  3.05864551  6.00819084  6.43852595  2.7225434   2.87787702  3.23643199\n",
      "  3.1216229   6.94280297 11.75146356  3.16656288  3.37449672  1.74596978\n",
      "  2.24865042  3.11169103  3.15755602  3.48876578  2.87123771  3.17190479\n",
      "  3.24075437  2.51645821  2.02195237  3.92089912  1.28857092  3.75161476\n",
      "  2.95140207  3.25288966  3.44375534  2.89232852  6.71081629  2.82106094\n",
      "  2.96025751  3.03208347  6.85646554  3.01139816  2.84755207  2.5810212\n",
      "  3.42865114  3.12672238  3.63806371  2.53329259  3.64008313  3.20995781\n",
      "  3.11180609  3.00629911  3.01415061  3.0846993 ]\n"
     ]
    }
   ],
   "source": [
    "print(predict)"
   ]
  },
  {
   "cell_type": "code",
   "execution_count": 176,
   "id": "d395efea",
   "metadata": {},
   "outputs": [],
   "source": [
    "#Train Scores\n",
    "training_data_prediction = vote_regressor.predict(X_train)"
   ]
  },
  {
   "cell_type": "code",
   "execution_count": 177,
   "id": "b9ae3eb6",
   "metadata": {},
   "outputs": [
    {
     "data": {
      "text/plain": [
       "0.44096385841799124"
      ]
     },
     "execution_count": 177,
     "metadata": {},
     "output_type": "execute_result"
    }
   ],
   "source": [
    "mean_absolute_error(Y_train, training_data_prediction)"
   ]
  },
  {
   "cell_type": "code",
   "execution_count": 178,
   "id": "b0b8c270",
   "metadata": {},
   "outputs": [
    {
     "data": {
      "text/plain": [
       "0.7755554960417488"
      ]
     },
     "execution_count": 178,
     "metadata": {},
     "output_type": "execute_result"
    }
   ],
   "source": [
    "sqrt(mean_squared_error(Y_train, training_data_prediction))"
   ]
  },
  {
   "cell_type": "code",
   "execution_count": 179,
   "id": "22a97b2f",
   "metadata": {},
   "outputs": [
    {
     "name": "stdout",
     "output_type": "stream",
     "text": [
      "R squared error :  0.8801929563878744\n"
     ]
    }
   ],
   "source": [
    "# R squared error\n",
    "error_score = metrics.r2_score(Y_train, training_data_prediction)\n",
    "print(\"R squared error : \", error_score)"
   ]
  },
  {
   "cell_type": "code",
   "execution_count": 180,
   "id": "26868b07",
   "metadata": {},
   "outputs": [
    {
     "name": "stdout",
     "output_type": "stream",
     "text": [
      "SMAPE score: 26.09454593011365\n"
     ]
    }
   ],
   "source": [
    "smape_score = smape(Y_test, predict_ed)\n",
    "print(\"SMAPE score:\", smape_score)"
   ]
  },
  {
   "cell_type": "code",
   "execution_count": 181,
   "id": "b2bd7cd9",
   "metadata": {},
   "outputs": [
    {
     "data": {
      "text/plain": [
       "0.8163753147287868"
      ]
     },
     "execution_count": 181,
     "metadata": {},
     "output_type": "execute_result"
    }
   ],
   "source": [
    "#Test Scores\n",
    "mean_absolute_error(Y_test, predict)"
   ]
  },
  {
   "cell_type": "code",
   "execution_count": 182,
   "id": "be6694ea",
   "metadata": {},
   "outputs": [],
   "source": [
    "rms = sqrt(mean_squared_error(Y_test, predict))"
   ]
  },
  {
   "cell_type": "code",
   "execution_count": 183,
   "id": "c4c22af0",
   "metadata": {},
   "outputs": [
    {
     "name": "stdout",
     "output_type": "stream",
     "text": [
      "1.2009613522535998\n"
     ]
    }
   ],
   "source": [
    "print(rms)"
   ]
  },
  {
   "cell_type": "code",
   "execution_count": 184,
   "id": "5b373397",
   "metadata": {},
   "outputs": [
    {
     "name": "stdout",
     "output_type": "stream",
     "text": [
      "R squared error :  0.7102441224769869\n"
     ]
    }
   ],
   "source": [
    "# R squared error\n",
    "error_score = metrics.r2_score(Y_test, predict)\n",
    "print(\"R squared error : \", error_score)"
   ]
  },
  {
   "cell_type": "code",
   "execution_count": 185,
   "id": "22b50cfa",
   "metadata": {},
   "outputs": [
    {
     "name": "stdout",
     "output_type": "stream",
     "text": [
      "SMAPE score: 28.52572997634695\n"
     ]
    }
   ],
   "source": [
    "smape_score = smape(Y_test, predict)\n",
    "print(\"SMAPE score:\", smape_score)"
   ]
  },
  {
   "cell_type": "code",
   "execution_count": 186,
   "id": "546e56ec",
   "metadata": {},
   "outputs": [
    {
     "data": {
      "text/html": [
       "<style>#sk-container-id-10 {color: black;background-color: white;}#sk-container-id-10 pre{padding: 0;}#sk-container-id-10 div.sk-toggleable {background-color: white;}#sk-container-id-10 label.sk-toggleable__label {cursor: pointer;display: block;width: 100%;margin-bottom: 0;padding: 0.3em;box-sizing: border-box;text-align: center;}#sk-container-id-10 label.sk-toggleable__label-arrow:before {content: \"▸\";float: left;margin-right: 0.25em;color: #696969;}#sk-container-id-10 label.sk-toggleable__label-arrow:hover:before {color: black;}#sk-container-id-10 div.sk-estimator:hover label.sk-toggleable__label-arrow:before {color: black;}#sk-container-id-10 div.sk-toggleable__content {max-height: 0;max-width: 0;overflow: hidden;text-align: left;background-color: #f0f8ff;}#sk-container-id-10 div.sk-toggleable__content pre {margin: 0.2em;color: black;border-radius: 0.25em;background-color: #f0f8ff;}#sk-container-id-10 input.sk-toggleable__control:checked~div.sk-toggleable__content {max-height: 200px;max-width: 100%;overflow: auto;}#sk-container-id-10 input.sk-toggleable__control:checked~label.sk-toggleable__label-arrow:before {content: \"▾\";}#sk-container-id-10 div.sk-estimator input.sk-toggleable__control:checked~label.sk-toggleable__label {background-color: #d4ebff;}#sk-container-id-10 div.sk-label input.sk-toggleable__control:checked~label.sk-toggleable__label {background-color: #d4ebff;}#sk-container-id-10 input.sk-hidden--visually {border: 0;clip: rect(1px 1px 1px 1px);clip: rect(1px, 1px, 1px, 1px);height: 1px;margin: -1px;overflow: hidden;padding: 0;position: absolute;width: 1px;}#sk-container-id-10 div.sk-estimator {font-family: monospace;background-color: #f0f8ff;border: 1px dotted black;border-radius: 0.25em;box-sizing: border-box;margin-bottom: 0.5em;}#sk-container-id-10 div.sk-estimator:hover {background-color: #d4ebff;}#sk-container-id-10 div.sk-parallel-item::after {content: \"\";width: 100%;border-bottom: 1px solid gray;flex-grow: 1;}#sk-container-id-10 div.sk-label:hover label.sk-toggleable__label {background-color: #d4ebff;}#sk-container-id-10 div.sk-serial::before {content: \"\";position: absolute;border-left: 1px solid gray;box-sizing: border-box;top: 0;bottom: 0;left: 50%;z-index: 0;}#sk-container-id-10 div.sk-serial {display: flex;flex-direction: column;align-items: center;background-color: white;padding-right: 0.2em;padding-left: 0.2em;position: relative;}#sk-container-id-10 div.sk-item {position: relative;z-index: 1;}#sk-container-id-10 div.sk-parallel {display: flex;align-items: stretch;justify-content: center;background-color: white;position: relative;}#sk-container-id-10 div.sk-item::before, #sk-container-id-10 div.sk-parallel-item::before {content: \"\";position: absolute;border-left: 1px solid gray;box-sizing: border-box;top: 0;bottom: 0;left: 50%;z-index: -1;}#sk-container-id-10 div.sk-parallel-item {display: flex;flex-direction: column;z-index: 1;position: relative;background-color: white;}#sk-container-id-10 div.sk-parallel-item:first-child::after {align-self: flex-end;width: 50%;}#sk-container-id-10 div.sk-parallel-item:last-child::after {align-self: flex-start;width: 50%;}#sk-container-id-10 div.sk-parallel-item:only-child::after {width: 0;}#sk-container-id-10 div.sk-dashed-wrapped {border: 1px dashed gray;margin: 0 0.4em 0.5em 0.4em;box-sizing: border-box;padding-bottom: 0.4em;background-color: white;}#sk-container-id-10 div.sk-label label {font-family: monospace;font-weight: bold;display: inline-block;line-height: 1.2em;}#sk-container-id-10 div.sk-label-container {text-align: center;}#sk-container-id-10 div.sk-container {/* jupyter's `normalize.less` sets `[hidden] { display: none; }` but bootstrap.min.css set `[hidden] { display: none !important; }` so we also need the `!important` here to be able to override the default hidden behavior on the sphinx rendered scikit-learn.org. See: https://github.com/scikit-learn/scikit-learn/issues/21755 */display: inline-block !important;position: relative;}#sk-container-id-10 div.sk-text-repr-fallback {display: none;}</style><div id=\"sk-container-id-10\" class=\"sk-top-container\"><div class=\"sk-text-repr-fallback\"><pre>VotingRegressor(estimators=[(&#x27;rf&#x27;, RandomForestRegressor()),\n",
       "                            (&#x27;xb&#x27;,\n",
       "                             XGBRegressor(alpha=0.5, base_score=None,\n",
       "                                          booster=None, callbacks=None,\n",
       "                                          colsample_bylevel=None,\n",
       "                                          colsample_bynode=None,\n",
       "                                          colsample_bytree=None,\n",
       "                                          early_stopping_rounds=None,\n",
       "                                          enable_categorical=False,\n",
       "                                          eval_metric=None, feature_types=None,\n",
       "                                          gamma=None, gpu_id=None,\n",
       "                                          grow_policy=None,\n",
       "                                          importance_type=None,\n",
       "                                          interaction_constraints=None,\n",
       "                                          learning_rate=None, max_bin=None,\n",
       "                                          max_cat_threshold=None,\n",
       "                                          max_cat_to_onehot=None,\n",
       "                                          max_delta_step=None, max_depth=None,\n",
       "                                          max_leaves=None,\n",
       "                                          min_child_weight=None, missing=nan,\n",
       "                                          monotone_constraints=None,\n",
       "                                          n_estimators=100, n_jobs=None,\n",
       "                                          num_parallel_tree=None,\n",
       "                                          predictor=None, ...)),\n",
       "                            (&#x27;svm&#x27;, SVR(C=10, gamma=0.1))])</pre><b>In a Jupyter environment, please rerun this cell to show the HTML representation or trust the notebook. <br />On GitHub, the HTML representation is unable to render, please try loading this page with nbviewer.org.</b></div><div class=\"sk-container\" hidden><div class=\"sk-item sk-dashed-wrapped\"><div class=\"sk-label-container\"><div class=\"sk-label sk-toggleable\"><input class=\"sk-toggleable__control sk-hidden--visually\" id=\"sk-estimator-id-22\" type=\"checkbox\" ><label for=\"sk-estimator-id-22\" class=\"sk-toggleable__label sk-toggleable__label-arrow\">VotingRegressor</label><div class=\"sk-toggleable__content\"><pre>VotingRegressor(estimators=[(&#x27;rf&#x27;, RandomForestRegressor()),\n",
       "                            (&#x27;xb&#x27;,\n",
       "                             XGBRegressor(alpha=0.5, base_score=None,\n",
       "                                          booster=None, callbacks=None,\n",
       "                                          colsample_bylevel=None,\n",
       "                                          colsample_bynode=None,\n",
       "                                          colsample_bytree=None,\n",
       "                                          early_stopping_rounds=None,\n",
       "                                          enable_categorical=False,\n",
       "                                          eval_metric=None, feature_types=None,\n",
       "                                          gamma=None, gpu_id=None,\n",
       "                                          grow_policy=None,\n",
       "                                          importance_type=None,\n",
       "                                          interaction_constraints=None,\n",
       "                                          learning_rate=None, max_bin=None,\n",
       "                                          max_cat_threshold=None,\n",
       "                                          max_cat_to_onehot=None,\n",
       "                                          max_delta_step=None, max_depth=None,\n",
       "                                          max_leaves=None,\n",
       "                                          min_child_weight=None, missing=nan,\n",
       "                                          monotone_constraints=None,\n",
       "                                          n_estimators=100, n_jobs=None,\n",
       "                                          num_parallel_tree=None,\n",
       "                                          predictor=None, ...)),\n",
       "                            (&#x27;svm&#x27;, SVR(C=10, gamma=0.1))])</pre></div></div></div><div class=\"sk-parallel\"><div class=\"sk-parallel-item\"><div class=\"sk-item\"><div class=\"sk-label-container\"><div class=\"sk-label sk-toggleable\"><label>rf</label></div></div><div class=\"sk-serial\"><div class=\"sk-item\"><div class=\"sk-estimator sk-toggleable\"><input class=\"sk-toggleable__control sk-hidden--visually\" id=\"sk-estimator-id-23\" type=\"checkbox\" ><label for=\"sk-estimator-id-23\" class=\"sk-toggleable__label sk-toggleable__label-arrow\">RandomForestRegressor</label><div class=\"sk-toggleable__content\"><pre>RandomForestRegressor()</pre></div></div></div></div></div></div><div class=\"sk-parallel-item\"><div class=\"sk-item\"><div class=\"sk-label-container\"><div class=\"sk-label sk-toggleable\"><label>xb</label></div></div><div class=\"sk-serial\"><div class=\"sk-item\"><div class=\"sk-estimator sk-toggleable\"><input class=\"sk-toggleable__control sk-hidden--visually\" id=\"sk-estimator-id-24\" type=\"checkbox\" ><label for=\"sk-estimator-id-24\" class=\"sk-toggleable__label sk-toggleable__label-arrow\">XGBRegressor</label><div class=\"sk-toggleable__content\"><pre>XGBRegressor(alpha=0.5, base_score=None, booster=None, callbacks=None,\n",
       "             colsample_bylevel=None, colsample_bynode=None,\n",
       "             colsample_bytree=None, early_stopping_rounds=None,\n",
       "             enable_categorical=False, eval_metric=None, feature_types=None,\n",
       "             gamma=None, gpu_id=None, grow_policy=None, importance_type=None,\n",
       "             interaction_constraints=None, learning_rate=None, max_bin=None,\n",
       "             max_cat_threshold=None, max_cat_to_onehot=None,\n",
       "             max_delta_step=None, max_depth=None, max_leaves=None,\n",
       "             min_child_weight=None, missing=nan, monotone_constraints=None,\n",
       "             n_estimators=100, n_jobs=None, num_parallel_tree=None,\n",
       "             predictor=None, ...)</pre></div></div></div></div></div></div><div class=\"sk-parallel-item\"><div class=\"sk-item\"><div class=\"sk-label-container\"><div class=\"sk-label sk-toggleable\"><label>svm</label></div></div><div class=\"sk-serial\"><div class=\"sk-item\"><div class=\"sk-estimator sk-toggleable\"><input class=\"sk-toggleable__control sk-hidden--visually\" id=\"sk-estimator-id-25\" type=\"checkbox\" ><label for=\"sk-estimator-id-25\" class=\"sk-toggleable__label sk-toggleable__label-arrow\">SVR</label><div class=\"sk-toggleable__content\"><pre>SVR(C=10, gamma=0.1)</pre></div></div></div></div></div></div></div></div></div></div>"
      ],
      "text/plain": [
       "VotingRegressor(estimators=[('rf', RandomForestRegressor()),\n",
       "                            ('xb',\n",
       "                             XGBRegressor(alpha=0.5, base_score=None,\n",
       "                                          booster=None, callbacks=None,\n",
       "                                          colsample_bylevel=None,\n",
       "                                          colsample_bynode=None,\n",
       "                                          colsample_bytree=None,\n",
       "                                          early_stopping_rounds=None,\n",
       "                                          enable_categorical=False,\n",
       "                                          eval_metric=None, feature_types=None,\n",
       "                                          gamma=None, gpu_id=None,\n",
       "                                          grow_policy=None,\n",
       "                                          importance_type=None,\n",
       "                                          interaction_constraints=None,\n",
       "                                          learning_rate=None, max_bin=None,\n",
       "                                          max_cat_threshold=None,\n",
       "                                          max_cat_to_onehot=None,\n",
       "                                          max_delta_step=None, max_depth=None,\n",
       "                                          max_leaves=None,\n",
       "                                          min_child_weight=None, missing=nan,\n",
       "                                          monotone_constraints=None,\n",
       "                                          n_estimators=100, n_jobs=None,\n",
       "                                          num_parallel_tree=None,\n",
       "                                          predictor=None, ...)),\n",
       "                            ('svm', SVR(C=10, gamma=0.1))])"
      ]
     },
     "execution_count": 186,
     "metadata": {},
     "output_type": "execute_result"
    }
   ],
   "source": [
    "vote_regressor = VotingRegressor(estimators=[('rf', regressor),('xb',xb_model),('svm',svr)])\n",
    "vote_regressor.fit(X_train, Y_train)"
   ]
  },
  {
   "cell_type": "code",
   "execution_count": 187,
   "id": "86c32f52",
   "metadata": {},
   "outputs": [],
   "source": [
    "predict_ = vote_regressor.predict(X_test)"
   ]
  },
  {
   "cell_type": "code",
   "execution_count": 188,
   "id": "80488a73",
   "metadata": {},
   "outputs": [
    {
     "name": "stdout",
     "output_type": "stream",
     "text": [
      "[ 3.02310596  2.99015934  2.58086813  2.06007877  1.69727383  3.48516959\n",
      "  2.84801615  3.28085207  3.30010819  1.72825356  3.45986968  2.99586146\n",
      "  3.22962003  2.72136672  2.75010632  2.33073352  2.72452483  1.35258605\n",
      "  2.90413911  2.41621328  2.92913319  5.68968255  2.81320392  5.17715075\n",
      "  2.97497836  2.75196481  2.86592897  2.9800766   3.05822768  2.40861368\n",
      "  2.76960512  2.8869206   3.03095071  1.20421867  2.33744418  2.9594139\n",
      "  3.11068545  2.06866872  3.50291504  8.51163042  2.97928509  3.3767679\n",
      "  3.39186517  6.53199634  3.33094898  7.99120669  2.80764539  3.12133833\n",
      "  7.98851481  2.76402883  1.82977237  3.68596498  3.07525766  2.52321873\n",
      "  2.27354385  2.76809778  2.67678568  3.50295387  2.04563787  2.85117848\n",
      "  3.38412404  1.73128487  2.91170034  1.45696128  3.27529633  9.87348952\n",
      "  2.93432852  2.88847392  2.77278892  8.10116348  3.52789844  3.75302115\n",
      "  1.94759295  2.84360649  3.05972072  2.37828993  3.24252597  8.07792733\n",
      "  1.14908904  6.86128744  2.11193206  3.00480323  2.72268921  3.04695708\n",
      "  2.93746878  5.86267305  6.56089675  2.779794    7.9566057   1.98530012\n",
      "  2.91993195  2.95555788  2.97991879  1.52352485  2.82903666  3.40357052\n",
      "  8.05111006  2.98364329  7.69703001  4.07967609  2.78216479  2.88561479\n",
      "  2.88104808  1.53702303  7.54066858  1.45249745  1.18090746  2.02203678\n",
      "  2.9099102   2.38013221  3.55526964  3.1486474   8.24618836  4.6378377\n",
      "  3.83105697  3.57389878  3.26789865  3.15999739  3.29682671  1.19235146\n",
      "  7.74172215  3.02865349  2.74450556  1.84485478  3.24452039  2.11764264\n",
      "  3.23750181  0.35944152  3.1106168   1.43093379  3.43849773  2.63933343\n",
      "  3.48332536  3.64621897  3.05706887  2.92235345  2.81863279  3.56403653\n",
      "  2.8000031   2.84152029  2.62674825  3.45691077  2.85472593  7.43041459\n",
      "  2.7853215   2.72630792  2.64039144  2.81137643  1.8747341   3.43702369\n",
      "  7.11009582  6.26391182  3.53632864  3.23952689  2.656405    2.49532234\n",
      "  5.41219482  2.91768689  2.74100939  3.22155143  3.36182613  2.80017842\n",
      "  3.41881893  3.1535333   2.74444683  2.02590507  5.58223406  3.04538822\n",
      "  1.91707077  3.42420588  6.68068753  4.17489096  4.70493304  2.68077682\n",
      "  3.35409886  3.28252011  2.94950762  7.53091829  3.06980416  3.36007273\n",
      "  1.60409248  1.49416049  0.5147495   4.51753031  2.95180659  7.14401753\n",
      "  3.17135865  2.75495594  2.4670167   1.93693887  7.17578865  3.00120402\n",
      "  3.14206862  6.21247353  7.01467249  2.7137498   3.13294324  3.3427084\n",
      "  3.07620999  7.48174092 12.06840507  2.58450043  3.26323669  1.91494602\n",
      "  2.41884402  3.0821613   3.15667468  3.42065099  2.71829369  3.00192673\n",
      "  3.32626291  2.55938181  1.99483041  3.94175022  1.2667793   2.34014979\n",
      "  2.96142328  3.30950319  3.45142572  2.84831417  6.80527352  2.79649321\n",
      "  2.9275387   3.01597151  7.26122138  3.02509138  2.78478448  2.61442981\n",
      "  3.36035942  3.13442892  3.80043213  2.65326477  4.29118288  3.22625172\n",
      "  3.0871264   2.51728775  3.04989097  3.056898  ]\n"
     ]
    }
   ],
   "source": [
    "print(predict_)"
   ]
  },
  {
   "cell_type": "code",
   "execution_count": 189,
   "id": "e395b3d0",
   "metadata": {},
   "outputs": [],
   "source": [
    "#Train Scores\n",
    "training_data_prediction = vote_regressor.predict(X_train)"
   ]
  },
  {
   "cell_type": "code",
   "execution_count": 190,
   "id": "b4f81cc7",
   "metadata": {},
   "outputs": [
    {
     "data": {
      "text/plain": [
       "0.309527408802377"
      ]
     },
     "execution_count": 190,
     "metadata": {},
     "output_type": "execute_result"
    }
   ],
   "source": [
    "mean_absolute_error(Y_train, training_data_prediction)"
   ]
  },
  {
   "cell_type": "code",
   "execution_count": 191,
   "id": "da8a70a5",
   "metadata": {},
   "outputs": [
    {
     "data": {
      "text/plain": [
       "0.5344376962519376"
      ]
     },
     "execution_count": 191,
     "metadata": {},
     "output_type": "execute_result"
    }
   ],
   "source": [
    "sqrt(mean_squared_error(Y_train, training_data_prediction))"
   ]
  },
  {
   "cell_type": "code",
   "execution_count": 192,
   "id": "822e8448",
   "metadata": {},
   "outputs": [
    {
     "name": "stdout",
     "output_type": "stream",
     "text": [
      "R squared error :  0.9431080580358352\n"
     ]
    }
   ],
   "source": [
    "# R squared error\n",
    "error_score = metrics.r2_score(Y_train, training_data_prediction)\n",
    "print(\"R squared error : \", error_score)"
   ]
  },
  {
   "cell_type": "code",
   "execution_count": 193,
   "id": "6971a0bb",
   "metadata": {},
   "outputs": [
    {
     "name": "stdout",
     "output_type": "stream",
     "text": [
      "SMAPE score: 26.09454593011365\n"
     ]
    }
   ],
   "source": [
    "smape_score = smape(Y_test, predict_ed)\n",
    "print(\"SMAPE score:\", smape_score)"
   ]
  },
  {
   "cell_type": "code",
   "execution_count": 194,
   "id": "0564bab3",
   "metadata": {},
   "outputs": [
    {
     "data": {
      "text/plain": [
       "0.7542255283167384"
      ]
     },
     "execution_count": 194,
     "metadata": {},
     "output_type": "execute_result"
    }
   ],
   "source": [
    "#Test scores\n",
    "mean_absolute_error(Y_test, predict_)"
   ]
  },
  {
   "cell_type": "code",
   "execution_count": 195,
   "id": "6ea21436",
   "metadata": {},
   "outputs": [
    {
     "data": {
      "text/plain": [
       "1.145857315621323"
      ]
     },
     "execution_count": 195,
     "metadata": {},
     "output_type": "execute_result"
    }
   ],
   "source": [
    "sqrt(mean_squared_error(Y_test, predict_))"
   ]
  },
  {
   "cell_type": "code",
   "execution_count": 212,
   "id": "9ea9a7a8",
   "metadata": {},
   "outputs": [
    {
     "name": "stdout",
     "output_type": "stream",
     "text": [
      "R squared error :  0.7362240023704427\n"
     ]
    }
   ],
   "source": [
    "# R squared error\n",
    "error_score = metrics.r2_score(Y_test, predict_)\n",
    "print(\"R squared error : \", error_score)"
   ]
  },
  {
   "cell_type": "code",
   "execution_count": 213,
   "id": "9f04397a",
   "metadata": {},
   "outputs": [
    {
     "name": "stdout",
     "output_type": "stream",
     "text": [
      "SMAPE score: 26.647339713054592\n"
     ]
    }
   ],
   "source": [
    "smape_score = smape(Y_test, predict_)\n",
    "print(\"SMAPE score:\", smape_score)"
   ]
  },
  {
   "cell_type": "code",
   "execution_count": 214,
   "id": "aac52d85",
   "metadata": {},
   "outputs": [
    {
     "data": {
      "image/png": "[encoded data removed]",
      "text/plain": [
       "<Figure size 640x480 with 1 Axes>"
      ]
     },
     "metadata": {},
     "output_type": "display_data"
    }
   ],
   "source": [
    "#Visualising\n",
    "sns.regplot(x=Y_test, y=predict_)\n",
    "plt.xlabel(\"Actual\")\n",
    "plt.ylabel('Predicted')\n",
    "plt.title(\"ACtual vs predicted\")\n",
    "plt.show()"
   ]
  },
  {
   "cell_type": "code",
   "execution_count": 198,
   "id": "2ab2ef7a",
   "metadata": {},
   "outputs": [
    {
     "data": {
      "text/html": [
       "<style>#sk-container-id-11 {color: black;background-color: white;}#sk-container-id-11 pre{padding: 0;}#sk-container-id-11 div.sk-toggleable {background-color: white;}#sk-container-id-11 label.sk-toggleable__label {cursor: pointer;display: block;width: 100%;margin-bottom: 0;padding: 0.3em;box-sizing: border-box;text-align: center;}#sk-container-id-11 label.sk-toggleable__label-arrow:before {content: \"▸\";float: left;margin-right: 0.25em;color: #696969;}#sk-container-id-11 label.sk-toggleable__label-arrow:hover:before {color: black;}#sk-container-id-11 div.sk-estimator:hover label.sk-toggleable__label-arrow:before {color: black;}#sk-container-id-11 div.sk-toggleable__content {max-height: 0;max-width: 0;overflow: hidden;text-align: left;background-color: #f0f8ff;}#sk-container-id-11 div.sk-toggleable__content pre {margin: 0.2em;color: black;border-radius: 0.25em;background-color: #f0f8ff;}#sk-container-id-11 input.sk-toggleable__control:checked~div.sk-toggleable__content {max-height: 200px;max-width: 100%;overflow: auto;}#sk-container-id-11 input.sk-toggleable__control:checked~label.sk-toggleable__label-arrow:before {content: \"▾\";}#sk-container-id-11 div.sk-estimator input.sk-toggleable__control:checked~label.sk-toggleable__label {background-color: #d4ebff;}#sk-container-id-11 div.sk-label input.sk-toggleable__control:checked~label.sk-toggleable__label {background-color: #d4ebff;}#sk-container-id-11 input.sk-hidden--visually {border: 0;clip: rect(1px 1px 1px 1px);clip: rect(1px, 1px, 1px, 1px);height: 1px;margin: -1px;overflow: hidden;padding: 0;position: absolute;width: 1px;}#sk-container-id-11 div.sk-estimator {font-family: monospace;background-color: #f0f8ff;border: 1px dotted black;border-radius: 0.25em;box-sizing: border-box;margin-bottom: 0.5em;}#sk-container-id-11 div.sk-estimator:hover {background-color: #d4ebff;}#sk-container-id-11 div.sk-parallel-item::after {content: \"\";width: 100%;border-bottom: 1px solid gray;flex-grow: 1;}#sk-container-id-11 div.sk-label:hover label.sk-toggleable__label {background-color: #d4ebff;}#sk-container-id-11 div.sk-serial::before {content: \"\";position: absolute;border-left: 1px solid gray;box-sizing: border-box;top: 0;bottom: 0;left: 50%;z-index: 0;}#sk-container-id-11 div.sk-serial {display: flex;flex-direction: column;align-items: center;background-color: white;padding-right: 0.2em;padding-left: 0.2em;position: relative;}#sk-container-id-11 div.sk-item {position: relative;z-index: 1;}#sk-container-id-11 div.sk-parallel {display: flex;align-items: stretch;justify-content: center;background-color: white;position: relative;}#sk-container-id-11 div.sk-item::before, #sk-container-id-11 div.sk-parallel-item::before {content: \"\";position: absolute;border-left: 1px solid gray;box-sizing: border-box;top: 0;bottom: 0;left: 50%;z-index: -1;}#sk-container-id-11 div.sk-parallel-item {display: flex;flex-direction: column;z-index: 1;position: relative;background-color: white;}#sk-container-id-11 div.sk-parallel-item:first-child::after {align-self: flex-end;width: 50%;}#sk-container-id-11 div.sk-parallel-item:last-child::after {align-self: flex-start;width: 50%;}#sk-container-id-11 div.sk-parallel-item:only-child::after {width: 0;}#sk-container-id-11 div.sk-dashed-wrapped {border: 1px dashed gray;margin: 0 0.4em 0.5em 0.4em;box-sizing: border-box;padding-bottom: 0.4em;background-color: white;}#sk-container-id-11 div.sk-label label {font-family: monospace;font-weight: bold;display: inline-block;line-height: 1.2em;}#sk-container-id-11 div.sk-label-container {text-align: center;}#sk-container-id-11 div.sk-container {/* jupyter's `normalize.less` sets `[hidden] { display: none; }` but bootstrap.min.css set `[hidden] { display: none !important; }` so we also need the `!important` here to be able to override the default hidden behavior on the sphinx rendered scikit-learn.org. See: https://github.com/scikit-learn/scikit-learn/issues/21755 */display: inline-block !important;position: relative;}#sk-container-id-11 div.sk-text-repr-fallback {display: none;}</style><div id=\"sk-container-id-11\" class=\"sk-top-container\"><div class=\"sk-text-repr-fallback\"><pre>VotingRegressor(estimators=[(&#x27;xb&#x27;,\n",
       "                             XGBRegressor(alpha=0.5, base_score=None,\n",
       "                                          booster=None, callbacks=None,\n",
       "                                          colsample_bylevel=None,\n",
       "                                          colsample_bynode=None,\n",
       "                                          colsample_bytree=None,\n",
       "                                          early_stopping_rounds=None,\n",
       "                                          enable_categorical=False,\n",
       "                                          eval_metric=None, feature_types=None,\n",
       "                                          gamma=None, gpu_id=None,\n",
       "                                          grow_policy=None,\n",
       "                                          importance_type=None,\n",
       "                                          interaction_constraints=None,\n",
       "                                          learning_rate=None, max_bin=None,\n",
       "                                          max_cat_threshold=None,\n",
       "                                          max_cat_to_onehot=None,\n",
       "                                          max_delta_step=None, max_depth=None,\n",
       "                                          max_leaves=None,\n",
       "                                          min_child_weight=None, missing=nan,\n",
       "                                          monotone_constraints=None,\n",
       "                                          n_estimators=100, n_jobs=None,\n",
       "                                          num_parallel_tree=None,\n",
       "                                          predictor=None, ...)),\n",
       "                            (&#x27;rf&#x27;, RandomForestRegressor())])</pre><b>In a Jupyter environment, please rerun this cell to show the HTML representation or trust the notebook. <br />On GitHub, the HTML representation is unable to render, please try loading this page with nbviewer.org.</b></div><div class=\"sk-container\" hidden><div class=\"sk-item sk-dashed-wrapped\"><div class=\"sk-label-container\"><div class=\"sk-label sk-toggleable\"><input class=\"sk-toggleable__control sk-hidden--visually\" id=\"sk-estimator-id-26\" type=\"checkbox\" ><label for=\"sk-estimator-id-26\" class=\"sk-toggleable__label sk-toggleable__label-arrow\">VotingRegressor</label><div class=\"sk-toggleable__content\"><pre>VotingRegressor(estimators=[(&#x27;xb&#x27;,\n",
       "                             XGBRegressor(alpha=0.5, base_score=None,\n",
       "                                          booster=None, callbacks=None,\n",
       "                                          colsample_bylevel=None,\n",
       "                                          colsample_bynode=None,\n",
       "                                          colsample_bytree=None,\n",
       "                                          early_stopping_rounds=None,\n",
       "                                          enable_categorical=False,\n",
       "                                          eval_metric=None, feature_types=None,\n",
       "                                          gamma=None, gpu_id=None,\n",
       "                                          grow_policy=None,\n",
       "                                          importance_type=None,\n",
       "                                          interaction_constraints=None,\n",
       "                                          learning_rate=None, max_bin=None,\n",
       "                                          max_cat_threshold=None,\n",
       "                                          max_cat_to_onehot=None,\n",
       "                                          max_delta_step=None, max_depth=None,\n",
       "                                          max_leaves=None,\n",
       "                                          min_child_weight=None, missing=nan,\n",
       "                                          monotone_constraints=None,\n",
       "                                          n_estimators=100, n_jobs=None,\n",
       "                                          num_parallel_tree=None,\n",
       "                                          predictor=None, ...)),\n",
       "                            (&#x27;rf&#x27;, RandomForestRegressor())])</pre></div></div></div><div class=\"sk-parallel\"><div class=\"sk-parallel-item\"><div class=\"sk-item\"><div class=\"sk-label-container\"><div class=\"sk-label sk-toggleable\"><label>xb</label></div></div><div class=\"sk-serial\"><div class=\"sk-item\"><div class=\"sk-estimator sk-toggleable\"><input class=\"sk-toggleable__control sk-hidden--visually\" id=\"sk-estimator-id-27\" type=\"checkbox\" ><label for=\"sk-estimator-id-27\" class=\"sk-toggleable__label sk-toggleable__label-arrow\">XGBRegressor</label><div class=\"sk-toggleable__content\"><pre>XGBRegressor(alpha=0.5, base_score=None, booster=None, callbacks=None,\n",
       "             colsample_bylevel=None, colsample_bynode=None,\n",
       "             colsample_bytree=None, early_stopping_rounds=None,\n",
       "             enable_categorical=False, eval_metric=None, feature_types=None,\n",
       "             gamma=None, gpu_id=None, grow_policy=None, importance_type=None,\n",
       "             interaction_constraints=None, learning_rate=None, max_bin=None,\n",
       "             max_cat_threshold=None, max_cat_to_onehot=None,\n",
       "             max_delta_step=None, max_depth=None, max_leaves=None,\n",
       "             min_child_weight=None, missing=nan, monotone_constraints=None,\n",
       "             n_estimators=100, n_jobs=None, num_parallel_tree=None,\n",
       "             predictor=None, ...)</pre></div></div></div></div></div></div><div class=\"sk-parallel-item\"><div class=\"sk-item\"><div class=\"sk-label-container\"><div class=\"sk-label sk-toggleable\"><label>rf</label></div></div><div class=\"sk-serial\"><div class=\"sk-item\"><div class=\"sk-estimator sk-toggleable\"><input class=\"sk-toggleable__control sk-hidden--visually\" id=\"sk-estimator-id-28\" type=\"checkbox\" ><label for=\"sk-estimator-id-28\" class=\"sk-toggleable__label sk-toggleable__label-arrow\">RandomForestRegressor</label><div class=\"sk-toggleable__content\"><pre>RandomForestRegressor()</pre></div></div></div></div></div></div></div></div></div></div>"
      ],
      "text/plain": [
       "VotingRegressor(estimators=[('xb',\n",
       "                             XGBRegressor(alpha=0.5, base_score=None,\n",
       "                                          booster=None, callbacks=None,\n",
       "                                          colsample_bylevel=None,\n",
       "                                          colsample_bynode=None,\n",
       "                                          colsample_bytree=None,\n",
       "                                          early_stopping_rounds=None,\n",
       "                                          enable_categorical=False,\n",
       "                                          eval_metric=None, feature_types=None,\n",
       "                                          gamma=None, gpu_id=None,\n",
       "                                          grow_policy=None,\n",
       "                                          importance_type=None,\n",
       "                                          interaction_constraints=None,\n",
       "                                          learning_rate=None, max_bin=None,\n",
       "                                          max_cat_threshold=None,\n",
       "                                          max_cat_to_onehot=None,\n",
       "                                          max_delta_step=None, max_depth=None,\n",
       "                                          max_leaves=None,\n",
       "                                          min_child_weight=None, missing=nan,\n",
       "                                          monotone_constraints=None,\n",
       "                                          n_estimators=100, n_jobs=None,\n",
       "                                          num_parallel_tree=None,\n",
       "                                          predictor=None, ...)),\n",
       "                            ('rf', RandomForestRegressor())])"
      ]
     },
     "execution_count": 198,
     "metadata": {},
     "output_type": "execute_result"
    }
   ],
   "source": [
    "vote_regressor = VotingRegressor(estimators=[('xb',xb_model),('rf',regressor)])\n",
    "vote_regressor.fit(X_train, Y_train)"
   ]
  },
  {
   "cell_type": "code",
   "execution_count": 199,
   "id": "ccf041fb",
   "metadata": {},
   "outputs": [],
   "source": [
    "vpredict_ = vote_regressor.predict(X_test)"
   ]
  },
  {
   "cell_type": "code",
   "execution_count": 200,
   "id": "3248407a",
   "metadata": {},
   "outputs": [
    {
     "name": "stdout",
     "output_type": "stream",
     "text": [
      "[ 3.2097057   3.15168628  2.01940122  2.06134072  1.68344027  3.4383174\n",
      "  2.71294774  2.26873689  3.3036273   0.36038904  3.73580963  3.06895259\n",
      "  3.65672629  2.69583745  2.72900083  2.42821243  2.70358514  1.27817391\n",
      "  2.64677844  2.37271103  2.86312596  4.40046447  2.74753324  5.08742105\n",
      "  2.74240124  2.66812841  2.70734999  2.94142698  2.95305933  2.48496159\n",
      "  2.74610976  3.33673938  2.96721961  1.07472818  2.42218908  2.94353402\n",
      "  3.13862902  2.01364006  3.50314211  8.71707615  2.88877122  3.53329629\n",
      "  3.47111385  6.10573254  3.20923055  8.2138471   2.74638299  2.92063503\n",
      "  7.88898315  2.56053841  1.02735857  2.72985387  2.86805955  3.23779353\n",
      "  2.52631575  2.91308701  2.72897409  3.42380713  2.05678639  2.83115062\n",
      "  3.56004979  1.79273711  2.89358399  1.25557909  3.46122409 10.07301517\n",
      "  2.92225408  2.81368419  3.26865121  7.65598654  3.60256387  4.49395106\n",
      "  1.03288372  2.79320366  2.71291277  2.75511146  3.09343356  7.95408056\n",
      "  1.09838016  6.85648171  1.94546849  3.04490382  2.73324217  3.1446264\n",
      "  2.99181932  6.34218062  6.10543967  2.6286316   8.20976478  1.99909281\n",
      "  2.78100278  2.86439713  2.99235101  1.48192352  2.73008216  3.46251162\n",
      "  7.59783364  3.01402826  8.12382418  3.95697483  2.64802341  2.82980861\n",
      "  2.86073366  1.67233233  6.92401182  0.91296891  1.47500376  1.42529237\n",
      "  2.85763182  2.25314723  3.59334401  3.31933665  7.95357248  4.08077783\n",
      "  3.7467442   3.530723    3.31474016  3.21808907  3.36280624  0.83700898\n",
      "  8.68631143  3.53861764  2.77521359  1.45281571  3.5270387   2.06784982\n",
      "  3.92848565  0.06291523  2.53081141  1.49548086  3.52753007  2.72658949\n",
      "  3.87469594  3.72031956  2.9777211   3.23103419  3.12357636  2.8305309\n",
      "  2.77877161  2.86927115  2.38865572  3.47169805  1.98851516  7.35192546\n",
      "  2.67684885  1.94243351  2.66558165  2.93501464  1.80435275  3.37234893\n",
      "  6.66469298  6.67829115  3.6159046   2.53044109  2.50260712  2.54067216\n",
      "  5.61943124  2.879436    2.86297963  3.35339723  3.67265888  2.63327021\n",
      "  3.46915983  3.06617445  3.01832925  1.97391581  4.62365749  2.96046002\n",
      "  1.66754903  3.80430028  6.78429761  3.39528932  4.44315309  2.80933469\n",
      "  3.37887043  3.85397163  2.952973    6.87681429  2.95326285  3.47758917\n",
      "  1.63364436  1.21380446  0.43247846  5.08258523  2.83782273  7.57665491\n",
      "  3.1106725   3.00930588  2.51680515  1.75419116  7.74462676  2.9868513\n",
      "  3.33960743  6.48856946  7.12013278  2.81243129  3.56033784  3.51228061\n",
      "  2.94409209  8.08545842 12.35209405  2.94768776  3.01100831  2.05939926\n",
      "  2.43031562  3.02700092  2.958856    3.36231071  2.52185283  2.7871353\n",
      "  3.44363999  2.7006145   1.95924324  3.8664762   1.19694803  1.32135992\n",
      "  2.95773286  3.40091512  3.49468325  2.78059273  5.83034399  2.77567888\n",
      "  2.82200054  3.0269738   8.18876654  3.0683889   2.75477465  2.70362352\n",
      "  3.32043798  3.309421    3.78253449  2.89880457  5.74914119  3.46881977\n",
      "  3.0824835   2.08943251  3.12013584  3.0028477 ]\n"
     ]
    }
   ],
   "source": [
    "print(vpredict_)"
   ]
  },
  {
   "cell_type": "code",
   "execution_count": 201,
   "id": "47e4e52b",
   "metadata": {},
   "outputs": [
    {
     "data": {
      "text/plain": [
       "0.7150940422506016"
      ]
     },
     "execution_count": 201,
     "metadata": {},
     "output_type": "execute_result"
    }
   ],
   "source": [
    "#Test scores\n",
    "mean_absolute_error(Y_test, vpredict_)"
   ]
  },
  {
   "cell_type": "code",
   "execution_count": 204,
   "id": "8ca47c70",
   "metadata": {},
   "outputs": [
    {
     "data": {
      "text/plain": [
       "1.2148409160253788"
      ]
     },
     "execution_count": 204,
     "metadata": {},
     "output_type": "execute_result"
    }
   ],
   "source": [
    "sqrt(mean_squared_error(Y_test, vpredict_))"
   ]
  },
  {
   "cell_type": "code",
   "execution_count": 205,
   "id": "fa24e853",
   "metadata": {},
   "outputs": [
    {
     "name": "stdout",
     "output_type": "stream",
     "text": [
      "R squared error :  0.7035079780207087\n"
     ]
    }
   ],
   "source": [
    "# R squared error\n",
    "error_score = metrics.r2_score(Y_test, vpredict_)\n",
    "print(\"R squared error : \", error_score)"
   ]
  },
  {
   "cell_type": "code",
   "execution_count": 206,
   "id": "419aa3cf",
   "metadata": {},
   "outputs": [
    {
     "name": "stdout",
     "output_type": "stream",
     "text": [
      "SMAPE score: 25.714227810068476\n"
     ]
    }
   ],
   "source": [
    "smape_score = smape(Y_test, vpredict_)\n",
    "print(\"SMAPE score:\", smape_score)"
   ]
  },
  {
   "cell_type": "code",
   "execution_count": null,
   "id": "ca73b194",
   "metadata": {},
   "outputs": [],
   "source": []
  }
 ],
 "metadata": {
  "kernelspec": {
   "display_name": "Python 3 (ipykernel)",
   "language": "python",
   "name": "python3"
  },
  "language_info": {
   "codemirror_mode": {
    "name": "ipython",
    "version": 3
   },
   "file_extension": ".py",
   "mimetype": "text/x-python",
   "name": "python",
   "nbconvert_exporter": "python",
   "pygments_lexer": "ipython3",
   "version": "3.11.3"
  }
 },
 "nbformat": 4,
 "nbformat_minor": 5
}
